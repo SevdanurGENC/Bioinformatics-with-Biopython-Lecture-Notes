{
  "cells": [
    {
      "cell_type": "markdown",
      "id": "10b497d8",
      "metadata": {
        "id": "10b497d8"
      },
      "source": [
        "# COVID-19 Genome Analysis using Biopython\n"
      ]
    },
    {
      "cell_type": "markdown",
      "id": "f857fb09",
      "metadata": {
        "id": "f857fb09"
      },
      "source": [
        "### Fetch COVID-19 Genome from NCBI\n",
        "**MN908947** - covid-19 genome used here was sequenced from a sample of bronchoalveolar lavage fluid from a single patient who was a worker at the market and who was admitted to the Central Hospital of Wuhan on 26 December 2019"
      ]
    },
    {
      "cell_type": "code",
      "source": [
        "pip install biopython"
      ],
      "metadata": {
        "collapsed": true,
        "colab": {
          "base_uri": "https://localhost:8080/"
        },
        "id": "qKpa2LWQc-hN",
        "outputId": "22413279-fd03-4ee0-be2f-9b0246e71cde"
      },
      "id": "qKpa2LWQc-hN",
      "execution_count": 1,
      "outputs": [
        {
          "output_type": "stream",
          "name": "stdout",
          "text": [
            "Collecting biopython\n",
            "  Downloading biopython-1.84-cp310-cp310-manylinux_2_17_x86_64.manylinux2014_x86_64.whl.metadata (12 kB)\n",
            "Requirement already satisfied: numpy in /usr/local/lib/python3.10/dist-packages (from biopython) (1.26.4)\n",
            "Downloading biopython-1.84-cp310-cp310-manylinux_2_17_x86_64.manylinux2014_x86_64.whl (3.2 MB)\n",
            "\u001b[2K   \u001b[90m━━━━━━━━━━━━━━━━━━━━━━━━━━━━━━━━━━━━━━━━\u001b[0m \u001b[32m3.2/3.2 MB\u001b[0m \u001b[31m9.0 MB/s\u001b[0m eta \u001b[36m0:00:00\u001b[0m\n",
            "\u001b[?25hInstalling collected packages: biopython\n",
            "Successfully installed biopython-1.84\n"
          ]
        }
      ]
    },
    {
      "cell_type": "code",
      "execution_count": 3,
      "id": "82bdd4f2",
      "metadata": {
        "id": "82bdd4f2"
      },
      "outputs": [],
      "source": [
        "from Bio import Entrez, SeqIO\n",
        "handle = Entrez.efetch(db=\"nucleotide\", id=\"MN908947\", rettype=\"gb\", retmode=\"text\")\n",
        "recs = list(SeqIO.parse(handle, 'gb'))\n",
        "\n",
        "# https://www.ncbi.nlm.nih.gov/nuccore/MN908947.3/"
      ]
    },
    {
      "cell_type": "code",
      "execution_count": 4,
      "id": "5f454bae",
      "metadata": {
        "colab": {
          "base_uri": "https://localhost:8080/"
        },
        "id": "5f454bae",
        "outputId": "1f0dc58e-999b-41e6-b39e-91fe120082c6"
      },
      "outputs": [
        {
          "output_type": "execute_result",
          "data": {
            "text/plain": [
              "[SeqRecord(seq=Seq('ATTAAAGGTTTATACCTTCCCAGGTAACAAACCAACCAACTTTCGATCTCTTGT...AAA'), id='MN908947.3', name='MN908947', description='Severe acute respiratory syndrome coronavirus 2 isolate Wuhan-Hu-1, complete genome', dbxrefs=[])]"
            ]
          },
          "metadata": {},
          "execution_count": 4
        }
      ],
      "source": [
        "recs"
      ]
    },
    {
      "cell_type": "code",
      "execution_count": 5,
      "id": "6012639b",
      "metadata": {
        "id": "6012639b"
      },
      "outputs": [],
      "source": [
        "covid_dna = recs[0].seq"
      ]
    },
    {
      "cell_type": "code",
      "execution_count": 6,
      "id": "abdf293b",
      "metadata": {
        "colab": {
          "base_uri": "https://localhost:8080/"
        },
        "id": "abdf293b",
        "outputId": "6eff4604-a33b-4958-92c9-9ae3d88ad50e"
      },
      "outputs": [
        {
          "output_type": "execute_result",
          "data": {
            "text/plain": [
              "Seq('ATTAAAGGTTTATACCTTCCCAGGTAACAAACCAACCAACTTTCGATCTCTTGT...AAA')"
            ]
          },
          "metadata": {},
          "execution_count": 6
        }
      ],
      "source": [
        "covid_dna"
      ]
    },
    {
      "cell_type": "code",
      "execution_count": 7,
      "id": "f4e53b92",
      "metadata": {
        "colab": {
          "base_uri": "https://localhost:8080/"
        },
        "id": "f4e53b92",
        "outputId": "7c76fe72-1f74-45e4-b216-42251fb039aa"
      },
      "outputs": [
        {
          "output_type": "stream",
          "name": "stdout",
          "text": [
            "The genome of Covid-19 consists of 29903 nucleotides.\n"
          ]
        }
      ],
      "source": [
        "print(f'The genome of Covid-19 consists of {len(covid_dna)} nucleotides.')"
      ]
    },
    {
      "cell_type": "code",
      "execution_count": 8,
      "id": "2717de75",
      "metadata": {
        "colab": {
          "base_uri": "https://localhost:8080/"
        },
        "id": "2717de75",
        "outputId": "630dae3d-3e42-4dd1-c2bb-0dc9ea3c347e"
      },
      "outputs": [
        {
          "output_type": "execute_result",
          "data": {
            "text/plain": [
              "9241219.214400413"
            ]
          },
          "metadata": {},
          "execution_count": 8
        }
      ],
      "source": [
        "# molecular weight\n",
        "from Bio.SeqUtils import molecular_weight\n",
        "molecular_weight(covid_dna)"
      ]
    },
    {
      "cell_type": "code",
      "source": [
        "pip install SeqUtils"
      ],
      "metadata": {
        "colab": {
          "base_uri": "https://localhost:8080/"
        },
        "collapsed": true,
        "id": "fz3Hqb_ddSig",
        "outputId": "3b849834-8c90-4d84-fdc7-130ee376c2a7"
      },
      "id": "fz3Hqb_ddSig",
      "execution_count": 9,
      "outputs": [
        {
          "output_type": "stream",
          "name": "stdout",
          "text": [
            "Collecting SeqUtils\n",
            "  Downloading SeqUtils-1.0.11.tar.gz (4.1 kB)\n",
            "  Preparing metadata (setup.py) ... \u001b[?25l\u001b[?25hdone\n",
            "Collecting bleach==3.3.0 (from SeqUtils)\n",
            "  Downloading bleach-3.3.0-py2.py3-none-any.whl.metadata (23 kB)\n",
            "Collecting certifi==2020.12.5 (from SeqUtils)\n",
            "  Downloading certifi-2020.12.5-py2.py3-none-any.whl.metadata (3.0 kB)\n",
            "Collecting chardet==4.0.0 (from SeqUtils)\n",
            "  Downloading chardet-4.0.0-py2.py3-none-any.whl.metadata (3.5 kB)\n",
            "Collecting colorama==0.4.4 (from SeqUtils)\n",
            "  Downloading colorama-0.4.4-py2.py3-none-any.whl.metadata (14 kB)\n",
            "Collecting docutils==0.17.1 (from SeqUtils)\n",
            "  Downloading docutils-0.17.1-py2.py3-none-any.whl.metadata (2.9 kB)\n",
            "Collecting environ==1.0 (from SeqUtils)\n",
            "  Downloading environ-1.0.tar.gz (2.6 kB)\n",
            "  Preparing metadata (setup.py) ... \u001b[?25l\u001b[?25hdone\n",
            "Collecting idna==2.10 (from SeqUtils)\n",
            "  Downloading idna-2.10-py2.py3-none-any.whl.metadata (9.1 kB)\n",
            "Collecting importlib-metadata==4.0.1 (from SeqUtils)\n",
            "  Downloading importlib_metadata-4.0.1-py3-none-any.whl.metadata (3.8 kB)\n",
            "Collecting keyring==23.0.1 (from SeqUtils)\n",
            "  Downloading keyring-23.0.1-py3-none-any.whl.metadata (18 kB)\n",
            "Collecting packaging==20.9 (from SeqUtils)\n",
            "  Downloading packaging-20.9-py2.py3-none-any.whl.metadata (13 kB)\n",
            "Collecting pkginfo==1.7.0 (from SeqUtils)\n",
            "  Downloading pkginfo-1.7.0-py2.py3-none-any.whl.metadata (8.8 kB)\n",
            "Collecting Pygments==2.9.0 (from SeqUtils)\n",
            "  Downloading Pygments-2.9.0-py3-none-any.whl.metadata (1.9 kB)\n",
            "Collecting pyparsing==2.4.7 (from SeqUtils)\n",
            "  Downloading pyparsing-2.4.7-py2.py3-none-any.whl.metadata (3.6 kB)\n",
            "Collecting readme-renderer==29.0 (from SeqUtils)\n",
            "  Downloading readme_renderer-29.0-py2.py3-none-any.whl.metadata (2.6 kB)\n",
            "Collecting requests==2.25.1 (from SeqUtils)\n",
            "  Downloading requests-2.25.1-py2.py3-none-any.whl.metadata (4.2 kB)\n",
            "Collecting requests-toolbelt==0.9.1 (from SeqUtils)\n",
            "  Downloading requests_toolbelt-0.9.1-py2.py3-none-any.whl.metadata (13 kB)\n",
            "Collecting rfc3986==1.5.0 (from SeqUtils)\n",
            "  Downloading rfc3986-1.5.0-py2.py3-none-any.whl.metadata (6.5 kB)\n",
            "Requirement already satisfied: six==1.16.0 in /usr/local/lib/python3.10/dist-packages (from SeqUtils) (1.16.0)\n",
            "Collecting tqdm==4.60.0 (from SeqUtils)\n",
            "  Downloading tqdm-4.60.0-py2.py3-none-any.whl.metadata (57 kB)\n",
            "\u001b[2K     \u001b[90m━━━━━━━━━━━━━━━━━━━━━━━━━━━━━━━━━━━━━━━━\u001b[0m \u001b[32m57.5/57.5 kB\u001b[0m \u001b[31m2.5 MB/s\u001b[0m eta \u001b[36m0:00:00\u001b[0m\n",
            "\u001b[?25hCollecting twine==3.4.1 (from SeqUtils)\n",
            "  Downloading twine-3.4.1-py3-none-any.whl.metadata (3.4 kB)\n",
            "Collecting urllib3==1.26.4 (from SeqUtils)\n",
            "  Downloading urllib3-1.26.4-py2.py3-none-any.whl.metadata (43 kB)\n",
            "\u001b[2K     \u001b[90m━━━━━━━━━━━━━━━━━━━━━━━━━━━━━━━━━━━━━━━━\u001b[0m \u001b[32m43.4/43.4 kB\u001b[0m \u001b[31m3.3 MB/s\u001b[0m eta \u001b[36m0:00:00\u001b[0m\n",
            "\u001b[?25hRequirement already satisfied: webencodings==0.5.1 in /usr/local/lib/python3.10/dist-packages (from SeqUtils) (0.5.1)\n",
            "Collecting zipp==3.4.1 (from SeqUtils)\n",
            "  Downloading zipp-3.4.1-py3-none-any.whl.metadata (2.1 kB)\n",
            "Requirement already satisfied: SecretStorage>=3.2 in /usr/lib/python3/dist-packages (from keyring==23.0.1->SeqUtils) (3.3.1)\n",
            "Requirement already satisfied: jeepney>=0.4.2 in /usr/lib/python3/dist-packages (from keyring==23.0.1->SeqUtils) (0.7.1)\n",
            "Downloading bleach-3.3.0-py2.py3-none-any.whl (283 kB)\n",
            "\u001b[2K   \u001b[90m━━━━━━━━━━━━━━━━━━━━━━━━━━━━━━━━━━━━━━━━\u001b[0m \u001b[32m283.5/283.5 kB\u001b[0m \u001b[31m9.7 MB/s\u001b[0m eta \u001b[36m0:00:00\u001b[0m\n",
            "\u001b[?25hDownloading certifi-2020.12.5-py2.py3-none-any.whl (147 kB)\n",
            "\u001b[2K   \u001b[90m━━━━━━━━━━━━━━━━━━━━━━━━━━━━━━━━━━━━━━━━\u001b[0m \u001b[32m147.5/147.5 kB\u001b[0m \u001b[31m13.1 MB/s\u001b[0m eta \u001b[36m0:00:00\u001b[0m\n",
            "\u001b[?25hDownloading chardet-4.0.0-py2.py3-none-any.whl (178 kB)\n",
            "\u001b[2K   \u001b[90m━━━━━━━━━━━━━━━━━━━━━━━━━━━━━━━━━━━━━━━━\u001b[0m \u001b[32m178.7/178.7 kB\u001b[0m \u001b[31m15.6 MB/s\u001b[0m eta \u001b[36m0:00:00\u001b[0m\n",
            "\u001b[?25hDownloading colorama-0.4.4-py2.py3-none-any.whl (16 kB)\n",
            "Downloading docutils-0.17.1-py2.py3-none-any.whl (575 kB)\n",
            "\u001b[2K   \u001b[90m━━━━━━━━━━━━━━━━━━━━━━━━━━━━━━━━━━━━━━━━\u001b[0m \u001b[32m575.5/575.5 kB\u001b[0m \u001b[31m21.5 MB/s\u001b[0m eta \u001b[36m0:00:00\u001b[0m\n",
            "\u001b[?25hDownloading idna-2.10-py2.py3-none-any.whl (58 kB)\n",
            "\u001b[2K   \u001b[90m━━━━━━━━━━━━━━━━━━━━━━━━━━━━━━━━━━━━━━━━\u001b[0m \u001b[32m58.8/58.8 kB\u001b[0m \u001b[31m4.3 MB/s\u001b[0m eta \u001b[36m0:00:00\u001b[0m\n",
            "\u001b[?25hDownloading importlib_metadata-4.0.1-py3-none-any.whl (16 kB)\n",
            "Downloading keyring-23.0.1-py3-none-any.whl (33 kB)\n",
            "Downloading packaging-20.9-py2.py3-none-any.whl (40 kB)\n",
            "\u001b[2K   \u001b[90m━━━━━━━━━━━━━━━━━━━━━━━━━━━━━━━━━━━━━━━━\u001b[0m \u001b[32m40.9/40.9 kB\u001b[0m \u001b[31m2.7 MB/s\u001b[0m eta \u001b[36m0:00:00\u001b[0m\n",
            "\u001b[?25hDownloading pkginfo-1.7.0-py2.py3-none-any.whl (25 kB)\n",
            "Downloading Pygments-2.9.0-py3-none-any.whl (1.0 MB)\n",
            "\u001b[2K   \u001b[90m━━━━━━━━━━━━━━━━━━━━━━━━━━━━━━━━━━━━━━━━\u001b[0m \u001b[32m1.0/1.0 MB\u001b[0m \u001b[31m35.3 MB/s\u001b[0m eta \u001b[36m0:00:00\u001b[0m\n",
            "\u001b[?25hDownloading pyparsing-2.4.7-py2.py3-none-any.whl (67 kB)\n",
            "\u001b[2K   \u001b[90m━━━━━━━━━━━━━━━━━━━━━━━━━━━━━━━━━━━━━━━━\u001b[0m \u001b[32m67.8/67.8 kB\u001b[0m \u001b[31m4.7 MB/s\u001b[0m eta \u001b[36m0:00:00\u001b[0m\n",
            "\u001b[?25hDownloading readme_renderer-29.0-py2.py3-none-any.whl (15 kB)\n",
            "Downloading requests-2.25.1-py2.py3-none-any.whl (61 kB)\n",
            "\u001b[2K   \u001b[90m━━━━━━━━━━━━━━━━━━━━━━━━━━━━━━━━━━━━━━━━\u001b[0m \u001b[32m61.2/61.2 kB\u001b[0m \u001b[31m4.5 MB/s\u001b[0m eta \u001b[36m0:00:00\u001b[0m\n",
            "\u001b[?25hDownloading requests_toolbelt-0.9.1-py2.py3-none-any.whl (54 kB)\n",
            "\u001b[2K   \u001b[90m━━━━━━━━━━━━━━━━━━━━━━━━━━━━━━━━━━━━━━━━\u001b[0m \u001b[32m54.3/54.3 kB\u001b[0m \u001b[31m4.5 MB/s\u001b[0m eta \u001b[36m0:00:00\u001b[0m\n",
            "\u001b[?25hDownloading rfc3986-1.5.0-py2.py3-none-any.whl (31 kB)\n",
            "Downloading tqdm-4.60.0-py2.py3-none-any.whl (75 kB)\n",
            "\u001b[2K   \u001b[90m━━━━━━━━━━━━━━━━━━━━━━━━━━━━━━━━━━━━━━━━\u001b[0m \u001b[32m75.8/75.8 kB\u001b[0m \u001b[31m6.7 MB/s\u001b[0m eta \u001b[36m0:00:00\u001b[0m\n",
            "\u001b[?25hDownloading twine-3.4.1-py3-none-any.whl (34 kB)\n",
            "Downloading urllib3-1.26.4-py2.py3-none-any.whl (153 kB)\n",
            "\u001b[2K   \u001b[90m━━━━━━━━━━━━━━━━━━━━━━━━━━━━━━━━━━━━━━━━\u001b[0m \u001b[32m153.3/153.3 kB\u001b[0m \u001b[31m11.7 MB/s\u001b[0m eta \u001b[36m0:00:00\u001b[0m\n",
            "\u001b[?25hDownloading zipp-3.4.1-py3-none-any.whl (5.2 kB)\n",
            "Building wheels for collected packages: SeqUtils, environ\n",
            "  \u001b[1;31merror\u001b[0m: \u001b[1msubprocess-exited-with-error\u001b[0m\n",
            "  \n",
            "  \u001b[31m×\u001b[0m \u001b[32mpython setup.py bdist_wheel\u001b[0m did not run successfully.\n",
            "  \u001b[31m│\u001b[0m exit code: \u001b[1;36m1\u001b[0m\n",
            "  \u001b[31m╰─>\u001b[0m See above for output.\n",
            "  \n",
            "  \u001b[1;35mnote\u001b[0m: This error originates from a subprocess, and is likely not a problem with pip.\n",
            "  Building wheel for SeqUtils (setup.py) ... \u001b[?25lerror\n",
            "\u001b[31m  ERROR: Failed building wheel for SeqUtils\u001b[0m\u001b[31m\n",
            "\u001b[0m\u001b[?25h  Running setup.py clean for SeqUtils\n",
            "  Building wheel for environ (setup.py) ... \u001b[?25l\u001b[?25hdone\n",
            "  Created wheel for environ: filename=environ-1.0-py3-none-any.whl size=3218 sha256=c0a182db10a511d81c0000ea7f00109d6b4a4d7302abb0919649f421f89bea74\n",
            "  Stored in directory: /root/.cache/pip/wheels/31/8e/6f/7d72939f5b7243335bdd13ba421923eb9456590ad69a2918ae\n",
            "Successfully built environ\n",
            "Failed to build SeqUtils\n",
            "\u001b[31mERROR: ERROR: Failed to build installable wheels for some pyproject.toml based projects (SeqUtils)\u001b[0m\u001b[31m\n",
            "\u001b[0m"
          ]
        }
      ]
    },
    {
      "cell_type": "code",
      "source": [
        "pip install git+https://github.com/nextgenusfs/funannotate.git --upgrade --force --no-deps"
      ],
      "metadata": {
        "colab": {
          "base_uri": "https://localhost:8080/"
        },
        "collapsed": true,
        "id": "v_YDpyTidoda",
        "outputId": "3ebeb51b-cbf0-404f-8f72-65ae97651053"
      },
      "id": "v_YDpyTidoda",
      "execution_count": 10,
      "outputs": [
        {
          "output_type": "stream",
          "name": "stdout",
          "text": [
            "Collecting git+https://github.com/nextgenusfs/funannotate.git\n",
            "  Cloning https://github.com/nextgenusfs/funannotate.git to /tmp/pip-req-build-50msbpq5\n",
            "  Running command git clone --filter=blob:none --quiet https://github.com/nextgenusfs/funannotate.git /tmp/pip-req-build-50msbpq5\n",
            "  Resolved https://github.com/nextgenusfs/funannotate.git to commit a6dc154d9652ba48b03a76e76573946b4e23427c\n",
            "  Preparing metadata (setup.py) ... \u001b[?25l\u001b[?25hdone\n",
            "INFO: pip is looking at multiple versions of funannotate to determine which version is compatible with other requirements. This could take a while.\n",
            "\u001b[31mERROR: Package 'funannotate' requires a different Python: 3.10.12 not in '<3.10,>=3.6.0'\u001b[0m\u001b[31m\n",
            "\u001b[0m"
          ]
        }
      ]
    },
    {
      "cell_type": "code",
      "execution_count": 11,
      "id": "15a52c3b",
      "metadata": {
        "colab": {
          "base_uri": "https://localhost:8080/"
        },
        "id": "15a52c3b",
        "outputId": "7b39578e-8abd-4b89-de6b-817576c693f6"
      },
      "outputs": [
        {
          "output_type": "execute_result",
          "data": {
            "text/plain": [
              "37.97277865097147"
            ]
          },
          "metadata": {},
          "execution_count": 11
        }
      ],
      "source": [
        "# GC content - higher GC content implies more stable molecule due to G and C forming triple hydrogen bonds\n",
        "# GC içeriği - daha yüksek GC içeriği, G ve C'nin üçlü hidrojen bağları oluşturması nedeniyle daha kararlı molekül anlamına gelir\n",
        "try:\n",
        "    from Bio.SeqUtils import gc_fraction\n",
        "    def GC(sequence):\n",
        "        return 100 * gc_fraction(sequence, ambiguous=\"ignore\")\n",
        "except ImportError:\n",
        "    # Older versions have this:\n",
        "    from Bio.SeqUtils import GC\n",
        "\n",
        "#from Bio.SeqUtils import GC\n",
        "GC(covid_dna)"
      ]
    },
    {
      "cell_type": "markdown",
      "id": "1a0c848d",
      "metadata": {
        "id": "1a0c848d"
      },
      "source": [
        "### Distribution of nucleotides in COVID-19 genome"
      ]
    },
    {
      "cell_type": "code",
      "execution_count": 12,
      "id": "8a4ff4e5",
      "metadata": {
        "id": "8a4ff4e5"
      },
      "outputs": [],
      "source": [
        "count_nucleotides = {\n",
        "    'A': covid_dna.count('A'),\n",
        "    'T': covid_dna.count('T'),\n",
        "    'C': covid_dna.count('C'),\n",
        "    'G': covid_dna.count('G')\n",
        "}"
      ]
    },
    {
      "cell_type": "code",
      "execution_count": 13,
      "id": "fa9ffb4b",
      "metadata": {
        "colab": {
          "base_uri": "https://localhost:8080/"
        },
        "id": "fa9ffb4b",
        "outputId": "a486a558-45d5-47c4-918f-3e57b725dac2"
      },
      "outputs": [
        {
          "output_type": "execute_result",
          "data": {
            "text/plain": [
              "{'A': 8954, 'T': 9594, 'C': 5492, 'G': 5863}"
            ]
          },
          "metadata": {},
          "execution_count": 13
        }
      ],
      "source": [
        "count_nucleotides"
      ]
    },
    {
      "cell_type": "code",
      "execution_count": 14,
      "id": "b84945e7",
      "metadata": {
        "colab": {
          "base_uri": "https://localhost:8080/",
          "height": 490
        },
        "id": "b84945e7",
        "outputId": "6709f284-8ace-4a74-f289-62f5471620b5"
      },
      "outputs": [
        {
          "output_type": "execute_result",
          "data": {
            "text/plain": [
              "Text(0.5, 1.0, 'Nucleotide Frequency')"
            ]
          },
          "metadata": {},
          "execution_count": 14
        },
        {
          "output_type": "display_data",
          "data": {
            "text/plain": [
              "<Figure size 640x480 with 1 Axes>"
            ],
            "image/png": "[encoded data removed]"
          },
          "metadata": {}
        }
      ],
      "source": [
        "import matplotlib.pyplot as plt\n",
        "width = 0.5\n",
        "plt.bar(count_nucleotides.keys(), count_nucleotides.values(), width, color=['b', 'r', 'm', 'c'])\n",
        "plt.xlabel('Nucleotide')\n",
        "plt.ylabel('Frequency')\n",
        "plt.title('Nucleotide Frequency')"
      ]
    },
    {
      "cell_type": "markdown",
      "id": "95282b5a",
      "metadata": {
        "id": "95282b5a"
      },
      "source": [
        "First observation: The frequency of the nucleotides A and T is higher than the frequency of C and G."
      ]
    },
    {
      "cell_type": "markdown",
      "id": "4fd9d2e7",
      "metadata": {
        "id": "4fd9d2e7"
      },
      "source": [
        "### Genetic Information - Gene Expression - Protein\n",
        "\n",
        "Understanding this **genetic information** is the key to find cures and vaccines. So, the question here is: How do we extract information from this long sequence of letters?\n",
        "\n",
        "This process is called **gene expression**: Gene expression is the process by which information from **a gene** is used in the synthesis of a functional **gene product**. These products are often **proteins**"
      ]
    },
    {
      "cell_type": "markdown",
      "id": "f3dceb27",
      "metadata": {
        "id": "f3dceb27"
      },
      "source": [
        "### Transcription\n",
        "Transcription is the first step in gene expression. It involves copying a gene's DNA sequence to make an RNA molecule."
      ]
    },
    {
      "cell_type": "code",
      "execution_count": 15,
      "id": "37abeb90",
      "metadata": {
        "colab": {
          "base_uri": "https://localhost:8080/"
        },
        "id": "37abeb90",
        "outputId": "b1fc778e-3c8b-4d99-bb37-e863045badb4"
      },
      "outputs": [
        {
          "output_type": "execute_result",
          "data": {
            "text/plain": [
              "Seq('AUUAAAGGUUUAUACCUUCCCAGGUAACAAACCAACCAACUUUCGAUCUCUUGU...AAA')"
            ]
          },
          "metadata": {},
          "execution_count": 15
        }
      ],
      "source": [
        "covid_mrna = covid_dna.transcribe()\n",
        "covid_mrna\n",
        "#thymine will be replaced by uracil"
      ]
    },
    {
      "cell_type": "markdown",
      "id": "f522814b",
      "metadata": {
        "id": "f522814b"
      },
      "source": [
        "### Translation\n",
        "Translation is the process that takes the information passed from DNA as messenger RNA and turns it into a series of amino acids."
      ]
    },
    {
      "cell_type": "code",
      "execution_count": 16,
      "id": "22412b63",
      "metadata": {
        "colab": {
          "base_uri": "https://localhost:8080/"
        },
        "id": "22412b63",
        "outputId": "f8b70459-5e40-4217-a9b3-45ff67f30e15"
      },
      "outputs": [
        {
          "output_type": "stream",
          "name": "stderr",
          "text": [
            "/usr/local/lib/python3.10/dist-packages/Bio/Seq.py:2879: BiopythonWarning: Partial codon, len(sequence) not a multiple of three. Explicitly trim the sequence or add trailing N before translation. This may become an error in future.\n",
            "  warnings.warn(\n"
          ]
        },
        {
          "output_type": "execute_result",
          "data": {
            "text/plain": [
              "Seq('IKGLYLPR*QTNQLSISCRSVL*TNFKICVAVTRLHA*CTHAV*LITNYCR*QD...KKK')"
            ]
          },
          "metadata": {},
          "execution_count": 16
        }
      ],
      "source": [
        "covid_aa = covid_mrna.translate()\n",
        "covid_aa"
      ]
    },
    {
      "cell_type": "code",
      "execution_count": 20,
      "id": "8045a7de",
      "metadata": {
        "colab": {
          "base_uri": "https://localhost:8080/"
        },
        "id": "8045a7de",
        "outputId": "c306b611-7c7e-43a3-9a5f-0d5e77e20b1f"
      },
      "outputs": [
        {
          "output_type": "execute_result",
          "data": {
            "text/plain": [
              "[('L', 886),\n",
              " ('S', 810),\n",
              " ('*', 774),\n",
              " ('T', 679),\n",
              " ('C', 635),\n",
              " ('F', 593),\n",
              " ('R', 558),\n",
              " ('V', 548),\n",
              " ('Y', 505),\n",
              " ('N', 472)]"
            ]
          },
          "metadata": {},
          "execution_count": 20
        }
      ],
      "source": [
        "#most common amino acids\n",
        "from collections import Counter\n",
        "common_amino = Counter(covid_aa)\n",
        "common_amino.most_common(10)"
      ]
    },
    {
      "cell_type": "code",
      "execution_count": 22,
      "id": "02ef9e78",
      "metadata": {
        "colab": {
          "base_uri": "https://localhost:8080/",
          "height": 490
        },
        "id": "02ef9e78",
        "outputId": "4fbde553-2507-45ea-e865-8fbf2f8a892d"
      },
      "outputs": [
        {
          "output_type": "execute_result",
          "data": {
            "text/plain": [
              "Text(0.5, 1.0, 'Protein Sequence Frequency')"
            ]
          },
          "metadata": {},
          "execution_count": 22
        },
        {
          "output_type": "display_data",
          "data": {
            "text/plain": [
              "<Figure size 640x480 with 1 Axes>"
            ],
            "image/png": "[encoded data removed]"
          },
          "metadata": {}
        }
      ],
      "source": [
        "del common_amino['*']\n",
        "\n",
        "width = 0.5\n",
        "plt.bar(common_amino.keys(), common_amino.values(), width, color=['b', 'r', 'm', 'c'])\n",
        "plt.xlabel('Amino Acid')\n",
        "plt.ylabel('Frequency')\n",
        "plt.title('Protein Sequence Frequency')"
      ]
    },
    {
      "cell_type": "code",
      "execution_count": 23,
      "id": "f8c7254e",
      "metadata": {
        "colab": {
          "base_uri": "https://localhost:8080/"
        },
        "id": "f8c7254e",
        "outputId": "551647e0-85b2-4d54-a6f8-729f76c4e72b"
      },
      "outputs": [
        {
          "output_type": "stream",
          "name": "stdout",
          "text": [
            "Covid-19's genome has 9193 amino acids\n"
          ]
        }
      ],
      "source": [
        "print(f\"Covid-19's genome has {sum(common_amino.values())} amino acids\")"
      ]
    },
    {
      "cell_type": "markdown",
      "id": "29e618b1",
      "metadata": {
        "id": "29e618b1"
      },
      "source": [
        "The split() function splits the sequence at any stop codon and keeps the amino acids chains separated. This makes it easier for further analysis."
      ]
    },
    {
      "cell_type": "code",
      "execution_count": 24,
      "id": "6630a88c",
      "metadata": {
        "id": "6630a88c"
      },
      "outputs": [],
      "source": [
        "proteins = covid_aa.split('*')"
      ]
    },
    {
      "cell_type": "code",
      "execution_count": 25,
      "id": "4f03ee1e",
      "metadata": {
        "colab": {
          "base_uri": "https://localhost:8080/"
        },
        "id": "4f03ee1e",
        "outputId": "f63b5e25-1a73-43c4-abc3-32316ac20477"
      },
      "outputs": [
        {
          "output_type": "execute_result",
          "data": {
            "text/plain": [
              "[Seq('IKGLYLPR'),\n",
              " Seq('QTNQLSISCRSVL'),\n",
              " Seq('TNFKICVAVTRLHA'),\n",
              " Seq('CTHAV'),\n",
              " Seq('LITNYCR')]"
            ]
          },
          "metadata": {},
          "execution_count": 25
        }
      ],
      "source": [
        "proteins[:5]"
      ]
    },
    {
      "cell_type": "code",
      "execution_count": 26,
      "id": "4cdb57fe",
      "metadata": {
        "colab": {
          "base_uri": "https://localhost:8080/"
        },
        "id": "4cdb57fe",
        "outputId": "dc4e1dde-842d-45e4-f1a6-fa5f184d4622"
      },
      "outputs": [
        {
          "output_type": "stream",
          "name": "stdout",
          "text": [
            "We have 775 amino acids in the covid-19 genome\n"
          ]
        }
      ],
      "source": [
        "print(f'We have {len(proteins)} amino acids in the covid-19 genome')"
      ]
    },
    {
      "cell_type": "markdown",
      "id": "b1a1c143",
      "metadata": {
        "id": "b1a1c143"
      },
      "source": [
        "It's worth to mention that not all the amino acids sequences are proteins. Only the sequences with more than 20 amino acids code for functional proteins. The short amino acid sequences are oligopeptides and have other functionalities. Here, we will focus on the chains with more than 20 amino acid chains: Proteins."
      ]
    },
    {
      "cell_type": "code",
      "execution_count": 27,
      "id": "11a8bafc",
      "metadata": {
        "id": "11a8bafc"
      },
      "outputs": [],
      "source": [
        "for protein in proteins:\n",
        "    if len(protein) < 20:\n",
        "        proteins.remove(protein)"
      ]
    },
    {
      "cell_type": "code",
      "execution_count": 28,
      "id": "49dee6b0",
      "metadata": {
        "colab": {
          "base_uri": "https://localhost:8080/"
        },
        "id": "49dee6b0",
        "outputId": "9d50b17a-4260-4a70-dd54-acae2026541f"
      },
      "outputs": [
        {
          "output_type": "stream",
          "name": "stdout",
          "text": [
            "We have 409 proteins with more than 20 amino acids in the covid-19 genome\n"
          ]
        }
      ],
      "source": [
        "print(f'We have {len(proteins)} proteins with more than 20 amino acids in the covid-19 genome')"
      ]
    },
    {
      "cell_type": "code",
      "execution_count": 29,
      "id": "5ace55cf",
      "metadata": {
        "id": "5ace55cf"
      },
      "outputs": [],
      "source": [
        "top_5_proteins = sorted(proteins, key = len)"
      ]
    },
    {
      "cell_type": "code",
      "source": [
        "top_5_proteins"
      ],
      "metadata": {
        "colab": {
          "base_uri": "https://localhost:8080/"
        },
        "id": "Rt3EU7HLUnar",
        "outputId": "3b34961f-b9fc-4f6c-8200-7ab1b9202f81"
      },
      "id": "Rt3EU7HLUnar",
      "execution_count": 31,
      "outputs": [
        {
          "output_type": "execute_result",
          "data": {
            "text/plain": [
              "[Seq(''),\n",
              " Seq(''),\n",
              " Seq(''),\n",
              " Seq(''),\n",
              " Seq(''),\n",
              " Seq(''),\n",
              " Seq(''),\n",
              " Seq(''),\n",
              " Seq(''),\n",
              " Seq(''),\n",
              " Seq(''),\n",
              " Seq(''),\n",
              " Seq(''),\n",
              " Seq(''),\n",
              " Seq(''),\n",
              " Seq(''),\n",
              " Seq(''),\n",
              " Seq(''),\n",
              " Seq(''),\n",
              " Seq(''),\n",
              " Seq(''),\n",
              " Seq(''),\n",
              " Seq(''),\n",
              " Seq(''),\n",
              " Seq(''),\n",
              " Seq(''),\n",
              " Seq(''),\n",
              " Seq(''),\n",
              " Seq(''),\n",
              " Seq(''),\n",
              " Seq(''),\n",
              " Seq(''),\n",
              " Seq(''),\n",
              " Seq(''),\n",
              " Seq(''),\n",
              " Seq('T'),\n",
              " Seq('T'),\n",
              " Seq('H'),\n",
              " Seq('C'),\n",
              " Seq('T'),\n",
              " Seq('H'),\n",
              " Seq('W'),\n",
              " Seq('W'),\n",
              " Seq('W'),\n",
              " Seq('Q'),\n",
              " Seq('P'),\n",
              " Seq('A'),\n",
              " Seq('Y'),\n",
              " Seq('W'),\n",
              " Seq('I'),\n",
              " Seq('I'),\n",
              " Seq('P'),\n",
              " Seq('I'),\n",
              " Seq('N'),\n",
              " Seq('A'),\n",
              " Seq('E'),\n",
              " Seq('L'),\n",
              " Seq('L'),\n",
              " Seq('R'),\n",
              " Seq('L'),\n",
              " Seq('L'),\n",
              " Seq('F'),\n",
              " Seq('L'),\n",
              " Seq('V'),\n",
              " Seq('V'),\n",
              " Seq('L'),\n",
              " Seq('F'),\n",
              " Seq('L'),\n",
              " Seq('A'),\n",
              " Seq('R'),\n",
              " Seq('L'),\n",
              " Seq('F'),\n",
              " Seq('SL'),\n",
              " Seq('VW'),\n",
              " Seq('SE'),\n",
              " Seq('KF'),\n",
              " Seq('DS'),\n",
              " Seq('GY'),\n",
              " Seq('ET'),\n",
              " Seq('II'),\n",
              " Seq('FF'),\n",
              " Seq('WR'),\n",
              " Seq('NV'),\n",
              " Seq('KE'),\n",
              " Seq('NC'),\n",
              " Seq('LY'),\n",
              " Seq('YF'),\n",
              " Seq('WC'),\n",
              " Seq('SL'),\n",
              " Seq('TG'),\n",
              " Seq('LC'),\n",
              " Seq('EV'),\n",
              " Seq('RY'),\n",
              " Seq('SL'),\n",
              " Seq('IK'),\n",
              " Seq('QS'),\n",
              " Seq('EV'),\n",
              " Seq('WC'),\n",
              " Seq('RF'),\n",
              " Seq('DS'),\n",
              " Seq('QS'),\n",
              " Seq('IF'),\n",
              " Seq('FR'),\n",
              " Seq('NV'),\n",
              " Seq('AY'),\n",
              " Seq('THA'),\n",
              " Seq('EFD'),\n",
              " Seq('HRL'),\n",
              " Seq('ILW'),\n",
              " Seq('FGY'),\n",
              " Seq('REV'),\n",
              " Seq('ACK'),\n",
              " Seq('RRR'),\n",
              " Seq('VWY'),\n",
              " Seq('LPR'),\n",
              " Seq('SGW'),\n",
              " Seq('KSL'),\n",
              " Seq('KAS'),\n",
              " Seq('TFS'),\n",
              " Seq('RSK'),\n",
              " Seq('FSG'),\n",
              " Seq('MGR'),\n",
              " Seq('DSR'),\n",
              " Seq('VHW'),\n",
              " Seq('LKW'),\n",
              " Seq('ERS'),\n",
              " Seq('QSC'),\n",
              " Seq('YIY'),\n",
              " Seq('RCC'),\n",
              " Seq('LFK'),\n",
              " Seq('QTC'),\n",
              " Seq('HMV'),\n",
              " Seq('CSW'),\n",
              " Seq('RFC'),\n",
              " Seq('LRF'),\n",
              " Seq('RHA'),\n",
              " Seq('HRL'),\n",
              " Seq('SCS'),\n",
              " Seq('KVG'),\n",
              " Seq('KYV'),\n",
              " Seq('LKR'),\n",
              " Seq('SVC'),\n",
              " Seq('LHF'),\n",
              " Seq('WLF'),\n",
              " Seq('ITR'),\n",
              " Seq('GWW'),\n",
              " Seq('LPV'),\n",
              " Seq('HTL'),\n",
              " Seq('KVY'),\n",
              " Seq('CCP'),\n",
              " Seq('LPW'),\n",
              " Seq('SAN'),\n",
              " Seq('ILY'),\n",
              " Seq('QSR'),\n",
              " Seq('WLPS'),\n",
              " Seq('WLYG'),\n",
              " Seq('RRRV'),\n",
              " Seq('LHSY'),\n",
              " Seq('AIYN'),\n",
              " Seq('RTFY'),\n",
              " Seq('SYHL'),\n",
              " Seq('NKTS'),\n",
              " Seq('HSTC'),\n",
              " Seq('TYNF'),\n",
              " Seq('KYKF'),\n",
              " Seq('RCFW'),\n",
              " Seq('ARHL'),\n",
              " Seq('VQVF'),\n",
              " Seq('YSQS'),\n",
              " Seq('WFMW'),\n",
              " Seq('IYTF'),\n",
              " Seq('SLLW'),\n",
              " Seq('HSLS'),\n",
              " Seq('NCST'),\n",
              " Seq('RKTG'),\n",
              " Seq('GICV'),\n",
              " Seq('AHAY'),\n",
              " Seq('SCCY'),\n",
              " Seq('SFAT'),\n",
              " Seq('KVNS'),\n",
              " Seq('EICC'),\n",
              " Seq('CTHAV'),\n",
              " Seq('IADTF'),\n",
              " Seq('IGKEI'),\n",
              " Seq('SCRIP'),\n",
              " Seq('SLEFR'),\n",
              " Seq('RHSTS'),\n",
              " Seq('VLPHN'),\n",
              " Seq('RFIAY'),\n",
              " Seq('IVTSI'),\n",
              " Seq('LYAHL'),\n",
              " Seq('KHDTP'),\n",
              " Seq('WWCHS'),\n",
              " Seq('ILSSL'),\n",
              " Seq('VGKDG'),\n",
              " Seq('RYGTW'),\n",
              " Seq('VQSLF'),\n",
              " Seq('ERYFN'),\n",
              " Seq('ESSQL'),\n",
              " Seq('GNFSC'),\n",
              " Seq('EQNVW'),\n",
              " Seq('SYKRKS'),\n",
              " Seq('KTQTRP'),\n",
              " Seq('RRLGNC'),\n",
              " Seq('TRYRSK'),\n",
              " Seq('WLFKTY'),\n",
              " Seq('CSQCLP'),\n",
              " Seq('KGWWHY'),\n",
              " Seq('NTRGCG'),\n",
              " Seq('ILLLHQ'),\n",
              " Seq('TYCLAC'),\n",
              " Seq('KTNKSY'),\n",
              " Seq('YVFINF'),\n",
              " Seq('VDMCNY'),\n",
              " Seq('LVEAVN'),\n",
              " Seq('LFAFLT'),\n",
              " Seq('FLGTGW'),\n",
              " Seq('YGLYAC'),\n",
              " Seq('VCYRHT'),\n",
              " Seq('WGTTNH'),\n",
              " Seq('TCQQLI'),\n",
              " Seq('FSSAGT'),\n",
              " Seq('GCQEFK'),\n",
              " Seq('KRRFAST'),\n",
              " Seq('RPSSTCW'),\n",
              " Seq('LYHYWWS'),\n",
              " Seq('ITYTTGH'),\n",
              " Seq('WLSYFFF'),\n",
              " Seq('KVEIPTS'),\n",
              " Seq('AWYIYLC'),\n",
              " Seq('ETCFKRA'),\n",
              " Seq('ILSRGFI'),\n",
              " Seq('TTTKTNT'),\n",
              " Seq('IQSCSCL'),\n",
              " Seq('RNVSKVA'),\n",
              " Seq('KNGIPIW'),\n",
              " Seq('TSNTRPC'),\n",
              " Seq('GQEGKSY'),\n",
              " Seq('SEVFILY'),\n",
              " Seq('FRIIFHF'),\n",
              " Seq('LTSICAF'),\n",
              " Seq('KGQKEEG'),\n",
              " Seq('LRRRSKVI'),\n",
              " Seq('NCLVHGTF'),\n",
              " Seq('IWLENHSS'),\n",
              " Seq('KCRHCGRS'),\n",
              " Seq('FLAYVVNN'),\n",
              " Seq('KTFSLSFC'),\n",
              " Seq('CCNNKDST'),\n",
              " Seq('LPKETCSL'),\n",
              " Seq('CAITSYAI'),\n",
              " Seq('LLSFYTGV'),\n",
              " Seq('HRCLQTQH'),\n",
              " Seq('VSNFTCFT'),\n",
              " Seq('SPTNRIYC'),\n",
              " Seq('YYKLVPFW'),\n",
              " Seq('CLCRFICN'),\n",
              " Seq('RPHLCTKV'),\n",
              " Seq('FSSGCYGQ'),\n",
              " Seq('SIMTFVLF'),\n",
              " Seq('CCSCFAAA'),\n",
              " Seq('LHSTSRCS'),\n",
              " Seq('RRGIHSLCR'),\n",
              " Seq('NFMADGRFC'),\n",
              " Seq('QVCLLGSTC'),\n",
              " Seq('VEYGYILLI'),\n",
              " Seq('RRARRRLVR'),\n",
              " Seq('RSYNNSGRN'),\n",
              " Seq('LLCTYLSLL'),\n",
              " Seq('FFHTWCLLP'),\n",
              " Seq('PGCCSLSGC'),\n",
              " Seq('HTHWCRYMR'),\n",
              " Seq('IPSRTRRSN'),\n",
              " Seq('EASAKTYCH'),\n",
              " Seq('SSIGWYTSLY'),\n",
              " Seq('TLSSCCRPKC'),\n",
              " Seq('ERCSDTLYVW'),\n",
              " Seq('LCNISLCFGC'),\n",
              " Seq('YQCTRRFCCL'),\n",
              " Seq('STPRTHASVS'),\n",
              " Seq('LYCHTHKFYY'),\n",
              " Seq('WYWSYTECSL'),\n",
              " Seq('CFSCKHSKRN'),\n",
              " Seq('LVLCLLLFTE'),\n",
              " Seq('GQSDNYYSNNC'),\n",
              " Seq('KCLLHSTIYYL'),\n",
              " Seq('DTSFFERSEDY'),\n",
              " Seq('ERQFLFHRATN'),\n",
              " Seq('CTEVRGRAGNG'),\n",
              " Seq('HSYTVFKPCLY'),\n",
              " Seq('LQFWCNFKCFK'),\n",
              " Seq('MQPNVPFNSHEV'),\n",
              " Seq('CENYRSCRRHYT'),\n",
              " Seq('SIYADYYSKEYC'),\n",
              " Seq('SFVDIFVLLDTI'),\n",
              " Seq('QTNQLSISCRSVL'),\n",
              " Seq('NLLSSMSQFRSRT'),\n",
              " Seq('NTPKRESQHQYCW'),\n",
              " Seq('NCRWTNCHLCKGN'),\n",
              " Seq('IGFTYVLFFLPSR'),\n",
              " Seq('HHFLKERCSIYSG'),\n",
              " Seq('GCRSCYVHGHTFL'),\n",
              " Seq('RSSGKSYHTERRS'),\n",
              " Seq('CHYCNLLYWFYTL'),\n",
              " Seq('GLYGTSNLWYNYT'),\n",
              " Seq('STCSTRCLLQSKGW'),\n",
              " Seq('HTLCAHGWLYYSIS'),\n",
              " Seq('LQRSCLLSSRKGSQ'),\n",
              " Seq('WCWLPTIQSSSTFF'),\n",
              " Seq('QKVSAFPTIWQRHC'),\n",
              " Seq('HCDRSARLQECEYHF'),\n",
              " Seq('TKYLVYTLSLEHKTS'),\n",
              " Seq('CAGSKKSQHCFDMER'),\n",
              " Seq('QANSTSSWYGHNYYS'),\n",
              " Seq('FPSIICSFCYCSRSL'),\n",
              " Seq('VCTCTVIRFTGFEMG'),\n",
              " Seq('KHSLYRLRYVERLWL'),\n",
              " Seq('SHIAIFNQCVTLGRT'),\n",
              " Seq('RLVLFWTIYTTRYRIS'),\n",
              " Seq('LMTRVLFTSILNGILE'),\n",
              " Seq('GSLEYTKRSHWHPQSC'),\n",
              " Seq('FFTNITRSIKTKQEVIY'),\n",
              " Seq('TQTIPVAVTILLCLYSK'),\n",
              " Seq('SPSGFFGFRTIGRFANRY'),\n",
              " Seq('KQMCQFQLQWFNRHRCSY'),\n",
              " Seq('VDHRQTSKFADICDSTIN'),\n",
              " Seq('RCLCFKWHTLVCNTKEFL'),\n",
              " Seq('FFFRLDSWCCSLLCGLSST'),\n",
              " Seq('SIHHCLHYVTWCRKFSCLL'),\n",
              " Seq('FKNYRRGWPHRSNGCLCRQF'),\n",
              " Seq('MGFNCFWLSCRVVFGIYSFH'),\n",
              " Seq('LLRCSYNCHVFGQRYCFYVC'),\n",
              " Seq('WYNIYLCISIVGNPTGCRCR'),\n",
              " Seq('FSMASYCNSFKGQFCCQITE'),\n",
              " Seq('RHQICICLCLEQEENQQLCC'),\n",
              " Seq('PEWRTQWGAIKTTSAPRFTQ'),\n",
              " Seq('TALCVHQTFGCSNCTSWSCYG'),\n",
              " Seq('QSSCNGLHYRWCCSVDFAVAN'),\n",
              " Seq('YDGNKQYLHTQRRCTNKGYFW'),\n",
              " Seq('PYTFFKSLCRYCSHKCLLSCL'),\n",
              " Seq('WFRFFRHLSFFRNYTNYHFIF'),\n",
              " Seq('CNRSACQFNCIIFLCFCCRCC'),\n",
              " Seq('HNKRLDFWYYFRFEDPVPTYC'),\n",
              " Seq('TRQKHPRSFCTSQTNLQNTTN'),\n",
              " Seq('DTWCPCPSCGRNTSGLPQGSSS'),\n",
              " Seq('NVHLLCIILLCMEKLCACCRRL'),\n",
              " Seq('SYTCVPFCCCYFLFNNTCSCHV'),\n",
              " Seq('KNGFTTFCFAFHAGCCRHKQAL'),\n",
              " Seq('PSLRNKVYVEILHCRKRNLSNF'),\n",
              " Seq('PWQIPTVLLPLKSLKSSLNNGT'),\n",
              " Seq('WTPKSAKCTPHYVWWTLRFNWQ'),\n",
              " Seq('RNNELLVSTCQFRFLQKSLERGV'),\n",
              " Seq('TSYKISSTTGVTFCYDVSTTCSV'),\n",
              " Seq('VFLCTWIGCNHAIVFQLFCSTFY'),\n",
              " Seq('TCKECVLRQCLIYFYFSSSARVC'),\n",
              " Seq('KCLFTFCYGYYCYVCFCNDVCQT'),\n",
              " Seq('AKRLCYVCISCSVTNPYDSKNCV'),\n",
              " Seq('CYHRNSTSVYDQDISRLYNVHLW'),\n",
              " Seq('VSYSLHGFVFYNLPMPTGIGFCI'),\n",
              " Seq('NSSLTAETEETANCDSSSCCRFG'),\n",
              " Seq('HLQWGMSKFCISLKFHNQDYSTKG'),\n",
              " Seq('PPHASCGHVNDIWTTVWSNLFGWS'),\n",
              " Seq('LCLFLLHAPYGITNWSSCWHRLRR'),\n",
              " Seq('CFSLVVRCCYKWRQVVSQSIYHNS'),\n",
              " Seq('NVRCKVHISSLTLSFATTQSRIII'),\n",
              " Seq('LHRSPCCYSCRSTYSYLACLFYRF'),\n",
              " Seq('MQQSFVAIWQFLYTIKPCFNWNSC'),\n",
              " Seq('LCLLSFGSHLNCKIIMKLVTPKRT'),\n",
              " Seq('RDRHYFGIFFCFHKCFCGNCERFGL'),\n",
              " Seq('NERSQSKMVFLLPRNWARSWTSLWC'),\n",
              " Seq('TEINTESSLCICIRGCSCCTINFLPHS'),\n",
              " Seq('LNSGLNSCRPHKADGLYKRFRFSVYDI'),\n",
              " Seq('NCSKFCACFTEGRYNNTRWNFTVFTETH'),\n",
              " Seq('RIICKISVCLLQSAYVSTYTVTRSGISV'),\n",
              " Seq('QSLPIDCCSHNKRSGFCRAWFAWHDITHN'),\n",
              " Seq('TDKYYNLVFTIKCLPRFFNLLNRCFRCFNV'),\n",
              " Seq('YTSVYNASLLFLRLFLYLLLWPLLFTQPLL'),\n",
              " Seq('DAVTSRTCLKKSLLLHHERFLITNWELRSV'),\n",
              " Seq('SIQCNTSFRQTWSRTNPRKFWGPGTNQTRN'),\n",
              " Seq('EARNSWNCFLEFARNACTCRRNTQINACLCGN'),\n",
              " Seq('VCSHSTRTDFFSVSLLQWFTIWCLPMCYEAQFHY'),\n",
              " Seq('CTQQHYQQCKRWLCSLEHNTSYNSSQTNGCHTRL'),\n",
              " Seq('CYWQNSRLTFFHSKCTWKTSRCGQPKCTSFKHAC'),\n",
              " Seq('AVYKMAMVHLARFYSWLDCHSNGDNYALLYDQLL'),\n",
              " Seq('QDTSNSSIFCRLLTVSSVLQPIISTSRFRPGVTER'),\n",
              " Seq('NASESFEKSANRQLYNHLPGSGFKWLHCRGGKDSA'),\n",
              " Seq('HTRTSFCSNWNCRFRYVCFIKRITAKWYEWTYHIG'),\n",
              " Seq('YFTIPYVIHCTLFNTSLLILTWCLFCYLLVLDILSY'),\n",
              " Seq('QSFQILSFTFNSGLVLTFLFQCYLVPCYTCLWDQWY'),\n",
              " Seq('NDCSIHFCTVSGYNHFWLDLWCRCCITNTICYANGL'),\n",
              " Seq('QCCNRATTSSRNNIAKRLLRRREQRRQSSLFSFLIT'),\n",
              " Seq('NSCYNATWLCNTWLKFGRSCSVYEISQSASYSFCFFT'),\n",
              " Seq('YVYTTNSTYWCFGHISIYSSWWYCSYRSNMPCLLFYEV'),\n",
              " Seq('CFFFSTYSVDGYVHTFSTFLDNNCLYHLYFHKAFLLVL'),\n",
              " Seq('CGSATSLLLSDCLRVRVPCGHSIQKLTFFSTCHSMALF'),\n",
              " Seq('IQRRNWPTHASKSPKRNYLLRGRNTSHRSVNRGSCLENW'),\n",
              " Seq('RNFVLHRRCFTYKVLRIQRSYYGCFLQRKQLHNNHKTSYL'),\n",
              " Seq('LNCAWMRLVLNHPFSTSISVIIQFPVYLLQLIARNLNWVVL'),\n",
              " Seq('FLWKGLSSYVLPSVSTSWCSLLACDLCPCTRKELHNCSCHLS'),\n",
              " Seq('DVVYTHWYWSGNNSYTGSQYGSRILWWCIVLSVLPLPHRSSKS'),\n",
              " Seq('LQTLAANCTICPQRFSVLRNVAHWHGSHTFGNVVDLHRCHQIG'),\n",
              " Seq('KSHHIFTEATRSTIECTVNNARESCLYGRALMCKINFSSAIPM'),\n",
              " Seq('DGEPCPWFQRENTRPTQFACFTGSRRARTWLWRLRGGGLIRGTSTS'),\n",
              " Seq('TMLRCYFPKCSEKNNQGYTPLVVTHNFDFTFSFSPEYSMVFVLFFV'),\n",
              " Seq('QQMFHLVDFQVTIAEILLIIMRTFKVSIWNLDYIINLIIKNLSKSLTENKYSQL...EID'),\n",
              " Seq('AQADEYELMYSFVSEETGTLIVNSVLLFLAFVVFLLVTLAILTALRLCAYCCNI...LLV'),\n",
              " Seq('TNMKIILFLALITLATCELYHYQECVRGTTVLLKEPCSSGTYEGNSPFHPLADN...KTE'),\n",
              " Seq('ASAQRSQITLHINELMDLFMRIFTIGTVTLKQGEIKDATPSDFVRATATIPIQA...VPL'),\n",
              " Seq('CTIVFKRVCGVSAARLTPCGTGTSTDVVYRAFDIYNDKVAGFAKFLKTNCCRFQ...VNN')]"
            ]
          },
          "metadata": {},
          "execution_count": 31
        }
      ]
    },
    {
      "cell_type": "code",
      "execution_count": 32,
      "id": "ad15053d",
      "metadata": {
        "colab": {
          "base_uri": "https://localhost:8080/"
        },
        "id": "ad15053d",
        "outputId": "e4eb92a7-994d-4b1c-cdac-25939cf2ff10"
      },
      "outputs": [
        {
          "output_type": "execute_result",
          "data": {
            "text/plain": [
              "Seq('CTIVFKRVCGVSAARLTPCGTGTSTDVVYRAFDIYNDKVAGFAKFLKTNCCRFQ...VNN')"
            ]
          },
          "metadata": {},
          "execution_count": 32
        }
      ],
      "source": [
        "top_5_proteins[-1]"
      ]
    },
    {
      "cell_type": "code",
      "execution_count": 33,
      "id": "1951a5f5",
      "metadata": {
        "colab": {
          "base_uri": "https://localhost:8080/"
        },
        "id": "1951a5f5",
        "outputId": "a4695977-6ee0-4392-dbcc-366ab3cf7e72"
      },
      "outputs": [
        {
          "output_type": "execute_result",
          "data": {
            "text/plain": [
              "2701"
            ]
          },
          "metadata": {},
          "execution_count": 33
        }
      ],
      "source": [
        "len(top_5_proteins[-1])\n",
        "#The largest protein is of length of 2,701 amino acid."
      ]
    },
    {
      "cell_type": "markdown",
      "id": "13df78bb",
      "metadata": {
        "id": "13df78bb"
      },
      "source": [
        "Save this protein to file for further analysis"
      ]
    },
    {
      "cell_type": "code",
      "execution_count": 49,
      "id": "be05c8eb",
      "metadata": {
        "id": "be05c8eb"
      },
      "outputs": [],
      "source": [
        "with open(\"protein_seq.fasta\", \"w\") as file:\n",
        "    file.write(f\">covid protein\\n{top_5_proteins[-1]}\")"
      ]
    },
    {
      "cell_type": "markdown",
      "id": "f55f402d",
      "metadata": {
        "id": "f55f402d"
      },
      "source": [
        "## Summary of Findings\n",
        "- Sequence length: 29,903 base pairs\n",
        "- GC content: 37.97%\n",
        "- Has high amount of Leucine L and Serine S\n",
        "- 409 proteins with more than 20 amino acids\n",
        "- The largest protein is of length of 2,701 amino acid.\n"
      ]
    }
  ],
  "metadata": {
    "kernelspec": {
      "display_name": "Python (biopython-env)",
      "language": "python",
      "name": "12daysofbiopython-env"
    },
    "language_info": {
      "codemirror_mode": {
        "name": "ipython",
        "version": 3
      },
      "file_extension": ".py",
      "mimetype": "text/x-python",
      "name": "python",
      "nbconvert_exporter": "python",
      "pygments_lexer": "ipython3",
      "version": "3.8.12"
    },
    "colab": {
      "provenance": []
    }
  },
  "nbformat": 4,
  "nbformat_minor": 5
}