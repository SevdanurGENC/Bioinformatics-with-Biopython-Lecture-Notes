{
  "nbformat": 4,
  "nbformat_minor": 0,
  "metadata": {
    "colab": {
      "provenance": []
    },
    "kernelspec": {
      "name": "python3",
      "display_name": "Python 3"
    },
    "language_info": {
      "name": "python"
    }
  },
  "cells": [
    {
      "cell_type": "markdown",
      "source": [
        "**Sequence alignments**"
      ],
      "metadata": {
        "id": "Q6TxPHI2iEQj"
      }
    },
    {
      "cell_type": "markdown",
      "source": [
        "**Operations on an alignment**"
      ],
      "metadata": {
        "id": "s-Bw3Fm1iRMv"
      }
    },
    {
      "cell_type": "code",
      "source": [
        "!pip install biopython"
      ],
      "metadata": {
        "colab": {
          "base_uri": "https://localhost:8080/"
        },
        "id": "NXIrvhTii336",
        "outputId": "f1b5c5d9-43b6-43e0-a821-89cdfeee2275"
      },
      "execution_count": 8,
      "outputs": [
        {
          "output_type": "stream",
          "name": "stdout",
          "text": [
            "Collecting biopython\n",
            "  Downloading biopython-1.84-cp310-cp310-manylinux_2_17_x86_64.manylinux2014_x86_64.whl.metadata (12 kB)\n",
            "Requirement already satisfied: numpy in /usr/local/lib/python3.10/dist-packages (from biopython) (1.26.4)\n",
            "Downloading biopython-1.84-cp310-cp310-manylinux_2_17_x86_64.manylinux2014_x86_64.whl (3.2 MB)\n",
            "\u001b[?25l   \u001b[90m━━━━━━━━━━━━━━━━━━━━━━━━━━━━━━━━━━━━━━━━\u001b[0m \u001b[32m0.0/3.2 MB\u001b[0m \u001b[31m?\u001b[0m eta \u001b[36m-:--:--\u001b[0m\r\u001b[2K   \u001b[91m━━━━━━━\u001b[0m\u001b[90m╺\u001b[0m\u001b[90m━━━━━━━━━━━━━━━━━━━━━━━━━━━━━━━━\u001b[0m \u001b[32m0.6/3.2 MB\u001b[0m \u001b[31m16.7 MB/s\u001b[0m eta \u001b[36m0:00:01\u001b[0m\r\u001b[2K   \u001b[91m━━━━━━━━━━━━━━━━━━━━━━━━━━━━━━━━━━━━━━━\u001b[0m\u001b[91m╸\u001b[0m \u001b[32m3.2/3.2 MB\u001b[0m \u001b[31m47.6 MB/s\u001b[0m eta \u001b[36m0:00:01\u001b[0m\r\u001b[2K   \u001b[90m━━━━━━━━━━━━━━━━━━━━━━━━━━━━━━━━━━━━━━━━\u001b[0m \u001b[32m3.2/3.2 MB\u001b[0m \u001b[31m32.6 MB/s\u001b[0m eta \u001b[36m0:00:00\u001b[0m\n",
            "\u001b[?25hInstalling collected packages: biopython\n",
            "Successfully installed biopython-1.84\n"
          ]
        }
      ]
    },
    {
      "cell_type": "code",
      "execution_count": 15,
      "metadata": {
        "colab": {
          "base_uri": "https://localhost:8080/"
        },
        "id": "2CCxuhm6h75S",
        "outputId": "0ec38c1f-78ff-4914-a68c-e6da70f5c47b"
      },
      "outputs": [
        {
          "output_type": "execute_result",
          "data": {
            "text/plain": [
              "<Alignment object (3 rows x 8 columns) at 0x7c307e32e650>"
            ]
          },
          "metadata": {},
          "execution_count": 15
        }
      ],
      "source": [
        "import numpy as np\n",
        "from Bio.Align import Alignment\n",
        "seqA = \"CCGGTTTTT\"\n",
        "seqB = \"AGTTTAA\"\n",
        "seqC = \"AGGTTT\"\n",
        "sequences = [seqA, seqB, seqC]\n",
        "coordinates = np.array([[1, 3, 4, 7, 9], [0, 2, 2, 5, 5], [0, 2, 3, 6, 6]])\n",
        "alignment = Alignment(sequences, coordinates)\n",
        "alignment"
      ]
    },
    {
      "cell_type": "code",
      "source": [
        "print(alignment)"
      ],
      "metadata": {
        "colab": {
          "base_uri": "https://localhost:8080/"
        },
        "id": "ksjdLelxjKZI",
        "outputId": "6f72d4d1-302c-4d2e-e873-f5a5c35be5d6"
      },
      "execution_count": 16,
      "outputs": [
        {
          "output_type": "stream",
          "name": "stdout",
          "text": [
            "                  1 CGGTTTTT 9\n",
            "                  0 AG-TTT-- 5\n",
            "                  0 AGGTTT-- 6\n",
            "\n"
          ]
        }
      ]
    },
    {
      "cell_type": "code",
      "source": [
        "alignment.sort()\n",
        "print(alignment)"
      ],
      "metadata": {
        "colab": {
          "base_uri": "https://localhost:8080/"
        },
        "id": "znPCcpFLjKb0",
        "outputId": "d2a93399-963b-4a03-8221-f0a13b543db8"
      },
      "execution_count": 17,
      "outputs": [
        {
          "output_type": "stream",
          "name": "stdout",
          "text": [
            "                  0 AGGTTT-- 6\n",
            "                  0 AG-TTT-- 5\n",
            "                  1 CGGTTTTT 9\n",
            "\n"
          ]
        }
      ]
    },
    {
      "cell_type": "markdown",
      "source": [
        "**Adding alignments**"
      ],
      "metadata": {
        "id": "KEqAbwYk_hIw"
      }
    },
    {
      "cell_type": "code",
      "source": [
        "from Bio.Seq import Seq\n",
        "from Bio.SeqRecord import SeqRecord\n",
        "a1 = SeqRecord(Seq(\"AAAAC\"), id=\"Alpha\")\n",
        "b1 = SeqRecord(Seq(\"AAAC\"), id=\"Beta\")\n",
        "c1 = SeqRecord(Seq(\"AAAAG\"), id=\"Gamma\")\n",
        "a2 = SeqRecord(Seq(\"GTT\"), id=\"Alpha\")\n",
        "b2 = SeqRecord(Seq(\"TT\"), id=\"Beta\")\n",
        "c2 = SeqRecord(Seq(\"GT\"), id=\"Gamma\")\n",
        "left = Alignment(\n",
        "    [a1, b1, c1], coordinates=np.array([[0, 3, 4, 5], [0, 3, 3, 4], [0, 3, 4, 5]])\n",
        ")\n",
        "left.annotations = {\"tool\": \"demo\", \"name\": \"start\"}\n",
        "left.column_annotations = {\"stats\": \"CCCXC\"}\n",
        "right = Alignment(\n",
        "    [a2, b2, c2], coordinates=np.array([[0, 1, 2, 3], [0, 0, 1, 2], [0, 1, 1, 2]])\n",
        ")\n",
        "right.annotations = {\"tool\": \"demo\", \"name\": \"end\"}\n",
        "right.column_annotations = {\"stats\": \"CXC\"}"
      ],
      "metadata": {
        "id": "5K3FXX28jKeu"
      },
      "execution_count": 18,
      "outputs": []
    },
    {
      "cell_type": "code",
      "source": [
        "print(left)"
      ],
      "metadata": {
        "colab": {
          "base_uri": "https://localhost:8080/"
        },
        "id": "RTCxWpjBjKi0",
        "outputId": "ca891b57-368f-46c6-c426-3526127ce2d7"
      },
      "execution_count": 19,
      "outputs": [
        {
          "output_type": "stream",
          "name": "stdout",
          "text": [
            "Alpha             0 AAAAC 5\n",
            "Beta              0 AAA-C 4\n",
            "Gamma             0 AAAAG 5\n",
            "\n"
          ]
        }
      ]
    },
    {
      "cell_type": "code",
      "source": [
        "print(right)"
      ],
      "metadata": {
        "colab": {
          "base_uri": "https://localhost:8080/"
        },
        "id": "_SNoba7XjKm6",
        "outputId": "983a2f74-de75-4043-c812-256ac0f05284"
      },
      "execution_count": 20,
      "outputs": [
        {
          "output_type": "stream",
          "name": "stdout",
          "text": [
            "Alpha             0 GTT 3\n",
            "Beta              0 -TT 2\n",
            "Gamma             0 G-T 2\n",
            "\n"
          ]
        }
      ]
    },
    {
      "cell_type": "code",
      "source": [
        "combined = left + right\n",
        "print(combined)"
      ],
      "metadata": {
        "colab": {
          "base_uri": "https://localhost:8080/"
        },
        "id": "mP6ezAiAjKpT",
        "outputId": "a55dda6c-f370-40e9-c796-a0dc43ba01dd"
      },
      "execution_count": 21,
      "outputs": [
        {
          "output_type": "stream",
          "name": "stdout",
          "text": [
            "Alpha             0 AAAACGTT 8\n",
            "Beta              0 AAA-C-TT 6\n",
            "Gamma             0 AAAAGG-T 7\n",
            "\n"
          ]
        }
      ]
    },
    {
      "cell_type": "code",
      "source": [
        "combined.annotations"
      ],
      "metadata": {
        "colab": {
          "base_uri": "https://localhost:8080/"
        },
        "id": "C-Xz9AX3BqTG",
        "outputId": "ed90071c-3b7f-4b8d-944a-644546f84e9f"
      },
      "execution_count": 22,
      "outputs": [
        {
          "output_type": "execute_result",
          "data": {
            "text/plain": [
              "{'tool': 'demo'}"
            ]
          },
          "metadata": {},
          "execution_count": 22
        }
      ]
    },
    {
      "cell_type": "code",
      "source": [
        "combined.column_annotations"
      ],
      "metadata": {
        "colab": {
          "base_uri": "https://localhost:8080/"
        },
        "id": "y-AGOPE2BqbL",
        "outputId": "ac8cbd83-33f8-407a-ab3d-0b59588aed72"
      },
      "execution_count": 23,
      "outputs": [
        {
          "output_type": "execute_result",
          "data": {
            "text/plain": [
              "{'stats': 'CCCXCCXC'}"
            ]
          },
          "metadata": {},
          "execution_count": 23
        }
      ]
    },
    {
      "cell_type": "markdown",
      "source": [
        "**Mapping a pairwise sequence alignment**"
      ],
      "metadata": {
        "id": "7cK_EPhXB-ox"
      }
    },
    {
      "cell_type": "code",
      "source": [
        "chromosome = \"AAAAAAAACCCCCCCAAAAAAAAAAAGGGGGGAAAAAAAA\"\n",
        "transcript = \"CCCCCCCGGGGGG\"\n",
        "sequences1 = [chromosome, transcript]\n",
        "coordinates1 = np.array([[8, 15, 26, 32], [0, 7, 7, 13]])\n",
        "alignment1 = Alignment(sequences1, coordinates1)\n",
        "print(alignment1)"
      ],
      "metadata": {
        "colab": {
          "base_uri": "https://localhost:8080/"
        },
        "id": "F1w5rx3wBqei",
        "outputId": "7c3d6fb2-c11a-461a-a64a-b264c0217b32"
      },
      "execution_count": 24,
      "outputs": [
        {
          "output_type": "stream",
          "name": "stdout",
          "text": [
            "target            8 CCCCCCCAAAAAAAAAAAGGGGGG 32\n",
            "                  0 |||||||-----------|||||| 24\n",
            "query             0 CCCCCCC-----------GGGGGG 13\n",
            "\n"
          ]
        }
      ]
    },
    {
      "cell_type": "code",
      "source": [
        "rnaseq = \"CCCCGGGG\"\n",
        "sequences2 = [transcript, rnaseq]\n",
        "coordinates2 = np.array([[3, 11], [0, 8]])\n",
        "alignment2 = Alignment(sequences2, coordinates2)\n",
        "print(alignment2)"
      ],
      "metadata": {
        "colab": {
          "base_uri": "https://localhost:8080/"
        },
        "id": "65aLxfzCBqh1",
        "outputId": "d8e7516a-ea05-446d-9ee9-7a30c6923892"
      },
      "execution_count": 25,
      "outputs": [
        {
          "output_type": "stream",
          "name": "stdout",
          "text": [
            "target            3 CCCCGGGG 11\n",
            "                  0 ||||||||  8\n",
            "query             0 CCCCGGGG  8\n",
            "\n"
          ]
        }
      ]
    },
    {
      "cell_type": "code",
      "source": [
        "alignment3 = alignment1.map(alignment2)\n",
        "print(alignment3)"
      ],
      "metadata": {
        "colab": {
          "base_uri": "https://localhost:8080/"
        },
        "id": "Omt_NoZXBqk_",
        "outputId": "12f71e7a-ded0-4215-afe3-c845bcb15ce5"
      },
      "execution_count": 26,
      "outputs": [
        {
          "output_type": "stream",
          "name": "stdout",
          "text": [
            "target           11 CCCCAAAAAAAAAAAGGGG 30\n",
            "                  0 ||||-----------|||| 19\n",
            "query             0 CCCC-----------GGGG  8\n",
            "\n"
          ]
        }
      ]
    },
    {
      "cell_type": "code",
      "source": [
        "print(alignment3.coordinates)"
      ],
      "metadata": {
        "colab": {
          "base_uri": "https://localhost:8080/"
        },
        "id": "uEa2DRRxDB08",
        "outputId": "a74890e1-cc86-4b48-fe9f-1ee118cc9dc0"
      },
      "execution_count": 27,
      "outputs": [
        {
          "output_type": "stream",
          "name": "stdout",
          "text": [
            "[[11 15 26 30]\n",
            " [ 0  4  4  8]]\n"
          ]
        }
      ]
    },
    {
      "cell_type": "markdown",
      "source": [
        "**Reading and writing alignments**"
      ],
      "metadata": {
        "id": "0tDMkpjoDer6"
      }
    },
    {
      "cell_type": "code",
      "source": [
        "#https://github.com/biopython/biopython/blob/master/Tests/MAF/ucsc_mm9_chr10.maf\n",
        "from Bio import Align\n",
        "alignments = Align.parse(\"MAF/ucsc_mm9_chr10.maf\", \"maf\")\n",
        "alignments"
      ],
      "metadata": {
        "colab": {
          "base_uri": "https://localhost:8080/"
        },
        "id": "V5w9w4a4DB4D",
        "outputId": "7fde7980-db54-4fca-c614-91267be0f01c"
      },
      "execution_count": 35,
      "outputs": [
        {
          "output_type": "execute_result",
          "data": {
            "text/plain": [
              "<Bio.Align.maf.AlignmentIterator at 0x7c307c1a3250>"
            ]
          },
          "metadata": {},
          "execution_count": 35
        }
      ]
    },
    {
      "cell_type": "code",
      "source": [
        "alignments.metadata"
      ],
      "metadata": {
        "colab": {
          "base_uri": "https://localhost:8080/"
        },
        "id": "czEjBScqFHOG",
        "outputId": "1ce75c58-8b49-4fde-8e64-829b061eb9d7"
      },
      "execution_count": 36,
      "outputs": [
        {
          "output_type": "execute_result",
          "data": {
            "text/plain": [
              "{'MAF Version': '1', 'Scoring': 'autoMZ.v1'}"
            ]
          },
          "metadata": {},
          "execution_count": 36
        }
      ]
    },
    {
      "cell_type": "code",
      "source": [
        "for a in alignments:\n",
        "    print(len(a.sequences))"
      ],
      "metadata": {
        "colab": {
          "base_uri": "https://localhost:8080/"
        },
        "id": "5qTwq3Q7FHRT",
        "outputId": "4cfd87b4-f929-489f-8b84-4fe2bf6bc4ab"
      },
      "execution_count": 38,
      "outputs": [
        {
          "output_type": "stream",
          "name": "stdout",
          "text": [
            "2\n",
            "4\n",
            "5\n",
            "6\n",
            "7\n",
            "7\n",
            "1\n",
            "4\n",
            "1\n",
            "5\n",
            "6\n",
            "4\n",
            "1\n",
            "9\n",
            "10\n",
            "7\n",
            "1\n",
            "3\n",
            "1\n",
            "4\n",
            "3\n",
            "5\n",
            "1\n",
            "2\n",
            "2\n",
            "1\n",
            "2\n",
            "3\n",
            "6\n",
            "5\n",
            "1\n",
            "2\n",
            "7\n",
            "10\n",
            "1\n",
            "4\n",
            "1\n",
            "9\n",
            "10\n",
            "11\n",
            "12\n",
            "13\n",
            "14\n",
            "15\n",
            "15\n",
            "14\n",
            "7\n",
            "6\n"
          ]
        }
      ]
    },
    {
      "cell_type": "code",
      "source": [
        "len(alignments)"
      ],
      "metadata": {
        "colab": {
          "base_uri": "https://localhost:8080/"
        },
        "id": "_4atd7b6FHUR",
        "outputId": "c29995d5-965a-4215-b910-af2536609a85"
      },
      "execution_count": 39,
      "outputs": [
        {
          "output_type": "execute_result",
          "data": {
            "text/plain": [
              "48"
            ]
          },
          "metadata": {},
          "execution_count": 39
        }
      ]
    },
    {
      "cell_type": "code",
      "source": [
        "alignment_list = list(alignments)\n",
        "len(alignment_list)"
      ],
      "metadata": {
        "colab": {
          "base_uri": "https://localhost:8080/"
        },
        "id": "wYCkOFstFHXN",
        "outputId": "4735d858-e787-4350-80a7-5fef40530ae8"
      },
      "execution_count": 40,
      "outputs": [
        {
          "output_type": "execute_result",
          "data": {
            "text/plain": [
              "48"
            ]
          },
          "metadata": {},
          "execution_count": 40
        }
      ]
    },
    {
      "cell_type": "code",
      "source": [
        "alignment_list[27]"
      ],
      "metadata": {
        "colab": {
          "base_uri": "https://localhost:8080/"
        },
        "id": "m1Po-dIRFHZ2",
        "outputId": "f04fc828-0e55-4158-d202-c8ee0e98f5c6"
      },
      "execution_count": 41,
      "outputs": [
        {
          "output_type": "execute_result",
          "data": {
            "text/plain": [
              "<Alignment object (3 rows x 91 columns) at 0x7c307c126860>"
            ]
          },
          "metadata": {},
          "execution_count": 41
        }
      ]
    },
    {
      "cell_type": "code",
      "source": [
        "print(alignment_list[27])"
      ],
      "metadata": {
        "colab": {
          "base_uri": "https://localhost:8080/"
        },
        "id": "A7-gllTPFHcf",
        "outputId": "fee88882-c3e7-4848-99c0-8605319b7224"
      },
      "execution_count": 42,
      "outputs": [
        {
          "output_type": "stream",
          "name": "stdout",
          "text": [
            "mm9.chr10   3019377 CCCCAGCATTCTGGCAGACACAGTG-AAAAGAGACAGATGGTCACTAATAAAATCTGT-A\n",
            "felCat3.s     46845 CCCAAGTGTTCTGATAGCTAATGTGAAAAAGAAGCATGTGCCCACCAGTAAGCTTTGTGG\n",
            "canFam2.c  47545247 CCCAAGTGTTCTGATTGCCTCTGTGAAAAAGAAACATGGGCCCGCTAATAagatttgcaa\n",
            "\n",
            "mm9.chr10   3019435 TAAATTAG-ATCTCAGAGGATGGATGGACCA  3019465\n",
            "felCat3.s     46785 TGAACTAGAATCTCAGAGGATG---GGACTC    46757\n",
            "canFam2.c  47545187 tgacctagaatctcagaggatg---ggactc 47545159\n",
            "\n"
          ]
        }
      ]
    },
    {
      "cell_type": "code",
      "source": [
        "type(alignments)"
      ],
      "metadata": {
        "colab": {
          "base_uri": "https://localhost:8080/",
          "height": 187
        },
        "id": "ly_NY6LTFjTh",
        "outputId": "0d4e5be9-18f3-4e17-ca3a-0962842d506f"
      },
      "execution_count": 44,
      "outputs": [
        {
          "output_type": "execute_result",
          "data": {
            "text/plain": [
              "Bio.Align.maf.AlignmentIterator"
            ],
            "text/html": [
              "<div style=\"max-width:800px; border: 1px solid var(--colab-border-color);\"><style>\n",
              "      pre.function-repr-contents {\n",
              "        overflow-x: auto;\n",
              "        padding: 8px 12px;\n",
              "        max-height: 500px;\n",
              "      }\n",
              "\n",
              "      pre.function-repr-contents.function-repr-contents-collapsed {\n",
              "        cursor: pointer;\n",
              "        max-height: 100px;\n",
              "      }\n",
              "    </style>\n",
              "    <pre style=\"white-space: initial; background:\n",
              "         var(--colab-secondary-surface-color); padding: 8px 12px;\n",
              "         border-bottom: 1px solid var(--colab-border-color);\"><b>Bio.Align.maf.AlignmentIterator</b><br/>def __init__(source)</pre><pre class=\"function-repr-contents function-repr-contents-collapsed\" style=\"\"><a class=\"filepath\" style=\"display:none\" href=\"#\">/usr/local/lib/python3.10/dist-packages/Bio/Align/maf.py</a>Alignment iterator for Multiple Alignment Format files.\n",
              "\n",
              "The file may contain multiple concatenated alignments, which are loaded\n",
              "and returned incrementally.\n",
              "\n",
              "File meta-data are stored in the ``.metadata`` attribute of the returned\n",
              "iterator.  Alignment annotations are stored in the ``.annotations``\n",
              "attribute of the ``Alignment`` object, except for the alignment score,\n",
              "which is stored as an attribute.  Sequence information of empty parts in\n",
              "the alignment block (sequences that connect the previous alignment block to\n",
              "the next alignment block, but do not align to the current alignment block)\n",
              "is stored in the alignment annotations under the ``&quot;empty&quot;`` key.\n",
              "Annotations specific to each line in the alignment are stored in the\n",
              "``.annotations`` attribute of the corresponding sequence record.</pre>\n",
              "      <script>\n",
              "      if (google.colab.kernel.accessAllowed && google.colab.files && google.colab.files.view) {\n",
              "        for (const element of document.querySelectorAll('.filepath')) {\n",
              "          element.style.display = 'block'\n",
              "          element.onclick = (event) => {\n",
              "            event.preventDefault();\n",
              "            event.stopPropagation();\n",
              "            google.colab.files.view(element.textContent, 255);\n",
              "          };\n",
              "        }\n",
              "      }\n",
              "      for (const element of document.querySelectorAll('.function-repr-contents')) {\n",
              "        element.onclick = (event) => {\n",
              "          event.preventDefault();\n",
              "          event.stopPropagation();\n",
              "          element.classList.toggle('function-repr-contents-collapsed');\n",
              "        };\n",
              "      }\n",
              "      </script>\n",
              "      </div>"
            ]
          },
          "metadata": {},
          "execution_count": 44
        }
      ]
    },
    {
      "cell_type": "code",
      "source": [
        "alignments = alignments[:]\n",
        "type(alignments)"
      ],
      "metadata": {
        "colab": {
          "base_uri": "https://localhost:8080/",
          "height": 187
        },
        "id": "fQY2RKIJFjXV",
        "outputId": "bc49726f-a958-45f9-b5b6-049764f8f5b7"
      },
      "execution_count": 45,
      "outputs": [
        {
          "output_type": "execute_result",
          "data": {
            "text/plain": [
              "Bio.Align.Alignments"
            ],
            "text/html": [
              "<div style=\"max-width:800px; border: 1px solid var(--colab-border-color);\"><style>\n",
              "      pre.function-repr-contents {\n",
              "        overflow-x: auto;\n",
              "        padding: 8px 12px;\n",
              "        max-height: 500px;\n",
              "      }\n",
              "\n",
              "      pre.function-repr-contents.function-repr-contents-collapsed {\n",
              "        cursor: pointer;\n",
              "        max-height: 100px;\n",
              "      }\n",
              "    </style>\n",
              "    <pre style=\"white-space: initial; background:\n",
              "         var(--colab-secondary-surface-color); padding: 8px 12px;\n",
              "         border-bottom: 1px solid var(--colab-border-color);\"><b>Bio.Align.Alignments</b><br/>def __init__(alignments=())</pre><pre class=\"function-repr-contents function-repr-contents-collapsed\" style=\"\"><a class=\"filepath\" style=\"display:none\" href=\"#\">/usr/local/lib/python3.10/dist-packages/Bio/Align/__init__.py</a>Abstract base class for sequence alignments.\n",
              "\n",
              "Most users will not need to use this class. It is used internally as a base\n",
              "class for the list-like Alignments class, and for the AlignmentIterator\n",
              "class in Bio.Align.interfaces, which itself is the abstract base class for\n",
              "the alignment parsers in Bio/Align/.</pre>\n",
              "      <script>\n",
              "      if (google.colab.kernel.accessAllowed && google.colab.files && google.colab.files.view) {\n",
              "        for (const element of document.querySelectorAll('.filepath')) {\n",
              "          element.style.display = 'block'\n",
              "          element.onclick = (event) => {\n",
              "            event.preventDefault();\n",
              "            event.stopPropagation();\n",
              "            google.colab.files.view(element.textContent, 3670);\n",
              "          };\n",
              "        }\n",
              "      }\n",
              "      for (const element of document.querySelectorAll('.function-repr-contents')) {\n",
              "        element.onclick = (event) => {\n",
              "          event.preventDefault();\n",
              "          event.stopPropagation();\n",
              "          element.classList.toggle('function-repr-contents-collapsed');\n",
              "        };\n",
              "      }\n",
              "      </script>\n",
              "      </div>"
            ]
          },
          "metadata": {},
          "execution_count": 45
        }
      ]
    },
    {
      "cell_type": "code",
      "source": [
        "len(alignments)"
      ],
      "metadata": {
        "colab": {
          "base_uri": "https://localhost:8080/"
        },
        "id": "n_K-eEQrFjbn",
        "outputId": "e39e6d7c-4176-4f54-cccc-47abafaa337b"
      },
      "execution_count": 47,
      "outputs": [
        {
          "output_type": "execute_result",
          "data": {
            "text/plain": [
              "48"
            ]
          },
          "metadata": {},
          "execution_count": 47
        }
      ]
    },
    {
      "cell_type": "code",
      "source": [
        "print(alignments[11])"
      ],
      "metadata": {
        "colab": {
          "base_uri": "https://localhost:8080/"
        },
        "id": "ie-iVh99Fje-",
        "outputId": "3c71e1a6-5b87-4bb5-92f6-38c32446b18e"
      },
      "execution_count": 48,
      "outputs": [
        {
          "output_type": "stream",
          "name": "stdout",
          "text": [
            "mm9.chr10   3014742 AAGTTCCCTCCATAATTCCTTCCTCCCACCCCCACA 3014778\n",
            "calJac1.C      6283 AAATGTA-----TGATCTCCCCATCCTGCCCTG---    6311\n",
            "otoGar1.s    175262 AGATTTC-----TGATGCCCTCACCCCCTCCGTGCA  175231\n",
            "loxAfr1.s      9317 AGGCTTA-----TG----CCACCCCCCACCCCCACA    9290\n",
            "\n"
          ]
        }
      ]
    },
    {
      "cell_type": "code",
      "source": [
        "alignments.metadata"
      ],
      "metadata": {
        "colab": {
          "base_uri": "https://localhost:8080/"
        },
        "id": "i_ixLZTWFjhw",
        "outputId": "b884ea36-5730-431f-ecdf-59ac7de00f71"
      },
      "execution_count": 49,
      "outputs": [
        {
          "output_type": "execute_result",
          "data": {
            "text/plain": [
              "{'MAF Version': '1', 'Scoring': 'autoMZ.v1'}"
            ]
          },
          "metadata": {},
          "execution_count": 49
        }
      ]
    },
    {
      "cell_type": "markdown",
      "source": [
        "**Writing alignments**"
      ],
      "metadata": {
        "id": "POuofT40F__o"
      }
    },
    {
      "cell_type": "code",
      "source": [
        "from Bio import Align\n",
        "target = \"myfile.txt\"\n",
        "Align.write(alignments, target, \"clustal\")"
      ],
      "metadata": {
        "colab": {
          "base_uri": "https://localhost:8080/"
        },
        "id": "W2YhwzXQF_e8",
        "outputId": "5afa6250-3c7d-4a7b-8f0e-42a90584d351"
      },
      "execution_count": 50,
      "outputs": [
        {
          "output_type": "execute_result",
          "data": {
            "text/plain": [
              "48"
            ]
          },
          "metadata": {},
          "execution_count": 50
        }
      ]
    },
    {
      "cell_type": "code",
      "source": [
        "from Bio import Align\n",
        "alignments = Align.Alignments(alignments)\n",
        "metadata = {\"Program\": \"Biopython\", \"Version\": \"1.81\"}\n",
        "alignments.metadata = metadata\n",
        "target = \"myfile.txt\"\n",
        "Align.write(alignments, target, \"clustal\")"
      ],
      "metadata": {
        "colab": {
          "base_uri": "https://localhost:8080/"
        },
        "id": "ahwjV5XVF5d3",
        "outputId": "7535f63d-250c-4952-f4ae-2d8392b5bdf7"
      },
      "execution_count": 51,
      "outputs": [
        {
          "output_type": "execute_result",
          "data": {
            "text/plain": [
              "48"
            ]
          },
          "metadata": {},
          "execution_count": 51
        }
      ]
    },
    {
      "cell_type": "code",
      "source": [
        "str(alignment)"
      ],
      "metadata": {
        "colab": {
          "base_uri": "https://localhost:8080/",
          "height": 35
        },
        "id": "FClqRnSvF5hZ",
        "outputId": "381820a6-bf7c-47a4-c0af-2ad6cb45e023"
      },
      "execution_count": 52,
      "outputs": [
        {
          "output_type": "execute_result",
          "data": {
            "text/plain": [
              "'                  0 AGGTTT-- 6\\n                  0 AG-TTT-- 5\\n                  1 CGGTTTTT 9\\n'"
            ],
            "application/vnd.google.colaboratory.intrinsic+json": {
              "type": "string"
            }
          },
          "metadata": {},
          "execution_count": 52
        }
      ]
    },
    {
      "cell_type": "code",
      "source": [
        "format(alignment)"
      ],
      "metadata": {
        "colab": {
          "base_uri": "https://localhost:8080/",
          "height": 35
        },
        "id": "7wiwhSRyF5ku",
        "outputId": "b46930ce-f098-4073-e560-36ce4b5b9298"
      },
      "execution_count": 54,
      "outputs": [
        {
          "output_type": "execute_result",
          "data": {
            "text/plain": [
              "'                  0 AGGTTT-- 6\\n                  0 AG-TTT-- 5\\n                  1 CGGTTTTT 9\\n'"
            ],
            "application/vnd.google.colaboratory.intrinsic+json": {
              "type": "string"
            }
          },
          "metadata": {},
          "execution_count": 54
        }
      ]
    },
    {
      "cell_type": "code",
      "source": [
        "print(format(alignment))"
      ],
      "metadata": {
        "colab": {
          "base_uri": "https://localhost:8080/"
        },
        "id": "eCrCn3bmF5ov",
        "outputId": "56601fc1-4b25-44c3-8b90-34233fc9356b"
      },
      "execution_count": 55,
      "outputs": [
        {
          "output_type": "stream",
          "name": "stdout",
          "text": [
            "                  0 AGGTTT-- 6\n",
            "                  0 AG-TTT-- 5\n",
            "                  1 CGGTTTTT 9\n",
            "\n"
          ]
        }
      ]
    },
    {
      "cell_type": "code",
      "source": [
        "format(alignment, \"clustal\")"
      ],
      "metadata": {
        "colab": {
          "base_uri": "https://localhost:8080/",
          "height": 35
        },
        "id": "MH-ThHQsG8bj",
        "outputId": "2b7d16e9-2d9d-40cc-9fac-712e24364bc9"
      },
      "execution_count": 56,
      "outputs": [
        {
          "output_type": "execute_result",
          "data": {
            "text/plain": [
              "'sequence_0                          AGGTTT--\\nsequence_1                          AG-TTT--\\nsequence_2                          CGGTTTTT\\n\\n\\n'"
            ],
            "application/vnd.google.colaboratory.intrinsic+json": {
              "type": "string"
            }
          },
          "metadata": {},
          "execution_count": 56
        }
      ]
    },
    {
      "cell_type": "code",
      "source": [
        "print(format(alignment, \"clustal\"))"
      ],
      "metadata": {
        "colab": {
          "base_uri": "https://localhost:8080/"
        },
        "id": "HXRMSYFqG8fy",
        "outputId": "0d4a3545-9233-4edf-fe0d-1f9fe88b58ae"
      },
      "execution_count": 57,
      "outputs": [
        {
          "output_type": "stream",
          "name": "stdout",
          "text": [
            "sequence_0                          AGGTTT--\n",
            "sequence_1                          AG-TTT--\n",
            "sequence_2                          CGGTTTTT\n",
            "\n",
            "\n",
            "\n"
          ]
        }
      ]
    },
    {
      "cell_type": "code",
      "source": [
        "print(f\"*** this is the alignment in Clustal format: ***\\n{alignment:clustal}\\n***\")"
      ],
      "metadata": {
        "colab": {
          "base_uri": "https://localhost:8080/"
        },
        "id": "ClrloXeJG8jB",
        "outputId": "bccf9173-410b-461b-a7af-35418829e79f"
      },
      "execution_count": 58,
      "outputs": [
        {
          "output_type": "stream",
          "name": "stdout",
          "text": [
            "*** this is the alignment in Clustal format: ***\n",
            "sequence_0                          AGGTTT--\n",
            "sequence_1                          AG-TTT--\n",
            "sequence_2                          CGGTTTTT\n",
            "\n",
            "\n",
            "\n",
            "***\n"
          ]
        }
      ]
    },
    {
      "cell_type": "code",
      "source": [
        "format(alignment, \"maf\")"
      ],
      "metadata": {
        "colab": {
          "base_uri": "https://localhost:8080/",
          "height": 35
        },
        "id": "jA9fXGpaG8mO",
        "outputId": "72fe6f5b-4b89-45cf-a588-d931bfa659d3"
      },
      "execution_count": 59,
      "outputs": [
        {
          "output_type": "execute_result",
          "data": {
            "text/plain": [
              "'a\\ns sequence_0 0 6 + 6 AGGTTT--\\ns sequence_1 0 5 + 7 AG-TTT--\\ns sequence_2 1 8 + 9 CGGTTTTT\\n\\n'"
            ],
            "application/vnd.google.colaboratory.intrinsic+json": {
              "type": "string"
            }
          },
          "metadata": {},
          "execution_count": 59
        }
      ]
    },
    {
      "cell_type": "code",
      "source": [
        "print(format(alignment, \"maf\"))"
      ],
      "metadata": {
        "colab": {
          "base_uri": "https://localhost:8080/"
        },
        "id": "WczMAUB8G8pw",
        "outputId": "7b113475-e43f-4be4-c9cc-3cb06b5a2ac8"
      },
      "execution_count": 60,
      "outputs": [
        {
          "output_type": "stream",
          "name": "stdout",
          "text": [
            "a\n",
            "s sequence_0 0 6 + 6 AGGTTT--\n",
            "s sequence_1 0 5 + 7 AG-TTT--\n",
            "s sequence_2 1 8 + 9 CGGTTTTT\n",
            "\n",
            "\n"
          ]
        }
      ]
    },
    {
      "cell_type": "markdown",
      "source": [
        "**Alignment file formats**\n",
        "\n",
        "![image.png](data:image/png;base64,iVBORw0KGgoAAAANSUhEUgAAAhAAAAIkCAIAAADAiYVlAAAgAElEQVR4Aey9j08bx9YG3D/N0idZioJSGaWyv+TalwC3MiaF+gXqm5J7ca0iIDasGwQBQVCgJMZyHZTrvG5dUgiNqb/gAIopuU6NTYldo3cFymKrq6CuNJ9m12uvjUl2Yf0DzyCrrHdnz8555pnzzDmzJR8x+AcjgBHACGAEMAIiEPhIRBvcBCOAEcAIYAQwAgwWDEwCjABGACOAERCFwEe/J/7AH4wARgAjgBHACAgRKCogH6VoGn/EI/B74g/xjXFLjEDFEUCWscg6LhflsGDIII2YhXLREdspDwLIMhZZx+XiFRYMLBgyICAXHbGd8iCAbNxE1nG5eIUFQ4ZwiVkoFx2xnfIggCxjkXVcLl5hwcCCIQMCctER2ykPAsjGTWQdl4tXtSwYws39Ux+LARqzUAxKuE31IIAsY1Fz/NRx76Qba1wwwNl+RNJLZLPqiRe4J4gjgCxjUXP898QfZwuBhXefQTDezN+4olFnP6NrqYBNeXlsg6b9VoXV/95CRzrm+ZdWfaXb/ea9zSS93ZtObGwmhIHg7GCJpJfIZil6bTQL15Wmzm/mN/bO6H7C0aq84SWFXmePk683Iwes/TdOvaLFISPUksYFN64+BEQzlt59ubkrsv/HJmCWiqk97w3LQjJrx29TWAO5qzS962pRfunNNci2lPtAvOOpbW9PQ51SobzYYHa8LD7FhC6c8pgMb2xTH7o35tC3OHZyseLDAZbH7ewxsEAxziAYO0693hnhewZ9Tic2XsKQ/WF/AjZl7/KHYMoBJKrl9mxjPgvPDpZIeolslqIDVoXNzyGWpiJes+qyzU9KdFMIOE0nX69tnWBhsTdHssjrmCgM843jW2oVAdGMjc008oz9IDeOTcAseruPuu1BAc+PCUaKDK++LllQFvRcvOMOvXb0JdvnnYB/W9B5gbWsg6c/+LlPP/fBuVmrgrEXmJkJJIWCsRNwjNqsQ1OLAnlMHcT8d9sVxqnFpQBcAr/h2oy5MzJO+l0Lke2F0aGxxR14vPFyfnTI5giSqZ3lySGb9d7ybhqOX2Rpypr9mthcFNpkB7WIYPxFgu/ugvGnBbIJv/5V5JxIeolslicYbA+37mpV45uQbQVApRP+uTHrkG1yiSVTmtzyQmdH5wK7aXrL41x9s+YYsrlfUlsem+cVndoLOJ7Edn9m2zzaTNJUJDDfe0XT+3B5cYn7ZNaJyddeiGF2RF55HcHYxqMx61AW/5LNDXlnGrZ2BgTEMTaxsTTVpmifXFr2b1OpLAkfbSbT9P7mvH1ujcsJIr6xSa//+ATkw2h45svZLWFvoWB481j3ymv1hFM0y+2dTfeozTrK59977NcsP195HeuJ1Tmb9eHC/LBzlcuhaTrim/K8/jB1xTlOw6mq7PYIl2J8D9lOFp10x6ch2x9+Lo+yuKXoXHz78f8LuPs16v75xSV2ehYEAZpOsqHPem/W2phb/GVW5F4BSq+9dtfaPodwOua7682iXSQGFolz3KlD8J0gMBaLhwCAs2UYjVMbe2SS/eyn6RSfc2QyjIS3U21bTNCpvc3R1i5Pgh/ONJX0mhUWb3KP3H/j7VSbPa/J5N7mTKvGGqBSdMyhVzX2zy4GNiMH8PjGo032qqrR6t3ai/mHtVCT3yxMzq1F9siNmRYYc4U2WTlJ0XQRsL6zgP8W1QYSDLqOIymSXiKbHReMlN+m0Dsjx4DamtG2uWKpNLW1GU7S9OqwRn8XOhtZX15N0H5rnbrzticQ2IDHbPVvx6m/0D6zHmOBUvY8ofbJzcnGpsmX3Oh4e7jMZv22unVqdYdM7ixb1SwF/Talug/iv7PQe7nbc9YSGT/EwuiAj6sPAZGM3d/z9ijMnj0ySbEkvB/eT9MRj7lxeC1Fk4u92t6fydS2s83ojFCCSc1PwIxgBG93Fiyi/TbFZXbW7yxbL2tnXtNwIrDlAb9Vqe71bu2RkSd9KlikolbnxhaF/PTbLqq77N6AfzOxdVfb9oitQh8s9Fy+vVrw3GKwi3Qcrkdd7coL2s7x+VVuscv3MFdBOTbpYADMn4YpOuHp1PR4w8k9cuN+i3oosC+Mb3vkxr2mxnubyT0qdSwIpLjZmqD2Ewu9lwoFQ2VhUVqyqRpmt9LhyYZ2Nxtg95+YVd+s8VJdLAYeD3OZM+/A2jZ/sXg8PLNgXGrphctVm3Vo1r9XKBi7rhZWPOEK192vydvV4NHfdbU03uczskydKubQN81kcsBcLpYrc/H3cqDsb041drLVz/zzxwTjHVgLgP9Rgf8EwFocrLpAXwcY7Aetn4H/xoHdAv72KbAT4Ic4Dxn8LZJeIpudJBgvjgG1NaNVfTkLl3WQ9AGrsm9RMBn8VkXvz5nQnBOMbHnw5z7lUIDV3SzJMqUw/5Aye2MGeQFoi71KawBHfCQQkM7YgFUJUw02YZ1q48hGLvc2dt8wtju42SrgUjZgpWjKZ+niYlnupKBl5H4TXP/xZ3LTPL3cqxRUw9KUx1JnX2elJVvNTsy3NcDcZfdRu3YGJigf/Ih2nDWV2Fyc62u8oGx7mOthnmAUTDp+xQy7wU3DN0594yxft+cmsjC+0ZG5Fq4kdTxa+oeUPT4uAuTCIOdgDiU6NsMmHzwCCbeRFWAeirxF8zwBkmx4+z8PcMbB6iwYJsDXHWByC4BD8IAAf+tnL+fHw9QW+NoCBrvBPIyNZ8swsnhx/ePx4vyJzLWw4ilIQXg3svzI4gWBeDWlbnXuQgXORrrccQ4jjlvk2qippaffNjpsVnPd4DmXJU0eWACA1CH4+u/gv4cg9Q6s9oNAHHw1C5IusAoAKK6oIuklstlxwdia0V4cXisKVMTvtJu0KqMzkhbsfLAA5qDIVv945KHvGRxy0GWfK7xx32eGuiIATXg1iyE+qEkEpDM2YOVSDa6iQLKBLB2b0dddbOT34QRcyoGWmO+0LGSqJcemP1zIcxGTv1dAwgztI54+vclsHZqyGtlkmm/JPoLyWVT2YHimUVDAyD6l2IFoxwXa83IMxiXBczOdPD7p3n+GDk9eaXG8EU5M3n0Wh4JoKYAi75acYkEH+UtcjvVqtrHTK3xJIS8GrvaD1ThovQOis2CRjYEL76BU/LCeWSUPcoKRHw/nLWDtELzdAv9zp7SCkQreVpn5VyOo/DcBsugL2kTut7DLBB4CIRzZyMgHxNxi+eWYWMEAAAx+mtFYiB0rEpUTjOTLKf0FVhoFIKQ4oDL5RMJtbHG8gauGyVcsg9N0Ks2Xodj5kOMuv5DZGNeweboQxszcg8uQu9xCjFzsVfU8obBg5EJbsfhSq1dFx83sYkVAQprepyAbI3PtbXOxpM+stsKdSyGXsrgVbndzIPttikyWQHq+5POGTEkq+4Il++jcCp30fHlcMGgYZBq0ekERJvvoogdiHT9Y83gzKUvSxxZ5Xk2pjfNsLOZ7spPLHjKT7viZ9Jr9stnH7YVsz+phPiScmDnBOB4tt2a0mdma3hy9kl1DQ+RzNQbSe+PS7VUW1dVvVNqGlryXCwrK8kkX6OsHX/eD0VkQBXDRDNfKgp+igvGdBfx6CN4egrfvSiwYNLk63qJWt3eamtRtt2HNKjsns4IB27Sr/9HV2abR/ssbgYFSCGjuOKe37L37AZu6sdvab+4dtWVe1oIFxDr1lS43/0pDnrpysJwoGABMfgpulaEkpVRxb9ZeqtOaxhYzr7oWAEVt3GvRdvZZzS3aIXYqbntvaFV6U1fjP8zu11QOiqyO7jj1l7SN+q7OVhUPI+UfUilVGu1wYD/7dlY65jE3qdu6Ohs0+nF2xzI3EHk6lBup7JDhgxpCQGzcpGOOVuVFtabzYYx9zVSjNXW1XWnqeRje357VtzrZCUv6zBqrn2Qr+HkTMEUf2+7mMPTb1J3mNmNXp1bVmM9DAbc5rYo5WjVt/bYe8227uQ6WtQWMZVkam2nMK8K8n7piHU+H3WbtxUsatbru4j/GVmHEj7mNdRdbu24Y++y9TbAnxyfd8TM0nQyOtV1p6jS1qxu6PTA05WJaiqb3AzbVBZW64bafKggCdIoMWNV1qisa7b9mR78sEAxNp7m9zdSlVTWNBvm3y7ZnG9kCnRCB/Bi4DpT9ILUF6jrA2wLBiMOC/N/UwD4LLwFBPEz6wD8t2XL9GUpSVT9/8sESCKnoQ5H0EtlMOJAyHwtz4aofF5l9x/5KR6BMjN0J+Er3fzBwXifm2zILf8F69GRA5HT8+KQ7fubknsg+C3YftWdeARA89OwxsCBYYsEoACTvq0h6iWwmO0VyBt/M3/gXly+Lmja5GwXcwifRQaDyjJWHeDAXty7ll7vfa1lOx49PuuNn3tsZOflGbU622hb5l4yzlrFgSAiIZwdLJL1ENsuOIj7ACFQWAWQZi5rjZ4+BeSvoM70lVTbxPO2DTvr7WZLOi5nYqLFQDCa4TTUjgCxjUXNcUqwT07iWS1Jlm7GosbBswOIHlQgBZBmLrONyEQkLhoQa10mgYxaehAw+X50IIMtYZB2Xi4dYMLBgyICAXHTEdsqDALJxE1nH5eIVFgwZwiVmoVx0xHbKgwCyjEXWcbl4hQUDC4YMCMhFR2ynPAggGzeRdVwuXmHBkCFcYhbKRUdspzwIIMtYZB2Xi1fFBUPM+1W4DUYAI4ARwAgghUBxwSh6Fp88CYHfE3+cdAmfxwhUIQLIMhZZx0tKwo9Kar32jGMW1t6Y1rZHyDIWWcdLymcsGNLgxSyUhhduXWkEkGUsso6XlHFYMKTBi1koDS/cutIIIMtYZB0vKeOwYEiDF7NQGl64daURQJaxyDpeUsaJEgxZ3g0oqRtlM45ZWDao8YNkQQBZxiLruCy0OcmIWMEo+Mu3Ur/WzODVjCMnEQKfrzEEkGUsso6XlMBYMKTBK42FR6HpTzXEMzr3jIPgxOcaTX19/TWLbxeeJh/f1Fh8ZK4FPIo6jZrxUP45/A0jcBoExDOW3AoX8PDE5x2RYdFtTzRS4gviHS9xR2rKPBYMacMpiYX0U0v9FyZDh4efh6TvCw3xnIKP3JrQtLjjDBN3GerqNMRzgaiQPtMFpXIwKK1nuDVGoBgCohkbdzQRYjm362iuen6KdrwYavjcCQjIIRjvDsGfH6hR1czgSXGE9HRopiOkp0PniGXgj4ejrFwwTHrJooTzM+4yGIZHTE3T0SOuDR0c1BGuaUPVT8gTGIVPVxcC4hhLhp9NGxXG6WcrwV2aOaKiP04TdmLicZg6YuiwZ8QV4ngb/2li2vd85Z5R0TG98iwYT1eXs8LeiHOcoV44Jp7GMzdSIbczSDEMFfFN2wli3BM+YK/sBd3jBGGfXkkIn4Di8ZkFI/4U3POA8c/AD4fvEQ2Rg1f9IyDBkYTbcM0RZRjqe1PdcGF9ifzepBmFJ6FguOLRe82m79k8JDKt6/CQCTcWjOonw7nooUjG0gc+i8LiO6AomgmNagzOKH3ExL+3NEOWUit9uoFfKGbXbexwx2ma+tGi6PVRBxSdWeVUIxIiHWeoJcsnIyHWkegDnfExyYRGNNcdUZphEj5L00joKOq4ZnQnGCYdDccy671qdLgsfTqVYHxnAfZ+0H4nl1ikngL7Oki6QDcBvrKArz4FC3n6IXbwyuLzWR4i3pEM+Rg2mbhgWRKsxaitaTjxWI5ygsGkg4SOCKZhzWokxDBYMM4ySPheAQKiGRskFFxJKkgoYaqxAj/TRrZwylArA003b3YY3ezGG/OcUFR9BizacSY0XG95SjNHoZFP4DwN2pXGe5z7K9MdBnci6rhWf/NBMC4oGwsARuvwVILx1zvw2zq4pQZrfFLxwAKiAAqGMw4GLeDPdfAdyV+Dv8UPXpXDL9aRo9DIx8r6qxoN9/lYCRnJ/rBqMR3mVyoZwWAY8ntT83VDvWUJXsGCUeU8OD/dE8tYRiAYXKpxQFEHFMw4GIY5ijta6uqaCFivYZgaEwwm5tB1eOJPLVzSHxxUWH5kfWcRgFnUUTzoGjHp6o0P+eLV+SGAvD09hWDEQfcdkDwE3/4drLKi4OwGq+/gUdIFdWKwHwDUBYN+alH2LuVWJBsjdezWN1SLT0cy9WB2JLOCwRxFHZ+bPFyRFAuGvDRH2Jp0wYC7btORDGQ0S+K4y2h0xamfLJpBVjJqK8NgGOiy7pqRezuFfGzU3Yvm+c9V3kiP8bqbf4EFUUqdQjBI0P0ZW5JSQ8FY6Ab/sAA7Aew+LBg8iUhPR93IBv8N/o46rukcL303lQrlx3VKBfujNHr2MnsYwqbwGAtGISL4+ykREC0Ycfd1ZZ1GY3oUZ3Z9lmsa3Q2T8Wqz5VGU3nUYrnMVVGrJwr7ml3AbLtRprpo8XIXqlF0r7W2iHWe78ctAboV3FPdZdJprJtPnmmaLJ0qFp6/rTLcIy3Vd5hXH0na8qq2fQjCEpSaxx9IGr4oRqxlHqhhj3DU5EUCWsZIcDw3r8ld4cg5BLdnCgiFtNCWxUJpp3BojUAIEkGWsBMdJn+ULN1+EKsEY1JBJLBjSBlMCC6UZxq0xAiVBAFnGIut4SWjEGxUrGGf/+4P8E8/3b8zC8z1+6PUeWcYi63hJOS5KMErag/NlHLPwfI0X7i2yjEXW8ZJyHguGNHgxC6XhhVtXGgFkGYus4yVlHBYMafBiFkrDC7euNALIMhZZx0vKOCwY0uDFLJSGF25daQSQZSyyjpeUcVgwpMGLWSgNL9y60gggy1hkHS8p47BgSIMXs1AaXrh1pRFAlrHIOl5Sxn109vdlsQWMAEYAI4ARqDEEigrPRymaxh/xCPye+EN8Y9wSI1BxBJBlLLKOy0U5LBgySCNmoVx0xHbKgwCyjEXWcbl4hQUDC4YMCMhFR2ynPAggGzeRdVwuXmHBkCFcYhbKRUdspzwIIMtYZB2Xi1dYMLBgyICAXHTEdsqDALJxE1nH5eLV6QVDlt1/udyorB3Mwsrij58uFQFkGYus41IZclL7MwmG2H8p6YR2NTN4NePISSw5Z+e3Nzf2zpo27b7c3K3ddwWRZSyyjss1hbFgnDWypGhaNAvXRq9o1NznH12jPyfkGkVRdt7M38g+/YpGPbpW5K50YmPzdL1KOFqVN7xkio459C2OHSGqx88Ir8Lj1VEeliuaRtNt90uySN/Y8C0ijic8nbADu4+6M1Bf0bT1z2+Q8EHCk+ormtEgncqDpb3n3nIkDVtu3W3qeUKd1I3zfl40Y2kRgPOjeXry8BZKr9DiHT/vQ1yi/mPBkIGsolkYsCpsfm5W7C33XtLOvJbh6WKZsePU652R98/J7dlGa0CswXxTyddrWzAoH5eH42cKvfZbFVZ/5uT+trfnssrqL6oZsZlGHsD8p+f6vOPUmxf2aToy16Kfi3Hnt2ZalJbCk5lbhLCkE6t3W5StTqgZifm2Tm/ypKec8/OiGSsC8CwUZyBPbviy1kpzINrxQoqWrYdV/iC5BOMQ/LB+QuWJP702C6L8Mfu7ZgZPtCMCwYCBtc6+TqdeeR3ridU5m/Xh5j5NbnmnrEM2K7fO3Vkeda3tszMn8mTMvcmS+GDNMb4c4VuOPtpMpulUOnNj5itN+l0Lke2F0aGxxexiXxgZoU1q49FtR5CNy+mYb3Rq8dfNxbvtCuPU4lIgckCn0jH/3Jh1yDa5xIbdvYDjSTiyBLuXOZPfhy2PzfMqIxgzgeXJrBcCCUm+8sLzo/MFJSOhYMAJ82pKe3lsg6ZTO6ydoanFN3SKTmwsTbUp2ieXlv3bVGpv0z1qsw6NFaQju66WTg90SigYKb9NwUb/vJNcSCqEhfSZs6mS2XdQm4FDHGPzAc/n2P7mvH1ujRPUiG9s0uvPI09pwv3Zg6k4x+lkYHb0SWa1kSLXHPcDSZouZO+bgAMycCo3xarV67PjlrUgl2CQYNCVpwbHv3z3KVjNOyty8LJ9rdoD0Y4ErGy8W1xado93dY6z881vu6jusnsD/s3E6rBGf3ctskdGlmxquM5ds1+2+WGFZM1+WakaZotIfptqeG3/iVk7FEimqd3N8G6ahjfeD++n6YjH3AibxRx6VWP/7GJgE4b+bGS80udeWl6EH7ZATy73avsWSToy1942F0ulqaTXrLB4k3vkfjrh6dRYlxKpNLkx3tLpSaR2nPoL7TPrseTe5oxeNfqSLugDH/RjDr2S82LjPreu5zOM9dvq1tktik7teHsab6+ylR+ub/y9fFfpgFXR4thJ+O46V3fI5OasntWP/T1vj8Ls2SOTFLU6N7b4mkzuLPRe7vYIdiz8Q9pJqFtQMNT989BZr7PXZPZs559cWl7kim+FggFvVLBplt/aNMPeVbXEO3XHRDJWAPhxjpGLvdren8nUtrPN6IxQQvJkx7HqDkQ6niIXei5nKLo1o217lEgVsjc809AOS68H4Y3XRbPhqvP91GwR3iifYHz1Kei2gNZusA9Aagt8bQGD3WA+DiXih37QR4DW/wcLRlYwPHN9+obbfpKGi9/eZXZIAlZl32ImjCYcrTBarX6jgrWa9dv6Ge+k/vYqTa9+o7Wvw2CtbLR5MvsNAasSrrtZJZhqg3WnmEN/LNjtOPUFgkHTyZ/7Gr/shhOee67fxsXK1BtB44d9amsACgZf0Yrcb9K7Evl9oPmgz8sDTafSy72wBJc54x9Stt3lOrk8aczb5+Dvzc4xTjD4r9TmZGMXqwrCFI29mqY8FjZR4xd3fmvGck4wluZHO7WdLrhgFJz8sGBE7jdlC2XCOVMDx2LjJlRurgZ4nGN0ilzubey+YWx3cLKaJQ8/FlUIlGjH4dSDm1hw0QYTzWPsDc80qG7MBCIUz9Iq9lrGgZBPMPrYDOPXO2CeBPMWsHYI3m6B/7kDwDoYDEDZwBlGbvpBksGwOxeDgpHZNshOTlgv8pmV1gCUE9Xw2tbdrpnX9NbdFvv6ml2bWfjABNncotLa/GTAyq2798jkHpkkqWIbCbQw4ucItD2rv1TXaIUZNzyZ7cyOU984tcEZ3COTB3m3Zws7gj4UE4yMv7xgWBU9XraHrNn992QYr2e1l26v0uTqeJfe3Gcdvd1zhZOBHEQRT5/eZLYOTVmNuf2PFE0LM4zsHgYvXfl1Ks5lgRCysFA+i5IrauEMI5Vj7HGOwaLljL7uYqMNrnuE5Kni0CleMFKvZ7XG+cgTs5rN7P3H2Qtrtrc7tao2di2Sm1NV7P7ZOymfYHAlqV/vgB8OwXcW8OsheHsI3r5jBYPd3nD+HWcY/HoN7jp4uFp5NkbTCbcxU06Bazd2XZNKB6wN7W2m2S22st9mbNd/wxam+Gi7OqyyBgQ30vQ+XPIIlvlZ+hZGRjjhHXB5SPrMmswmc7Yz3MKKCwRpCgZ3we0Zwcjrg1Aw+OTm5Zga7hxkOrP7qF17N5yhLJX3AlJehrG3Odmq1LtiqYBNyeVe6c3RAsF449Q3zrIb+KTnyzzB2HW19Pig8ayqwSe+HOM2RfJOFhOMiNesumzzwzpewtHKpTU1uIQUHTezCn2cY5lKZtJnVnMLjix5spSrvgPRjkMCuI1abUO7OwEJUIS9HP8T822tzhp+A7tAY+QTjH9/BuwE+HoW/AlA0gf+aYFff4gDcAj+/Sm4ZYH/xXsYCqWKfbdVpVK1fbO8mxYs6mk6te3t+YemzdSlVbeMctvRNO23KrUzXJwNT15RckWSXZ9Z22q29ndpO9lq0ra3p0GjNXW1XWnqeRje52N03mDvOPXKuuybpurRtch9/j0icqFHza4T4UZFnfpKl3ubTgbH9GrYmcYr7fYAeVwwCvrAB30oDzd62ztNLSptN7tzwKtXOuYxa9UNXZ1tmkbzPNzM4AOK36pQqtg3a9V1F7X8C8cHAau66cZQX0//mDXzqm7M0aq8qNZ0PnzuaNW09dt6zLft5rq8wtHr2Ub+hSjlJc6mStVgdrCv6kbmWjIn2VGAr9UKYFFdqtPzL+Cm9rydxvlaDQSi42YW8Bgkp5Bj27N67nUyml9wCMiTHdlqOxDtOEvOn/u4l+ugFwXsJTcnW7Wd/baeVu0Jb/Tl6F1tIJylP3IJRt5utsgv0gaPDy5n8bZE99aMIyXCp7xmE25jZlV4luduzeD/D6MGQ56kqQr3C4M1CMJZ5gUWDBkIIYmFZxktfK8oBLYDfvga7pk+kZ8DH/h/Vs5m/4zdO+PtyDJWguMJb0+nE5aC8UeAABYMGQghgYUC6DERMQKVQgBZxiLruFxMO5NgnP3vD8rlRmXtYBZWFn/8dKkIIMtYZB2XypCT2p9eME6yiOB5zEIEB/1cu4wsY5F1XC66YsHAJSkZEJCLjthOeRBANm4i67hcvMKCIUO4xCyUi47YTnkQQJaxyDouF6+wYGDBkAEBueiI7ZQHAWTjJrKOy8UrLBgyhEvMQrnoiO2UBwFkGYus43LxCgsGFgwZEJCLjthOeRBANm4i67hcvCouGGd/XxZbwAhgBDACGIEaQ6C4YBQ9i0+ehMDviT9OuoTPYwSqEAFkGYus4yUl4UcltV57xjELa29Ma9sjZBmLrOMl5TMWDGnwYhZKwwu3rjQCyDIWWcdLyjgsGNLgxSyUhhduXWkEkGUsso6XlHFYMKTBi1koDS/cutIIIMtYZB0vKeNECUY5d/9L6u3ZjWMWnh1DbKGcCCDLWGQdLym7xAqGyH8o6YzNqn+Mq7+HJaULNn7uEECWscg6XlKKYsGQBq9YFibchhZ3XGj7BaH8ZCIsPJM5Dk1c1Wi4z6emiV/IIk3yTsXdLQZ3Iu8U/oIROAkBsYx9TigGg0Ij5EOD8qaPEp46V8diHT9XTlW8s1gwpA2BWBYeF4wjMrxVVAyChILIzNSDlYGPdY7Y+7uEBeP9+OCreQiIZewxwWCoaCh2fvWCEet4Hlr4ywcQOIVgHIIf1vNKT/vrYJnMO8N9ifpAtMjp3Km36+CHeO4rANU/xmJ7CAXDEfxlmrAT08/YTMRGkNwAACAASURBVOMg6HgQhPOPivq+JQj7hPvHlZVnYZIRCAYTd7fUjYTYMUsE3eMEYZ9e4ZMJasszYSeIbx1EE84wPkBrfDmLgFjGQsHwhR9PEPYJzxarExEf8X2UYajgw6VoYmUacm8lfsSRk/1qn17ZY79GfO4QGXIRxKMl76g7lM48PP7TtO8Dq59sN+U/EOk49cIx8ZSvBVAhtxNOUirig/6Oe8IHbMf2Ciej/N09JxZPIRgkGHQJozxIxcFvh3lnuC+r/WC1yOncqaQLDOZpj8gxriC2YnuYcBuUhulQnDoIO64rLU9pJpNzUL6bBphDHMXdHfUjL2gGCoZx+tnKyrMVz6TJNBmCk5X0mTTECskwB+GJ6yYfyTChEc316RBJ0+TSwMdYMCpIgXP2aLGMfU4oPrH4YhSVWCE+YdPcTM4Rd7cojQ9C8QMq/MBQPxlmGHLpnjuUoKiww8BVWZ8TdRrTyI/BYJiM3tMZH7OZdHrJ8slIiBOYSmAm1nEq18/oA7bzcK45ojTDJHyWppHQUdRxzQiLwOlo+DynXLIMwqkE46tPQbcFtHaDfQDergN7Ry7uP+gAt/pBvQoEDsFqP+iygK86wOQWFIkfCDBIgO47IAVA3Ae+6gd9n+ZuZGVE7BjL4vqpjIjtobAk9csArA5nzpDu65nCcHCwnk0mcoLhcw0Yro0EKYZ8aNDc8qxwKnJLQzxngnal5Sea7TIuSZ1q5FC9SSxjBSWpuLPZ4IozOcHgFyi7jubr7lxdlQ5PN5l8Bwxs2beSAZj0GK85ogxDPjbqHkQriLpYxxkmNFwPl3RHoZFPLEtpONeM9+ACbuXZynSHwZ2IOq7V33wQjHPzr4IuVcGjTyUYfWyG8esdMM9Votb5uE8C7pKzH/wfgIIRAAAcgm4CgHXQ7QFvD8GCBfxwCOz94C8AajvDyG56cxOPlxDqOdF8tVnX1JxJJvJKUgw3V+MuQ/O3YeqA4j70ERMcVBDPOb5gwaiCeXN+uiA2bgoFw2UoLhh8lhyaNBksA8T4iOUqqyWCexmGXuqtH9mIOprYzLhyQIl1nGGYmEPX4Yk/tWhGYTk4OKiw/JiZetQBRR/BekDQNWLS1Rsf8sWryvlV2SefSjC4ktSvd2Dohz9ZwTgEt7rBMAH+dxuezpSkDsFXd2Cbr3xQMN4egncADPbDBvGaLkk1OThyhSc1pu8pPsNggnYd8UscKkFmwSLYwziifBblzR8pZmOk3rKU2XCkYbvoA53uHrteOwpPcLO0ssTBTz8nCIiNm7ksgfLdZDfSjmcYnGC8IJRcPpGlYp5gMJC913SGYW4vrmIwiXUcdpD0dOh014weNnuCuRE31xiGYWcfwxXWSI9RmGBVzLNKPvhUgvHvz4CdAF/Pgj8BiPpgSepvHeDBOgBx0KoCfQSwz8IM4+Ud8E8CDFrAAgnAO3CvA9xiL70FYKEb/LsfDHbzqQmrO7W26X1zoMNkul6v6/HBrUJ+dRaevGm6RRB2wnK9XjccpGGGoaxnX6utr683Dq+QkJ1UaNKg0RhNN5o1n48ED+DWI6Gpq7+q0fU4Jm7yJYJKMgc/+3wgIDZuPic0X1iMHSaTrr6Z20g7STDSQULTfNM+YLk1QXBveBcIBhN3NH3wZb+SoyfWca4jvwwoe5cyS7ijuM+i01wzmT7XNFs8USo8fV1nukVYruuI55lVXMl7X60POIVgZIJ7kV9vfeBrWIQC0VnwXbH3porck3dK2hhXAtOz9nDPbci+2075biK/YKnEGKL1zLMy9hRokR5jB7dYP8XNst0iyfHQsG5kQ7ZH17AhWQUDvAMLszD5+DYAtyik/0ga44qMypl7SIUmjbprGs1Vna5jYGm3Ik7ghyKEwJkZKxUrOvytgXhW+Q1iCY6TPssX7kpu0EvFuHLt5RUM6RKRf4eEMa4QZNXfwwoBgx9bpQggy1hkHS8pEcUKRtn+/mBJvT27cczCs2OILZQTAWQZi6zjJWWXKMEoaQ/Ol3HMwvM1Xri3yDIWWcdLynksGNLgxSyUhhduXWkEkGUsso6XlHFYMKTBi1koDS/cutIIIMtYZB0vKeOwYEiDF7NQGl64daURQJaxyDpeUsZhwZAGL2ahNLxw60ojgCxjkXW8pIzDgiENXsxCaXjh1pVGAFnGIut4SRn3Udnel8UPwghgBDACGIHzgkBR4fkoRdP4Ix6B3xN/iG+MW2IEKo4AsoxF1nG5KIcFQwZpxCyUi47YTnkQQJaxyDouF6+wYGDBkAEBueiI7ZQHAWTjJrKOy8UrLBgyhEvMQrnoiO2UBwFkGYus43LxCgsGFgwZEJCLjthOeRBANm4i67hcvDq9YJRzW18ub0tkB7OwRMBisyVCAFnGIuu4XEQ6k2Dk/xnyUn2r/jGu/h7KRRdspzYQQJaxyDouF2+xYMhQkBHLwh2nXu+MCF9ZDtiUl8c2hGcyx2ujV5om1/P7Ri70Xul2v8k/ybUn10ZbNeorY6tFTBVrj5uhjYBYxvptCmtAGGt2XS3KL73Jc4ueWMfPrYPCwSrFMRYMGeKpWBYeF4x0YuNloti4Bqx1dRfz1WV1WKNUtjh2inR419XSeD9WzE6RxrgZRkAsY48JRooMr74mzy+AYh3HgnECAnIJxiH4YT2vJrW/Dpal/wvef5Hgu7tg/KnQVPWPsdgeQsGY9f88ZR2yTS6x8X0vMDMTgOs1Muy5Z7MOjTm8y4tLm7t0wKrosw9renz85GTFxmHNCEZkCRqx3lveTdOpxKa7X6Pun2dvxAqBEfgwAmIZCwXDu/FozDo05n7JUvGV1+oJp2jS71rY2lmeZEkYSbNP5L4OTS1ySfArr2M9sTpnsz5cmB92rh5kehXxTXlef7iHJdIkkY4nA7OjT/gVGLnmuA8nafKVF/o7Or+xx/b/TcAxarMOTS0WW8OVqP8VNyuXYJBg0CWM8iAVB78d5p0R8+U7C/gvKPinv0WOcQWhFNvDHade2TK5Hkvubc60KnueUKlMzkF6vmyZeU2n0jGHUWUPUCkoGDY/udCjvr0KZyPpM6vsQdrPCcabhcm5tcgeuTHTohrfTKWpjXtNjfc2k3tUBUHAjz5HCIhlrN+muGz2vCaTO8vWy1pI0UzOEXPolW0zAhLSCd9d5+oOmdyc1XNVVr/torrL7g34NxNbd7Vtj9hM+mCh5zJH6cpohljHyVw/t2bYzq/fVrfOblF0asfb03h7NR2eaWiH6f5BeOM8p1xSSSufYHz1Kei2gNZusA/A23Vg7wCDfM7xoAPc6gf1KhA4BM4O0PV3cOsuaL8LFeQ7C7D3g/Y74M93YC0A/kcF/hMAa3GhuIgd4xNyKKmInKK92B4KS1I/98HqcOZMwtHa7SHhFPJbVXa4dcEKBk1H5lr0c7HU+m11p3cXXs0rSe1vTjV2woJyplnlEDgFaPiWCiIglrGCklTkfhOkYk4weCpuzza2Onez3KM2Jxu7PHustPQuZ3xMzLc1zG7R9O6jdu1M+Bw4TtOr36jgki69Zr9s9h3Q/iFl293lxSX4mTS2OHbCMw2qGzOBCFUZ5asUhvIJRh+bYfx6B8xzlah1XjBIwF1y9oP/A2CwH8Rd4N42+I5t/9c78Ns6uKUGawCkDsHXfwf/PQSpd7UvGNzE4yUk6bc1XmnSNjZ1jq+xO4oZwYB8Vbfo9drJV5ycsLOUXBs1tfT020aHzWp2nwMLRqXmzzl97mkEg1u7HBcMPkteHe/Sm/uso7d7rrAsFYhNiqZ8FpU9GJ5p7PIkKhlhxTpO06nXs1rjfOSJWT28xq7kFD1eMrmX+eynYT3AP3e7U6tqc/HFq6xq1u6BfILBlaR+vQN+4CpRWcE4BLe6wTAB/ncbysBgP0i6wHckKxhx0H0HJA/Bt38Hq6xGDH4KkkKxgMcSxrhC4yS2hztOfeMs95bUxrim00PyGQbtH9Jaf45BOmYWLLxg0HTySV/jcGCfdY3LMPxDyt6f2Vn3cgwLxjkN2ZXttljG+m2KTJZAer6sg7nvSYIRsCm5lunN0SKCQaeCt1UNWv03MPhW8CPWcdjJhNuo1Ta0u1mFg7nRXT43otjaL7dzk5hvEyZYFfWuDMDKJxj//gzYCfD1LPgTgKgPlqT+1gEerAMQB60q0EcA+2wmw8gJBgm6P2NLUmpUBEPf3Wvs6mxVaf/lhVuF/OpsY7y7s99mHbL1tKq03wT2+ZJUAQM4wdgP2NSN3dZ+c++ojXtPF2cYBUDhr+9HQGzc9NvUneY2Y1enVtXI5b4nCcZBwKpuujHU19M/ZtUfzzDoFB2baWR3QSoaUsU6znXy5z6lZYFbq6XSMY9Zq27o6mzTNJrnt8jNyVZtZ7+tp1Vr9fNvplTUtfePuFxX5RKMwrQg9/2tD3wdgF+jszCxkP4jbYwrMWZn7eEbpz77bjvpvYHSgkUuHmM7khA4K2NPMcsS823G+dxWxyksyHGLJMdXv9Hag5XMhySNaXkal14wwDuwMAuTj28DBa8/idQOSWNcHtQKnnLmHpKr4+3aBo36ilZr7PNtY45iBEqLwJkZK7V71Ma9FutS5d/ik+B4wtvT6dySQ6UKwsW5/loGwRCpCyc2kzDGFRrd6u/hueYo7rzsCCDLWGQdl4tCZxKMsv39Qbm8LZEdzMISAYvNlggBZBmLrONyEen0giFXD2rADmZhDQwiUi4gy1hkHZeL3lgwpFZji7THLJSLjthOeRBAlrHIOi4Xr7BgFBEAqeBiFkpFDLevLALIMhZZx+XiGxYMLBgyICAXHbGd8iCAbNxE1nG5eIUFQ4ZwiVkoFx2xnfIggCxjkXVcLl5hwcCCIQMCctER2ykPAsjGTWQdl4tXxQWjbO/L4gdhBDACGAGMwHlBoLhgFD2LT56EwO+JP066hM9jBKoQAWQZi6zjJSXhRyW1XnvGMQtrb0xr2yNkGYus4yXlMxYMafBiFkrDC7euNALIMhZZx0vKOCwY0uDFLJSGF25daQSQZSyyjpeUcVgwpMGLWSgNL9y60gggy1hkHS8p40QJRjm39Uvq7dmNYxaeHUNsoZwIIMtYZB0vKbvECsaJf5Fc1gvVP8bV38OS0gUbP3cIIMtYZB0vKUWxYEiDVywLE25DizsutP2CUH4yERaeyRyHJq5qNNzn8wHPFlXY5Lipwhb4O0bgRATEMvY5oRgMCq2QDw3Km75jdBQ2qepjsY5XtRNV1zksGNKGRCwLj0f5IzK8RRZ7WJBQEJmZGnMYLliW0vmtjpvKv46/YQTeg4BYxh4TDIaKhmLnVy8YsY6/Bzt86RgCpxCMQ/DDel4han8dLEv8F7yjPvgvua4d5tkBoPrHWGwPYZR3BH+ZJuzE9DM20zgIOh4E4fyjor5vCcI+4f5xZeVZmGQEgsHE3S3KkQ2G2Qu6xwnCPr2SYBgsGMdYi0+IR0AsY6Fg+MKPJwj7RCbNjfiI76MMQwUfLkUTK9N2gvh2JX7EPpn7ap9e2WO/RnzuEBlyEcSjJe+oO8SveOI/Tfti4nsqc0uRjlMvHBNP+VoAFXI74SSlIj7o77gnfMD2SjgfZe7mOTN3CsEgwaArL9Cn4uC3wtCf16Dol6QLfFcoMyLHuIIYi+1hwm1QGqZDceog7LiutDyl+bhP+W4aHDGGOYq7O+pHXtCMUDAOfJYLN30HUcc1ozvBMOloOEbxN1bQafzoc4yAWMY+JxSfWHwxikqsEJ/oIEUzOQdcxBgfhOIHVPiBoX4yzDDk0j13KEFRYYeBq7I+J+o0ppEfg8EwGb2nMz5mM+n0kuWTkRAnMJXAT6zjVK6f0Qds50MjmuuOKM0wCZ+laSR0lD8fK+FL9TzzVILx1aeg2wJau8E+AG/Xgb0DDPI5x4MOcKsf1KtA4BCsEuCfFvBVB5jcgpLxHwsYJMCgLyMfNS8Y2T2MXwZgdTiTKJDu65nCcHCwfiTEsIKhrGf3MOrrDRMvKIaJOq7V33wQjNMsT3CGUT3T5Rz2RGzcFJSk4s5mgysuEAwDXL4wDLPraL7uztVV6fB0k8l3wEpL30oGG9JjvOaIMgz52Kh7EK0gYGIdZ5jQcD1c0h2FRj6BBeGgXWm8t7LyDH6mOwzuRP58rKBLVfDoUwlGH5th/HoHzHMpwjovGCTgLjn7wf8BsNoPAgCAQ9BNQJGY/AwsbIO/MnoB0BEMbirycZ96TjRfbdY1NZsmQ2yFWFiS4hlxFA+6Rky6euPDOK80/CX8GyMgBQGxcVMoGC5DccHIcJgKTZoMlgFifMRyldUSwb0MQy/11o9sRB1NJl9OW6T0WKa2Yh1nGCbm0HV44k8tmlF2BTeosPxIUQeZD30E6wG5+ShT986pmVMJBleS+vUO+IGrRGUF4xDc6gbDBPjfbSgLq/1glRWMr+5kVOK3AOjuB2/ZbzUvGE0OrjIantSYvs9VloJ2HfFLHNKRSyCEJaksibhEnvQYr7tJXmmyF/EBRkA8AmLj5nNCkckSKN/NOpj7ZmQg7m7hMwyOii8IJdfyKDxRRDAYZmOk/prOMAyDbwV/xDoOu0h6OnS6a0YPq3AwN7rH50Y0O0uF87GCLlXBo08lGP/+DG5Zfz0L/gQAbl93gL91gAfrAMRBqwr0EcA+m8kw/kmAQQtYIGGe8YCAd/3zDrxrbRb0fQpaLeCHOJ9xwN9Sxrgy4IntIZxaNwc6TKbr9boeH9wq5Fdn4cmbplsEYScs1+t1w0H6uGDQ4enrOtMtwnJdRzzPKU1lHMZPPecIiGXsc0LzhcXYYTLp6pu53PckwUgHCU3zTfuA5dYEwWlJXobBMEzc0cTuglQUOrGOc538ZUDZu5RZwh3FfRad5prJ9Lmm2eKJUvnzsaJOVfzhpxAMYYTPP37rA1/DIhSIzsIN7UyGkd/mvd+kjXElwDtrD/fchuy77ZTvprAiXAl38DNrHoGzMvYUAJEeYwe3WD/FzbLdIsnx0LAOvp2Ifz6EgKyCAd6BhVmYRnwbgHsVUR+Ivlcfjl2UNMYfcq0k18/cQyo0adRd02iu6nQdA0u7JekkNooRyCJwZsZmLYk8oMPfGohnmcW6yHtK0UyC46TP8oWbL0KVoi+1Y1NewTimABJPSBjjCg1B9fewQsDgx1YpAsgyFlnHS0pEsYJRtr8/WFJvz24cs/DsGGIL5UQAWcYi63hJ2SVKMErag/NlHLPwfI0X7i2yjEXW8ZJyHguGNHgxC6XhhVtXGgFkGYus4yVlHBYMafBiFkrDC7euNALIMhZZx0vKOCwY0uDFLJSGF25daQSQZSyyjpeUcVgwpMGLWSgNL9y60gggy1hkHS8p47BgSIMXs1AaXrh1pRFAlrHIOl5Sxn1Utvdl8YMwAhgBjABG4LwgUFR4PkrRNP6IR+D3xB/iG+OWGIGKI4AsY5F1XC7KYcGQQRoxC+WiI7ZTHgSQZSyyjsvFKywYWDBkQEAuOmI75UEA2biJrONy8QoLhgzhErNQLjpiO+VBAFnGIuu4XLzCgoEFQwYE5KIjtlMeBJCNm8g6LhevTi8Ypd7Wl8vDMtjBLCwDyPgRMiKALGORdVwu8pxJMCT+nXIJzc/XuJ6v3spFHWzn/CKALGORdVwurmLBkKEgI5aFb+ZvXBlbzb2ynHD/q9v9hu1AOrb4TbvqgkKhUKra+twvyRRNRzxm7SWlQlmnNTs3SK4ZuTHHnlQoLzZ0jf6cOJEHO0693hnJPeu4mwlHq/KGFz7oPZ9kcEyv1nb22zyv2GYfNvs+a+95EL5UTgTEMpamd19u7r6XIblupxMbmycTUqSREjcT73jOrxJ36Xw9CAuGDAFOLAt3nHqFzZ/jX8yhb3Hs0Kl0zNGq1N9d203DzuxvLzt8sdSOU98wtsGeifgDEXhA+q0qlcUbodg+J9bcj9aSOWv5joiI7MnXa1ucDp1khF6zX+r2CNuIMHu+JgCavRXLWDo20yhkbD7HCmizPdtoDVQ5nqIdf6+nBY6j9LU0gvH+f4d1fx0sk++vT52vcRXb2xMEY/+JWWmcL1zHBWzKL715evB6Vnvp9iorIUWnZfKVd3LIZh11+t/QUG/0s/6lKeuQbXIpxrWPsF+t95Y5ZdrysHnDXsDxJMxdyrZk21ORwFSbon1yaXmR/WwkOLNs4pImt7zQ+OijzeTJXSraT3yy4giIY2xiYylDAP82lcof8f3NeftcZr0S8Y1Nev2Ld9sVxqnFpUDkoHqjrTjH6WRgdvRJZtakyDXH/UCSpvn5Nb+xxzr4JuAYtVmHphZ3qtdf2ZlWGsFY7QerJytCKg5+Ozz5Mrwiclxlh+N0BsX29gTB8A8p9XM8O7OrlXTMYVQqtV2jj9bY9ILedbUo3rOCW7+tbp1a3SGTO2uLwQQUDGXL5Hosubc5o1eNvqRTbxYm59Yie+TGTItqfDNF036rwupnNeBC+4ywJd+HfdLbozB79sjkHumx8I3ZStfqsEZ/P7yfhnWzxuG10+GG76oUAiIZu7/HE4Cij404udir7f2ZTG0724zOCEUlvWaFxZvcI/ereAEh0vEUudBzObM425rRtj1KpOD8mt2i6NSOt6fx9mo6PNPQDssDB+GN1x+o61ZqlEvxXPkEI+oC/2MBg3fBPgCr/aCLALc6wDybSXxnAfZ+0H4H/AnA23Vg7wCD66xgkGCwG/QRoIu9JNAQsePKh7ZSQCPeptjeniQYVkURwWBd291cdvQ3KS+0u3foyNz7BMM/pOz9WbDSEdSOIveb9K5ccXl/c6qxE+YuOcHgdzsKWqbogJWvoeU3DliV2cxjqo2/XTxiuGVlERDL2BwBio04udzb2H3D2O7YZonnt71vQXO+pipNr36j6nlCpdJr9stm3wHtH1K23c2k2pPGFsdOeKZBdWMmkKkPV4d3ZSCVXIJBgq/vgr/4kL/aDwIAgDjoc8FTf70Dv62DW2qwxjVYzwkG1yBQmJGIJrQgRFZuzMT2Nr3cq+hbzK2/1uyXWhxv6KSnS2lZ2D+5/xvjGhjx129fbJjdOqFZJqBnrwoFY64FChK5Nmpq6em3jQ6b1WyIz9cAiGSEa5k1kosXBeoSsPKZR3KPTJJUGZiKHyEjAmIZmyNAsRFPx2b0dRcbbX5ul6u2BCP1elZrnI88MavZBNpvVfR4YarNfWAWlY755253alVtrmPlgdwMqooAJSNz5BOMr2Z5uWAzDFiSIsGgC8pG9x2QPATf/p2vUwkEAzbIts8ZEE3oqhgP0b2lfBal/n6YG79dr1nVyu4HHASsl1U9Xp52e5se7+bv617Pa8470mdW2YN0iub2xvk9g3Rs8VFmNyJF07uP2rV3M5ZTacFmAy8DuRTk5diZBSPhNmonufemaHqf24Sv3Uki43yrElOiGZtNMYuMeGSuvW0ulvSZ1VZY4k/VmGDQ0GVtQ7s7Aadh3vyi2BUSt/JLzLe1Ogs3IGt3LsglGAAs94OvCGCfzZSkcoJBgu7P2JKUGgpG1AdLUn/rAA/WeUVBRzDoFLnp+JdGeUmjvqS82Dq2mn0B6c2yvbUOnr+iunipZTRApl7P92jrLqo16kt1jeP821DkpsOsVV5Qqa9oLl7S9jziFYKG6x3Pv7Sq1q7OfzT1PAzvH8sw9gM2dWO3td/cO2rj3rg9Q4ZBp7a9PQ0aramr7Qr7uNqdIVUS4uXthmjBgGuUi2pN58NY4Yhvz+pbndzLez6zxuon4bbZhTr1lS43V6GqSkqIdpxdq/3cl0v90zGPWatu6Ops0zSa57fIzclW+Lp5T6sW+l6VzpaiV/IJRi49kOFI2rhWerTOV29LQSNs83whgCxjJTm++o2WzeyrooxRJQTDgiEDGySxsEoGHncDZQSQZawExxPenk7nSVuGyJIHCwYWDBkQQHb+nFPHJcTNSqfv8iKMrONywXgmwSjp3x+Uy8My2MEsLAPI+BEyIoAsY5F1XC7ynF4w5OpBDdjBLKyBQUTKBWQZi6zjctEbC4YMBRnMQrnoiO2UBwFkGYus43LxCgsGFgwZEJCLjthOeRBANm4i67hcvMKCIUO4xCyUi47YTnkQQJaxyDouF6+wYGDBkAEBueiI7ZQHAWTjJrKOy8UrLBgyhEvMQrnoiO2UBwFkGYus43LxqrhglPR9WWwcI4ARwAhgBM4jAsUFo+hZfPIkBH5P/HHSJXweI1CFCCDLWGQdLykJPyqp9dozjllYe2Na2x4hy1hkHS8pn7FgSIMXs1AaXrh1pRFAlrHIOl5SxmHBkAYvZqE0vHDrSiOALGORdbykjMOCIQ1ezEJpeOHWlUYAWcYi63hJGSdKMCq4xV9S509hHLPwFKDhWyqIALKMRdbxkpJNrGDI8C8lSTdRhUNehV0qKT+w8fOOALKMRdbxkjIWC4Y0eCWw8IgKuyy6j5UKhbLummniF5JJuA0t7riYB1LR8C5dtGFwUEE8p1eGNQM/UXwD0mdpng7x346CI1cHlrIX+dP4N5oIiGcsuRUmRWJ0RIZFtxVpUvZm4h2X/dE1bBALhrTBFc1CKjhYX9/ri3Nhnwx5Hoco8YLxy4DBVVxZWMFg6J8sii98GVFIuA1KZf0wrxgbI3XZS9Kcw61rEAHRjI07moigSAB2Hc2DYtuKNCl7M9GOy/7kWjZ4ZsF4uw7sBPghLqrg9FfRVofgAQHsvuPXqnDIxXYp5tB9PBI6yqcOLxjUC4fjBRftqeADR/CAYY7IoGuCsBPTz+L0btBzS6O55Vl5xq7iEivTdoKwT6/sQWucYDAHPpPCspSGZ+Iug8nltnySeVxotM74WOxKMb9/+FsNIiCOsWT42bRRYZx+thLcpZkjKvrjNGEnJh6HqSOGDntGXCGOr/GfJqZ9z1fuGRUd0yvPgnGWgdWJmjjHGeqFY+IpvzijQm5nkGIYKuKDk27cEz5gndsLusfZOZioTl/L16szCwYM8+tgcP14uC88k3SB78jCk9nvg/3ZW1CBRQAAIABJREFUw+yByCEvH1oMI7JL5EOD4vgSjBeMuMvAJxBxd4vBnWCiD3TGh3HmiI6GoxRNhb9tbv42TB3QDEMu3XOHEhQVdhg+mQhnBYOhfF8oiedQL9wtJt8BvdRbP7LBMEx0+io0iH8wAhwCIhlLH/gsCovvgKJoJjSqMTij9BET/97SPBpiGGqlTzfwC8Xsuo0d7jhNUz9aFL0+6oCiC5ZE1QS6SMcZaim72ILT8DHJhEY01x1RmmESPkvTSOgo6rhmhHMqHQ3HUC/1nkowoi7wPxYweBfsc7E9KxgkGHTBU6v9YBWAP9dBtwXmHwESRH2g71PQyn6NAvBfFxgkwD8/A2vvMvJQW4IRd0kWjPqbDri4Y38EisJPQTo83WTyHfAZBsOQj43KwSATc+jYAhT91AKrUjGH7pojyt+Ef2MExMZNJkgouJJUkFDCVGMFfqaN3K4btTLQdPNmh9G9yyL6nCiyHqoyrEU7zoSG6y1PaeYoNPIJzNqDdqXxHuf+ynSHwZ2IOq7V33wQzJSXq8zNMnfnFIJBgq/vgrzi0gmC8dYHumdBnJeEggwjuQ3+0w/sfGpSW4LBhEbqjgfukzMMmCk8d4/c0NV3uONHsMrEpyBUaNJksAwQ4yMWNnXIlKQYBm6hfzzifqAzfc+uetJwoeRxGjT3sF6UeRJV9eNEx02BYHCpxgFFHVAw42AY5ijuaKmrayJgvYZhmNoSDLjM6vDEn1o0MJ2CazLLj6zvLAIwizqKB10jJl09LAOg/XMqwfhqNpMWZH4dE4yFbphhAADexcH/9oPJbXgsFIwH3WCVBP+dzdWyakwwmLj7utJwD5aA4c9RfOXxCrmbeUuK/slSx+1RH4UnuApSJrUnPR0G955AMF4Qyr4V1kKmZU4wYDFKqVTCtIP9gVWpuo810xHuK/4vRgAiIF0wSE+HLssimtWLuMtodMWpnyyaQVYyakwwGOiy7prRw+79kY+Nuuyqi/Ofm56kx3jdjfj24CkEA4DlfvAVAeyzsCQV9QF7B/hbB3iwDsA7MNwB7BbQ9SkUDHiJALc6wH/YrYu/tkBrBzwTBWC+G/QRoO8zVjDi8OTf1NDg24wEcb9Ec718oUFCl6iw26JTXqjXXNXUfayzPI7mXqtNB0c0dbobJmPH9MhNgztBh7816L4YICwGnR1OSPoFUX+hXnNtJHgQJDTNN+0DllsTBLvbIRAMuPORe1eKYeinFuXHI/zLUuXDBD+pmhEQzVi4xKnTaEyP4syuz3JNA/l5tdnyKErvOgzXYeLLwHq/hnhOQSZfqNNcNXm4ClVV+i/acbb3vwwoe5cyFeGjuM+i01wzmT7XNFs8USo8fV1nukVYruug72j/nEow8qJ6Cb9IG/KyDGQVdqksfuOHnFcEkGWsJMdDwzr2nZHzOspl6zcWDGlQS2KhNNO4NUagBAggy1gJjpM+yxduvPUnhn1YMMSglGsjgYW5m/ARRqBiCCDLWGQdLynVxApGpf7+YEmdP4VxzMJTgIZvqSACyDIWWcdLSjZRglHSHpwv45iF52u8cG+RZSyyjpeU81gwpMGLWSgNL9y60gggy1hkHS8p47BgSIMXs1AaXrh1pRFAlrHIOl5SxmHBkAYvZqE0vHDrSiOALGORdbykjMOCIQ1ezEJpeOHWlUYAWcYi63hJGYcFQxq8mIXS8MKtK40AsoxF1vGSMu6jSr0vi5+LEcAIYAQwAlWLQFHh+ShF0/gjHoHfE3+Ib4xbYgQqjgCyjEXWcbkohwVDBmnELJSLjthOeRBAlrHIOi4Xr7BgYMGQAQG56IjtlAcBZOMmso7LxSssGDKES8xCueiI7ZQHAWQZi6zjcvEKCwYWDBkQkIuO2E55EEA2biLruFy8Or1glHMfXy5vS2QHs7BEwGKzJUIAWcYi67hcRDqTYJTwn0kSmK7+Ma7+HspFF2ynNhBAlrHIOi4Xb7FgyFCQEc3CtdErGnX286/5XZpeHdU03l3LH07S16+58SiRYq/y7Zs6x5d305neJl86e/6hUioUykvazvHlSOY8uTrerrqgUFxQtX3DNibXRtvYZqp2+8/QIP5gBFI0LZqx9O7LzV2RtEknNjarnWPiHcc8KYoAFgwZYqhoFgasCps/f/r5rXUX61ocO4JurN9WK5X6uViKpv1WhdXPXkqTi7112plwiqaTfpvqstmzTcERTSdW77YoW51QM/w2pdmbTNOpNLnh30zC25U9XhI229v0v2QP8p9elBP4ZM0jIJqxsZnGQsaeCM72bKM1cOLV6iCeaMcF87E6el4lwJZBMA7BD+uCCpPkw+ofY9E9LCoYit7h22rzQjLDy5hD3+KYsxUKBk1H5louDq+l6PBMg2b0pZDQCbdR2fOE2nW1qMc3BcRKOFoLWgrvwsfoIiCOsYmNpak2Rfvk0rJ/m0qlyS3vlHXINvpoM5mm9zfn7XNrHGkjvrFJr3/xbrvCOLW4FIgcVC+w4hynUzTpdy1s7SxPDtms9/gMPp3wz41lERBMtOr1V/ZOlkEwSDDokqwSghtEj3HFhk10DwNWdvotLi1n5xWbQ5A+s8a+Dvuf9JlV36yl/DnBaLu7DNs/Gus0ja2SdOqNU38sTcloCRmwqpUXW/scS2GYZ7C5iPpCnb7fufgKpxcVo4fsk/bsBkUydn/P26Mwe/bIJEWvDmv098P7aTriMTfChQu52Kvt/ZlMbTvbjM4IRSW9ZoXFm9wj9/nC6dn7KbsFkY6n6JhDr2ybWYvskRszLSq4Dkt4OjU93nByj9y436IeCuwjmXnIJxg/EGCQAN13QAoAZwfo+ju4dRe03wWABF99CrotoLUb7AOQWofHX38G5uNQFP5jgXcN+uBx0gO6CWAnwG8CuQBA9BhXLCKI7uFJgkGndpx6vTOSXrOruzwJWFzKZhgZwfA6e1u1dj/5PsGAFSoqsj4/2qlRqm/7uYUeFVt9NNapVqq/QZTisgedGjAohbFcSSpgVcJUg13rTLXpnRGaTpHLvY3dN4ztjm126vltitopSbGJPlco3p5tbHXuvnHqG2eh1/ATsCr7FqtYF0tHUbkEYx10e8DbQ7BgAT8cgsF+EHeBe9vgOxcUjD42w/j1DpgnwWgHSAIA3oGvCSgLk5+BhW3wF6sQ/70LBp9CUcn/EU3ucyEYhRXh7C4FXMG1tmjvwl0KoWBk9jBoOrU92wgn6pr9knbmtdBZymdW9PjYLY0MoUnPl0prQNCG9N5QFj66dKzClqscAdFzKltEDVi5VGOPTO6RSZLbP4vN6OsuNtr8JMu0WhUMbjHH/Tczv8KTV1ocbwTzK3O+9s/IJxhf+aBgvD0E7wAUjKQLfEdmBIMrSf16B2rJqAW8ZQVhkBUMAMBvAdDdnzm5vw3udYOFQ6FkiCZ3xUZLdA+z0y/X1axgpMiF3n/waYEgw8gKRtJrVn7pTdL0rqdL2Tq1sZcxEvGaVZdvr6bpyJN5P3cyHZ5saHcnYr5HAa42lXo1pTXCl7KqPJDh7pUHAemMTbiN2slXGf7sU/AgMtfeNhdL+sxqawBuZtS2YKTX7JfNPk4at2f1DbNbSM4muQTjHbjXAW4RwD4LQ3+BYPz7M1ho+noW/AlA3AP+2Q9udbAlqUPwgK1B/fMOvLQ2C5t91QHW3tWuYChV+a/V5gRDyD+BYChV7Ju4KpWq7fYiv6jZ8vbpLykvqjWqC0qt2bnB8jgZGNNfqlNd0aguaW54Yqk06R9vuXhJpb6iuqju9nB1A+FT8DGqCIgWjJijFdKs82Este3tadBoTV1tV5p6Hob3t2f13Lt5NNyBs/pJWFa9UKe+0uWuYqZJcFzPv7vI5xbJ4FjblaZOU7u6Ad3ZJJdgCCO8zMeix7hiy+fq72F51q34KecFAWQZi6zjcjETC4YMMoNZKBcdsZ3yIIAsY5F1XC5eYcHAgiEDAnLREdspDwLIxk1kHZeLV2cSjLL9/UG5vC2RHczCEgGLzZYIAWQZi6zjchHp9IIhVw9qwA5mYQ0MIlIuIMtYZB2Xi95YMGQoyGAWykVHbKc8CCDLWGQdl4tXWDCwYMiAgFx0xHbKgwCycRNZx+XiFRYMGcIlZqFcdMR2yoMAsoxF1nG5eIUFAwuGDAjIRUdspzwIIBs3kXVcLl5hwZAhXGIWykVHbKc8CCDLWGQdl4tXxQWjbO/L4gdhBDACGAGMwHlBoLhgFD2LT56EwO+JP066hM9jBKoQAWQZi6zjJSXhRyW1XnvGMQtrb0xr2yNkGYus4yXlMxYMafBiFkrDC7euNALIMhZZx0vKOCwY0uDFLJSGF25daQSQZSyyjpeUcVgwpMGLWSgNL9y60gggy1hkHS8p47BgSIMXs1AaXrh1pRFAlrHIOl5SxmHBkAYvZqE0vHDrSiOALGORdbykjBMnGAcrhMayRGV6EnUamu9FS9otMcapWDieLt6Q+kXQ3/zOF79B9FnRLAxNXNVosp8eDyn6EadvSEXDu/Tpb8d31iICohnLkFthsSw9IsOi21YKVPGOV6qH5/G54gSDYZjdJcezOO8hFXJ5wpUOTSt9BneC79Gx3/GfHCvZq3mdP9ZUygnRLAwSCiIoxbIMbX8ZMLiyYySDPWyiBhAQzdi4o0k0Y3cdzYPlZrfUsRDtuFTDSLcXLRgfROkoHnRNEHZiGuoKuXJvYmmXvYcKuUdZddkLuscJwj7h2WJTlYOg+2k0/myav4VtnODaTGdifcTnDpEhF0E8CtNHVPgxtD/xOEwxdPyFZ+CqZuDRygq70qEivmk7QYx7wgcf7OiZGohmYaFg0GHPiCvEJWnxnyamfyGZI5JDDHp0BHsV/d4dSoQ94wJHjqjojxCiTBsIWjz+0wQxuRJnGA494tsV8oihd4OeWxrNLc/KMxaRvOE4k8v45nONgDjGkuFn00aFcfrZSnCXZvJZV0hd3/OVe0ZFx/TKs+BJKX41ICbOcYZ64Zh4yi+zqJDbGaQYpjCeZGIXH5eqwb0K9UEuwSB9X2iIZyRzRIUnDabvSWbXYWhxxI+o4GAz8ZxiSJ9JY/HFKOog7LiuIV7QTMJtuGB0hOLwTEv9xBbDtiFWSIY5CE9cN/lIhnlO1GlMIz8Gg2GS3nBPPItSB/GlvvqbP1I0FZ5uap7eoqg0w4RGNNcdUZphEj5L00iIDb4lwlMkCxkmSLDTb+XZCj+vqJU+3cAvFLPrNna440cQMcuPUeqACjsNGnuQZpjgoFLT54seUPGnA/U3fRTDhEY1BmeUPmLi31uaR0MQtE+aBx6sBLfi9N7StCsUP6DCDwz1k2GGpsLfNjd/G6YOaAhlwXCUCA5stuoREMlY+sBnUVh8BxRFH2Mdk09dmqZ+tCh6fdQBRZdyrp0RWpGOM9SS5ZNM0Ig+0Bkfk8fiSdRxzQiLGeloOMbX5c/YuXN7u0yCsec2XB3wwOC4svJoQMOmq3GnwdBzs3kQKjb50NDs5GX8BaHsW4Gxr8XNnYo7mw0PSfKhgV0gQyOeWxriORQMRd9KAbb0j5a60RDDxN0tmZJU0K403mMf/WxluuN9daoCU6f4KpaFRQSDYaiVgaabNzuM7l2G2XMbmhw8IkFCObByxAQHFdBrhmGOVgaURJAJEkq46GNVZ9rY4o4nhHdluk+Hp5u/gOoSdxkyJaliw3EKZ/EtNYCAFMZyJaljrGPyqcuwE7OGSlKh4XrLU5o5Co18YllKM8fiSdRxrf7mg2C80kX4amCjTIIBA9l0+ICiuA+7F039MqD7uJ4LYblYxjBMZFpz3U0KBYONdHGXgV0gZ4zAxctzQpHl5a5v4LrJYiemB43sSYFgDCosP/KPLvGqR/r0E4zyUdzRUlfXREAJFbjPMNHpqwb3nkAwoN6wgsEt+jhUKTYt41WWoUITNwyWW8TEqEXDnsyBXGw4BP3AhwghIJ2xQaKAdXAFI6BuzQkGE3PoOjzxpxYNXInCaVgYT2CBd8Skqzc+5Nd4CDEoz1WZBIMTZy5dO6JhrKeCxKdE8CA63WSAC+qNkXr+Nau406B7EBVGzEykE7RhaFbNc4JBuq83O9hNEerHmwWCQT426rJvbXE35vko5xfp0y/39LjLaHTFqZ8smsEgJURs12G45oiyTM1kGBnBID0duulIxgL0TCAzQbty4Bf20tZEoWAIjXPDkesFPkILAemMPcY6mLwKqFt7gsFAl3XXjNy7jEXiCVd5Iz3G626xL5LVKMtkEgyGoTYmDBqN8Yap+apx5MUfK33s1gWbTzRfd8ePqNCkUfOpyfS5Rtfjix/lxT5+aUyFJqEN041mzecjwYO8DCP+0KD5fIDotYwMW+pg2kEH7fXKeo1uNEgfxX0WneYaNN5s8cDNjJL9SJl+ynrha7W7DgPEAab3SxYN8ZyiNiaMV5tNN4yaazd9rBbmSlIZwWCYXZ/lmkZ3w2S82mx5FKUFgkG/IDRNN4lbloFxgivu0S+I+gv1mmsjQbpgOFAvvJaMDufAsGjGxt3XlXUajelRvJB1x6gLFy4X6jRXTR7uxZaqhEG042zvfxlQ9i5lIkdBPKHC09d1pluE5boObsei/SObYCACozQWIgIKdrOKEUCWsZIcDw3rRjaqeBSrpmtYMKQNhSQWSjONW2MESoAAsoyV4Djps3zhrvz/ilyC0ZfdJBYMaZBKYKE0w7g1RqAkCCDLWGQdLwmNeKNYMHgkxP3GLBSHE25VLQggy1hkHS8p87BgSIMXs1AaXrh1pRFAlrHIOl5SxmHBkAYvZqE0vHDrSiOALGORdbykjMOCIQ1ezEJpeOHWlUYAWcYi63hJGYcFQxq8mIXS8MKtK40AsoxF1vGSMg4LhjR4MQul4YVbVxoBZBmLrOMlZdxHvyf+wB+MAEYAI4ARwAgIESgqPB+laBp/xCPwe+IP8Y1xS4xAxRFAlrHIOi4X5bBgyCCNmIVy0RHbKQ8CyDIWWcfl4hUWDCwYMiAgFx2xnfIggGzcRNZxuXiFBUOGcIlZKBcdsZ3yIIAsY5F1XC5eYcHAgiEDAnLREdspDwLIxk1kHZeLV6cXDOHWeSmO5fKwDHYwC8sAMn6EjAggy1hkHZeLPGcSDFCyn/M1ruert3JRB9s5vwggy1hkHZeLq1gwZCjISGNhem3yHxrrEsUPYcyhb3Hs0LuuFuWX3uRZX2jOWOON07uPutVXNNnPaJD1t7APdGrb29NQp1QoLzaYHS9/c/8rdwt3b+bGhLfnSrvjtQygZXuID8qPgHjG7r7c3BXJyXRiYzNRfl8kPVG845LMotMYC4YMsU8SC/efmFWdXXrjPD8P+RBPhldfk2dmHm+Nn+SRuRb9XKzAbLE+aEdfslDsBPzbPCZ+m0LvjPCmUjS9NaNt6+xSfbNWYBB/PV8IiGZsbKbR5hcQ4H1ubs82WgPvayDSTimbiXacnwKl7EyVY1W0e7IKRnIdjBNgmfxApeqvD1wHAJyvcZXS24TbqJl8lXAbtTOZdTof4l95rZ4wHKQ3AceozTo05V5aXgzE9vcCjifhyNKUdcg2ucSH/p1Mm8WdDLOTL+dHh2zWe7PWRpivZAe7mGAc70PAquz2kLm7MrcXCEZ6zX7J7CPX7JfNvoNjjfHUOj8IiGNsYmNpqk3RPrm07N+mUmlyywtJOPpoM5mm9zfn7XNrXEIc8Y1Nev2Ld9sVxqnFpUCkirkhznE6GZgdfcLPNXLNcT+QpOnkK+/kkM06Or+xx5Kfn6fZOZiddDV8IKNgkOCru+AvAD/v/xnsf//1WhaMHae+YXaLppOerouZdTovGH6bAi7QNkcb+xb36NRewHqly71DpXac+gvtM+ux5N7mjF4F84CEt1NtW0zQqb3N0dYuT4JOrd9Wt06tJqj9xELvpULBaLy3mdwj4Ydk62BF+kBHXO3KC9rO8flVgdikCgTDb1NaFvZpenW4ru1RtRcfanjSnt01kXFzf8/bozB79sgkRa8Oa/T3w/tpOuIxNw6vpWhysVfb+zOZ2na2GZ0Rikp6zQqLN7lH7qerdzEh0vEUudBz+fYq6wjMqh8l2Ck2u0XRqR1vT+Pt1XR4pqEdrswOwhsyFAaqF7ECsskkGH/Ggf8u+H/7gT8A4u/A/lPQR4CvPgP/YbON/1jAIAEGfQAcggcE+Jsa2AnwYB3KxncWYO8H7XfAn3kiInZcq2NNJ763GfLRdOpgoecCt04vEIyAtWFsAzI15tB3efZoKBh8XShyv0nvSuy6WtT984tLy4tLy+5+jdVP+4eUPT5uU4S3xiMTmWu52NpnHbLBzwxcKBXrA8vXxObiXF/jBWXbQ35tlScYlM+isnNbIK9ntazsFZAJfz0vCIhmbMCq4EpSAasSphos66baOEKSy72N3TeM7Q6uhplZ8VR17BPtOL36jarnCZVKZ/Jp/5Cy7S7n/vKkscWxE55pUN2YCUSoqvZXdkLKJBh/vQNvn4LGWfD2ELxjQ3+KlZBWD/wy+RlY2M5lHsIM46934Ld1cEsN1hAQDFjSUaqyW9CXlJCRUBjYnICfbxFXu7qhSdvY0uthA7dQMNgNichcSy5pYBd0fqvC6ueIy1sTCEbeHkbxPghI/3JM3erM7K8IBSMx36asy26eqy5kS2qCe/mHyk5TbFBeBETHTYFgcKmGMFVNx2b0dRcbbX6umMkTWN6uymtNtON06vWs1jgfeWJWw3SK/v/Ze/ufNq6tbbh/mn+ylDdWKlArz0Ne+06AUxnDgfoF6kPh3Lijg4AYGDcRnCAIiimNQdRBHOemdZJCaOxYYUJQzCGPczs4dewaaYTVia2Ois5I82rPtz8gMzD+gNkRasbjPWuvde1rr2vvtYc05DYMrrHbdBYBsIvKJ0KLN3ssDZ3LwgJLB/zXSDBAtn/J2Jb5rL85wvwrBSREvPO/EaZ/hPmd/V4SjBTT/08m84H57r+YrYsvGIePXVxJh58D+M3L4OhbSPH8fEv72rt8bwA1+a19iWDk8JsNrkf8+1Qk2FjszVssd9jzj/zuVFNxSUouGOV9yG4H1tjHKSoTdEln2jLBAF3M821yFJVc7RJKalAwzh8CivOmKBjg1G32NR/pIbusji92dS4mMkGX2Q12rqCAeaEOvUHIlmtd/jSIOrnaxU8xisqxky7HVd7SK53iAgsKxgny/mv6t4IcLxeMbYz5G8YM9zO9y3wZyoMxfxPqTo/6mf/mSlIE0/9XtiRl1oFgpP0OE1/S4YkVm79mmX9TKBj5dADtGgQVpGGweLmfKChJ8a88EVvTbWZzV4+zxdx5M3RA5YiI22xqaEIsf1+Y+voEwTjGh9cxv8ty+QpiNpsu/+X2lnj6LQoG2JfwM4enhFRSO3/p8gRW6+QrxYKR8LUbL5uRnvsJ9sVrxOLs7WxqGbwfO3y7YGtfioOkSQRdiDtEsIdtJnNTr198y67+EqjiwFlW/zIsrfDyiYDLYr7W29OJNLtW9ojd2XZLz8jYYLsFxF5/kVbIJQ13GIXycbZP6sa11qOlpbeRMfP0Lj/Yr25bJur9PcUK8RKarSgCWjK21rNPFVCqAt/61lK4woNrIwoKhgYkUMXCj/AbLGTaLNcQc5PF9vWctNg/V9PyIzHCWGqNgJaMrXUsqsimIvD02mDP0t65ik4VFKdrDAWjzgQDEhQiUHkEVOTNyjtzusx1uqd0G/jp4Cp96kyCUYl/c1C0Wepr3d6BLKzboYGOlUVAt4zVbeBlaXCKm6cXjFN0dlEfgSy8qCN7UePSLWN1G7hWTIaCAUtSGiCgFR2hneogoNu8qdvAteIVFAwN0iVkoVZ0hHaqg4BuGavbwLXiFRQMKBgaIKAVHaGd6iCg27yp28C14hUUDA3SJWShVnSEdqqDgG4Zq9vAteIVFAwoGBogoBUdoZ3qIKDbvKnbwLXiVXnBEN9thRcQAYgARAAiABHgECgvGGXvwpvHIfBr+rfjvoL3IQJ1iIBuGavbwCtKwk8qav3iGYcsvHhjerEj0i1jdRt4RfkMBUMdvJCF6vCCrWuNgG4Zq9vAK8o4KBjq4IUsVIcXbF1rBHTLWN0GXlHGQcFQBy9koTq8YOtaI6Bbxuo28IoyTpFgaPLaQEXDqJpxyMKqQQ070gQB3TJWt4FrQpvjjCgVjLP9T5KYCzN4FyaQ4wgB718wBHTLWN0GXlECQ8FQB69iFkZnrs5EZbaj08jMDvgsXvBf7swg0/KGsmeOu3yBGT+fibHfEnsx4rhmau6TiVgqr+KBsu3JnRk7YnXewIJx1tRzzDCOqzAKm1YAAcWMpVVw6YiIacO7CgQsmFQeuPAE/PvjCEDB+DhG8haKWYhjBkyeLPFxA/YcWBIveLOnyKpHRGyPk4mUr6WgF7mrqq7Dw3Z/WsUT5dpHJz8dCJIyI6cITfY0vNQEAcWMVcOlpK+17pcCigPXBGa9GDmFYHxgfnopVaj2g8y+9Om4qwszeIoDOZtgHOD+aQzzeMNpmo4HsR/3OT7u/8gu3rO47x5O0kTsqddhcHifhvEkRR+R+w+9mAebeRAjjwrpy1ubCeyx6bzYIJV6ERi9ioyuhsMxgs7i/icp4plgii51oLA93xWVesE7E34aDj8FlmhRMIp9O97VQsfhp7MjoIyxJ3GJigUml6PcSiD184w3+Dx812Ho9oaf4qp2pWePRZUFZYHTNE3i9zf202GvB8O+C6e4uXNE4Msz5WeTKicuXONTCAbBjC9LwrA1wmxJn467Ujx49Q6w4kBwjE3lXPYMPw17u6UdhuMuSKn8z11HSd1m33fdAdb7+f1YgpTSrrg7Sfvtbf4UTVPZIGpAg1mSpOjoFGJf2qeO6NSPaOuUrMZFBJ0IGkyQZDbm60CwF1SpQYqMeVtavXskmafptN9+yeGLptj2RvTJx9oLI0aRgjNZMjjEBisIRpFv1BPU6sHJI4qI7RNF2iZYg39rhYBCxp7IJTI8bB19RtLLlZ6BAAAgAElEQVRJv6Pbn6Io8iFqGAqSWZKq4+FTGDhNp/xtRse9aCpLxu7ZG2djNE0Ev0LQh/tklowt2REPTmk1GOffzqkE45svmH9gTO8/mT8YZmuE6cWYG93MCgHU4i7KeEaY3i+Yfxdoh+LBq3dEFQeiVjCIwCCCXEWQwQBB7/uuNw7cw1McT4W0K5WzBMGgaXEfg2NGsNVgRcjrYOWEg5K4b29dSvGwvsCMw+FSwWDnjFCSkozT9LNRowf/SHtpxERnhLIb73mxb4knqLEFC9Z9EVyK7DxfqWEsV94sHi/AHjI82jIw0O3wJ1ksZJysW2wUB57ytwnkT/paO/zEgd/e4hPmDI4ZR8N1rItVxv9UgjHM7jAi7N5ia4SJMAyTYrib4/1MjmF+f8lsf5ArhuLBq3L4qrtTHIiUPbk+xKML8YLvW5h7FEmSWRJsFmiaPkrhy5NOa6PjfqpMvpZyutgLjnFbjazMCNtBatluXxbIH/ciHX5C6FFSILDIEuaMZFyoKZ3cng8DGBOPbfgY+QfL+EbGg17U3mjFcPmZh2QKXmmGgHrGlhkv+ijlazOZWoTxklFCM0e1NqQ48BLyy6cAve+9avcfaO3cubV3KsHgSlJcMYovSQl1qvERuU6I14oHr96BVByIlD25kESdEC/4UMvOPW5FQwQcHX4i7kW6A+wZNxkcYEs9EqHFXohAt9XLvZtE05R8C70z2Yhu8AXoJbv13j5darBIMITlVWwWcTwgPtJeGjHRmaIdRolvwnotOtWIvZCeh1eVQEA9Y0vGi6ZTyw7Hcor8GUXGWYkvS9pKeH8Gm4oDLxGMo+jk58KcSfrs1338EeIZnLkwj0LBUDeUilkoZU+uA1EnxAu+49K5R8W8HeDlVLTDij0naToV6DaZOpwD3aOTw63gVStJMFL+DqMJQZyrKToZRK8j1j6n42orurovkwwyOutAvnA6v0Ssg0H2TK/EIE3hnkZjI2Kdwqm03/6ptbXN6exoVNRewk8KmY9RDK3Qt/TPqLUDxW44rV/5+TNGyQi80hgBxYw9nktJn72DGylyA0UAJ8FBlwm56gxwFSqNXdbGnIrAS7bX5M6M42qrs8+BXB8I1nGM2iClxsopBEPcNqi4UDx4anyvRdsLE8ix4ElqdGwT+MU5QuDiM/aYwdBt4Mfgoc1tKBjqcLz4LDwIDICDd/jngiBw8Rl7zEDpNvBj8NDmNhQMdThCFqrDC7auNQK6ZaxuA68o45QKxtn//cGKhlE145CFVYMadqQJArplrG4D14Q2xxlRJBjHPazD+5CFOhz0cx2ybhmr28ArSlcoGOrghSxUhxdsXWsEdMtY3QZeUcZBwVAHL2ShOrxg61ojoFvG6jbwijIOCoY6eCEL1eEFW9caAd0yVreBV5RxUDDUwQtZqA4v2LrWCOiWsboNvKKMg4KhDl7IQnV4wda1RkC3jNVt4BVl3Cdnf18WWoAIQAQgAhCBC4ZAWeH5JEdR8Ec5Ar+mf1PeGLaECNQcAd0yVreBa0U5KBgaSCNkoVZ0hHaqg4BuGavbwLXiFRQMKBgaIKAVHaGd6iCg27yp28C14hUUDA3SJWShVnSEdqqDgG4Zq9vAteIVFAwoGBogoBUdoZ3qIKDbvKnbwLXi1ekFQ5PTf63CqK0dyMLa4g97V4uAbhmr28DVMuS49mcSDBX/s6RyTS/M4F2YQI5jyQW7H3+1m8lrs69KvtpNnsNXCnXLWN0GrtUUhoKhQeJQzMLtqaaW2ZeFPRKPhpr6/e8Lb3I5KDRmcEfASOfTO7tpbshDE0bjBHuzKE+9W7LZluJFN0s/ptcGm7p8b4Tu+KfSvnZj3xqhFatOskPEdt6ShQ22p5oQs/jz9xUNU3CZhJ5e62kHQG1NIc13tgs9IYIjSN8qD3WOopJrLnPn0p4I4/uVPtHPJsQ8tb13p2XwcVE4ArbiU/V3oZixVBkAjwtHxtJCVOsIEOWB120ItXUMCoYGbFbMwojbZLpcmNa3biFGY5vvXTk3RMF4u9DMKQdF5Q4S8YNyjZUJxt68pbOnt+FbIVEKT2XebO8R5cwelx1Off+XYdtiopD0EbdhLHRqgyc9mJhvLrYcX2wbDIIUH3KbLpsKkX9502w0ytyLzV/r6ulp8OACMgJckv/plc6etcxJPgjP1lMbxYwtA6AUe1FEcpYWfVU3HxUHXo+jdizyVYS3WoKReclMY8wmIS9NXZjBUxxIxG0Y9txCBoPCWp5NQD43SFuZyMJ8hLtPhOYXQgdUjhOM9O76nS6DY259Y5P7Cb0lcwcR3+NE8pc598TY1OouSFiyXJZ5vTY7MeaeWtkpkpb8tueKK0hsez5zBbPslBCe2guMBV6zd95HfFNj7ok5/8bmeiRx+HrNhyd2Vm+7J277X7HugTux9btj7qlH8TxR8BVFFXZNhJYf7b3bBM7c3YznqcO3Ef8IYh5ZWd+QV3JKBYPYWwOhcU+BefJ6zfcyvbU45r6/y7p0jAMHu37gPOdqemdjrtPQNbuxCRDjJ1Xa194bYGEJuQ1Dt26aXY+EdJ/w2dp8i2OSYOA3L7seZfCbDeijQ+5xAS7BGpWjEj6bAGYV563MgdOkNmWMLQQwzw8K4FueOtxd8Sxuc9DFg7dn10ICSyNxjlp1iYaywMFknHosLGuIbd/3kUwxt6mcMFPWy6726jL8M9ImR1HVEQyC+eYO8x8G/Mj+KBy8swdZaQuKA2EzI/Fo0HxzC9TQiaALrF5DrGDEF9uEVMVmrneCYOTJzJrLgK5lDojMAbFztwU0e7dku9Q1/zKROdidbzeCqoiYy17eNLcv7JFU7t3aYDPXkZBTQmNGNvdt3TJ1coUX4amQ2+AOUTlqd6p5eP2Ayh1E3E29/ndkLjRmNA8H3hCZd4+GPusHqTY0Zmy+GXpHxB8PN3/WP/UykXmz0nNpLJSncsVdJ3w2Y+f8dvyA2Jlva5jezZHA/+a7u5kDMYNTOSriNrgCbHSZA+IwT23dQmx3wFPxjTEzWz7KhcYum3s9a5HQbvp4B8itxdvrMlcPD9YGOcukgAAVcV+b40pMbMhE0IV42CJhJugCG6+QJBghNwsste250uVPsxbeLdma53ZkrrI7lZb5t6L983GhkLFyAMGgfB87zFPxgKv51naOItaHLEO/ELm3S52OpTgpsfRQo/OhSkxbhYHniEeDn/FzB2zKV9Ml3Aa7T1AYyMZ23gjrvwsqEvKB0EgwMstMP8Z8gzLffME8+sAcPmGGMeabvzL/Ipg/UkzoDvN/RphQhEn9KdMLRung1f0wKA6EX0rz2vDyprlnLQlqI2CHcaxgUIJysDjwzYRED8byl2FwqiHcCU0YO+/we5FZh7zkQgZRobryZsFybQHkTfEpXjAi7mu3d8CET/hs7EpcLItR1PqQ0R2ROSM8yzYGHZV0LSgfReXeLjS3LyUpeZhibo24DZaeiTGwpZgYC7yOuI3D63zSSfva2XQcGjMMbfLEFV0qcYBvkCcDqImVgdK9S8QtlAR5jeSM5Lc95t5AGkTHy3a2IGVY5mPA+Lsl25W2Id5VdhdIUfHvW1itFcM5BxdqGQtE3Qj2auwed66Tw5DYHGru73N0+Ti9FMeljies4sCprW8bwDosz2/HS7gdm7/W0DcfiUtrkXMw7vwEOcMAaScYSylmHGX+eMn8wNadcqxOtAeY//zJ/P6EaV5gfv/AFOiFfgUDsNDcZrNZZtkq0FkFg5uoQvYMuQ2Da2Avwv1Iy730SqfRJJ4tN1yyzL8pFQwqvtxlvtZiaW4bCrBbclkW4DOseEfoURKM4q5lgiE0lumiOMGK0rr8Ixl0FaqUXD4Fm6ID8cCwzelyT8y5HdyGSW6K665ohwFugrVze5vlDisJgmAkV7uMV8Sj+AZjob7KJ17IfWF3GOzmjzsEKtgFZgh2g5hPzNtMl5vHQtzpl0iMM+QjObCVuFYuGLk3CxbHSvyxywy2U1SZaZVPhBZv9lgaOpeF4lUdB64VmNoJxg8EMz7CMKxgbI4w/0oBnbAts1uKl8KFfIOhY8GgqMzj4eZbEa4yzgnGYdB1mTuLzu9ONbE7A3EGihfiCh3URha4d6J2phGwZRayZ3K1i899FJUjpcrP3ryFXyaztE6udoHuhKeEklTa197lewPEhlcaWdcfFYySrk8nGGm/g5fSHLE5xB23yNzgj3Zk2yNeMLZFTIjA18cJRtrXzh85CCFTOeLR0F9uhrjKOy8YsflrrKDyKSDtd5jA0bcAl2z6SYcispuiFtbpheK8KSqubFAo6pBdVscXuzoXE5mgy+wGJX5pXOo4byoOnMpRIGTLNb4aWcJtKsdtgtMrnezW+RyN/llcrYxgbGPM3zBmuJ/phYIhTxni9JPf5EtSuWzEYzZZnL2djjnP14WCAU4sTOamXv9boaQDaiOWZltvT3uD5e9r8bwsl+UTAZfFfK23pxNpdq2AwwzwYq6sEM/N5+yjwUuu4P/lX8bls2c+HUC7BkHJZRgsne4n5Fngo4KRK+66jGAcRsYaLjWYr90MSXv5Eljerg3+Bel09lrMbVM4WyBWIhjvEr52pHNkbNB10+MysWWihK/deNmM9NyX1oB78/yLsJJgyBMcJxj4zcuOgrd7Dx+7wPFPqWAcrPUUtjzLbKzas4rzpgzAt2uD1xDAz6aWwfuxw7cLtvYlQDxwFIe4QwRQU4GlVQtEbUeKA2dnzS/D3Jkf6KWI28TubLulZ2RssN0CYpdT6EJfayQYBTsHpR/UDV4dD0MNAinNXJrgExkzT+/y7H9121L2Fz406aiGRtIrndqleFF+zlfKqAFjazjisq5VBb71rUV6o1pm5HyNtbbeQsEoWOyfDlxVLDxdF8VPvV/p0/QX3Hj7YBnVZrmGmJsstq/ntqrzmxlVn4rxSCTJH6qfdfTjv0Q+/suSVQ+wmC0lDtSAsSU+fNTJSjRQEXh6bbBH9jub9eF/JTBRZRMKxllTRo6iVLAQ0g4iUAcI6Jaxug1clSqc0PhMgnH2f3/wBM/O0VeQhedosKCrel7iwKl6Rv6fXjDO2PFFehyy8CKNph5i0S1jdRu4VqyGggFLUhogoBUdoZ3qIKDbvKnbwLXiFRQMDdIlZKFWdIR2qoOAbhmr28C14hUUDCgYGiCgFR2hneogoNu8qdvAteIVFAwN0iVkoVZ0hHaqg4BuGavbwLXiFRQMKBgaIKAVHaGd6iCg27yp28C14lV5wTj7+7LQAkQAIgARgAhcMATKC0bZu/DmcQj8mv7tuK/gfYhAHSKgW8bqNvCKkvCTilq/eMYhCy/emF7siHTLWN0GXlE+Q8FQBy9koTq8YOtaI6Bbxuo28IoyDgqGOnghC9XhBVvXGgHdMla3gVeUcVAw1MELWagOL9i61gjolrG6DbyijFMkGJU+/a9ohNoahyzUFk9ordII6Jaxug28ooxSKhhK/09J6tudr3E9X95WlDoXxTgZi+5rEwsZiyW1saShFd0yVreBa0ieUlNQMEoxOemOYhZGZ662eqOFpsiN0asDgYPCm9p+IvHJNqdfTFt5fLINDSQpmtyPJSn1XaX8bXZ/+sTn0n57mz8laxKdRlrvlkR+Axl4QMhaiZdSF8RejG/xAjMaMVxswl5EpxHkqvjzcRgla+zjxEMU+dJfRhmik63juDpoyOhMB4JcnSkKkiY30BZfURfkzowdQZDp4raFwan7VBTayQ8rZiytwuwRERPG6uTea/it8sBr6OS56xoKhrohU8xCHDOZTEWZdAoxGj+Wf9W5U6Y1+RxrbPOljmiaJvFxxL7MJvNno/xFmSdOuCVl82MblQgGPm4ymQrDjE6CyDlPig2JXaR8LYJIHJGpJFnUEB83YM+L7p3wUWYNtNr3XXc4v2qc3Cl+BB+3euPFN0/+TNy3ty7JJVJqHr1lnSyQBsLf0eoT9VtqeJarotA+YkoxY9WYTfpax4sE/SNuVP9rxYFX37Vz3CMUDHWDp5iFOGYYnZxC0J+FxMcmVv84m0mPyNiDGcyDzTyIsV/vBz1BfmUaD2I/7pMvfN5nwnqcjPqXcPKI3H/o5R8BYiD7k8b90xjm8Yb5rQCvE+RzDOkAa38qiQduIMiNQPgpuywsah8P+ndSrD8zgT3eW3IvMOPBsO98WAuf+sl40OvBsOlALMt2LYTgXcJaC3URHzeMTk0i6IYQOSsJyxgrGMWR0jQnGETsqddhcHifhsPcz4tU0aq/WDAEBwQM5fhI1nBuX7UzaUI3yJ3JxqGNQrM49jnI8FQsMLkc5RxO/TzjfUbs/+iPJsJeDzbzc4rOxgLTbOwkTRMxOZipp2BQsO/CBDcozzHrXWmPQcQCo1eR0dVwGADPe4h9F2blnKbjQX+UiC5j2Gosdlx3NM337uFGpyQ0GRHKXipjbKHZQrIVgxN8Hr7rMHR7w0/xVL5sn3VxU1ngNPnCN/NEkH9urtF0MdsPiqZYXQRYEyegYKiDXSELaRrHDBhObqDIZJRd7G+gYHmLs4JB7fhnnu6T2dTGcOPAQ5JvzDnyHDOM4zQRcFznixv796yOB0R0CrEv7VNHdOpHtHVKtoglgk4ECxMgrcx0OIOcypA4hiAIInykyNh3ra3fxcgsRZe2f44ZkdFggiTTG6OfDwSzNB2dRDq8UYKiiI3RT1nBAHd8+xRNp4NoC4gI+HM3SuQp4slo0UaKzexc5CAk8me08VaUfs4JBguLPFJeMGgqG0QNaDBLklmS3PMWiRBN0/i4AX3IfpslyTxdhCH1BLV6cPKIImL7xJHMGqsP+LgRfUKBwD51BAQhBl4c+O0oJyFkeNg6+oykk35Htz91ROPjxtYpPAXGqLVxYCaaJvdXncZxnD6iJDAPNrzL0VSWjN2zN87GgMG03z4c5uID/83HvC2t3j3gMIdYKkumnvJCTj/HTIhz8iGOx4hju6Op6PJMWDY6ElCF0id1WnilkLFysyVkKwSHosiHqGEoSGZJqmjtUth1bT8pDBwUEj/nJinNzTWW/3K2g+0pKMzm92MJYRVU29hq17t6wcgsM/0Y8w3KfPMF8+gDc/iEGcaYb/7K/ItgGIIZXwbH3lsjzBbD3OtnfmUY5gPz3/9k/sMwP2HMOMb0/5PJFZyMKx3X2mEk71mxt3xmTC3bwco6Ool8BZI5JxiiQeohagLZvzSNUhtDXP0kOvk5upHHMaO4+vY6ZCt64r6d3TqAhXngBsIXbcjw6OcI8rldLIbwbtB0mfacRLE+hYeN2Asa9xjRn7lsxNeLcI/RcZdf+3u77f40jhnRDW51WaYkxdaOuPtH0UlOtz4mGAUg8DajM9yhBXsAgI8brH0YWM57MOxHaRXPYUg9QY0tWFAqrMsgzRdkBOs96VmQ38XSChkebRkY6HZwJ0DihkaEDjRmkZfuCANJxbytXwVBLjkKj8pGR9g/Ab3DjKNhPr0KdarnmEFQlxO64zs5ooJDJrbeJQtNcOCEv9UylnW1hGyF4NAyzpzQdW2/Uhw4Hb3VCNYTR9xcA/wvZPu+73rjwD28eM9b2/Bq1PupBGMpxYyjzB8vmR8IkPtzKSZ0h2kPFAvGrwvMvRRzGAD/ZV4y/QHm9w/MI5T56YNcMZSPa40gKuhWsbfCrAYZ025v4wvlvGAkg6MdTtSDeccdYD9RRjBomq2fkDuT1lucogir7yxJktLaMrVsZ7cO/NKbXfGR4eFG548E9UI8zKDFHFemvWzyc2lLTF5ivitY3YN1pRAdt6YuSJFgK8DpFliodtj5Es1pBIOmuA0Hq0yiWX48ijFkywiovdGK4SBzSx4SDxzGT8XT8kajsHUDdqQdBk0fpXxtJlML97gUhQhdGcEgozN9dvQGNjOFIhwIRTsMYf8k94emqQ0UCLM87YrRlenux1F7H4p5vFg3B6wUWgE1j/mgmrEAuhKyFYIj9/yYbmt/W3HgNJ3wWbsDqScowu7dS9gOuIEvTzqtjY77QvGq9vHVxoNTCcYPBDM+AjTgB4LZHGH+lWJ+f8LYliXBeNQPdhjc3uIeymQY0PibIBCM3z8wf8r1glExrrWBqKBXxd5Ks5p8Mto6xb+HwwqGsMCkafLhACsY+96rfKlEuMOd0w6gaKsvQdM0EeiWzmYpSS9YXRFPC9gvyGejjexuhj30brSzx7NSGtqZbCxsL5/8XNrav2fls/xRbOYqKEkRDxxSaR70su+7LvizN8PnSgEnMffR5MboF5M4txHhBaM0UvHQW0JMTM2CSfC3ZBZ8KsFQqI1EpxpBLpYEA7jKYsgZIwLdJtnRN45d93I7jtSyw7GcIn9GkXGgOGJ3EnQlOwzcYxx9xpoVQXiBNcoLhpJgyEYQ7P/Y/VmJVNO0JO08CAd+e4uPzVJkcKA6giFzlaY5shWBI+cMB2sd/lfxVOXnl/U6PwdL2E7THLuIgKPDL69o1mHUlXbpzIKxjTF/w5jhfqZ3mWH+ZG51Mx6U6f2CFQwGyElvgNWHP5m73cwNjPEsML/rSzDkQ8jtMFL37ciXo9gQOnkLNbElkdSqw/Sp3TngGJ0aFd8/IR44DN1CyT0ZRK8j1j6n42orugpOE4Q/ZHTWjiAOZ18r8uUk/n4DvSQcXYADhPDop6AwBXYblxqR65M4Vdg+W26dC45ATI1XEeugb2aAO6VPBVErct3p/BJpRQP7FA1O1D9tRK5aB5ZmBo7ZYQgesn/zgkGXRCoKRsrfYTQhiHM1pUAw6CIMiZ9RaweK3XBavwInEGBvxFmbGjWJGLKOgOKVdPRNbQyxkpz02Tu4B8HpC/acVCIY1AsMaRnAbqCj0xhXrYpOWWVqxLohvpecDKJfII4+pxWxz+ywpXAlggECQRw3MBSdnERN7NZNCG1V0WpXcd6UmS0iWwk4YIAumZCrzoDGL4AVUOaMHxQHzvbzbFRixVEh28mYt8PqvIGhHVbsOTzDUDAsv6Z/K8jxmn5QN64KvK1ok/PlbUWhuCDG+aKfFtHky/wehhZ2z2RDt4xVFTh4H7rklesz4X5BH1a/w9BULRjmopakLihfLmBYZOw593LzmWMjo+GobO93ZnuaGFCVNzXpsU6MqAicCKJflfulzjqJpJ7cgIKhbjRUsFCdYdgaIlARBHTLWN0GXhEaCUaVCkZF//1BwZlz8Ddk4TkYJOiiDAHdMla3gcsGX/tLRYKhfbfn1iJk4bkdOp06rlvG6jbwihIdCoY6eCEL1eEFW9caAd0yVreBV5RxUDDUwQtZqA4v2LrWCOiWsboNvKKMg4KhDl7IQnV4wda1RkC3jNVt4BVlHBQMdfBCFqrDC7auNQK6ZaxuA68o46BgqIMXslAdXrB1rRHQLWN1G3hFGfdJRd+XhcYhAhABiABE4DwiUFZ4PslRFPxRjsCv6d+UN4YtIQI1R0C3jNVt4FpRDgqGBtIIWagVHaGd6iCgW8bqNnCteAUFAwqGBghoRUdopzoI6DZv6jZwrXgFBUODdAlZqBUdoZ3qIKBbxuo2cK14BQUDCoYGCGhFR2inOgjoNm/qNnCteHV6wdDkiF+rMGprB7KwtvjD3tUioFvG6jZwtQw5rv2ZBOOM/xeMCzN4FyaQ41gC75dBgNjdeqPB5izzajee18BOGQ+Pf9dRt4zVbeCq6HFCYygYGsxVFSzMEzurw50NRoPBYGxo6ZneTHLJIp9Y/7ar4RJ7u3PY/4oAY5ZPrE/3Wq4YDQbjZXPX0OpuRpYCkqv9ZtdaUnYnR1F733eZp7bLjnfIbXCHQLCZN7vxLBv1+yWboc33vhwCoTGDO1LWjnCT2JpmHb7U0PmtEEWhM0LLcvYr0BIA0oSIP1O4dv3m0zu76aJwtm61uENkjtqeamqZfVnYF/FoqKnfzwIbD7jACBpNFtfSDkHl3q/0yZw0T21ngq7m+ViR8Up/VM7Y5KvdIo4d61s5lI5tXAECKOlLeeBKrOmwDRSMwql+Kh4rZiERcjc0oGtxku00n95aXdkigDD42o22O9uceBy+3fQFE0U3c2RiffGRfCkaX2y7bELYnCWEkF7ruWQ0HpPoRcFYH2rzveMfib9JlCf9RwUjNGZ0rWXyVC5P7IQKlKy8wVMBq8pUfLHNtnhMOGfs/e1CcxGq+Yj72tweMBtxm0yXbUtxWRdbtxCjkQX53ZLt2u0ddk0QD0XA8L1bshU2zuW3PZabW7LHVUV9usaKGZuYbx4LKfStFCWFD1axmeLAhTlVRd9ON5RVfqpagpF5yUxjzCYhr2JdmMFTGsibBcuVm1sl9YfDxy6jY6VoHVf2ppwcID9+e7OneW6PN0iG3Bb34pwNpDYiNL8QOmBJfxCZn49kKIoVDDIeWRlqQobub65vcD9g/bgXWNp6v+ufGnNPzK1zGw5RMPKJ0OJt98TY7EZBLk4ut5mnd+X+5PLE3tqce2JsanUXCAm3Q7o75p647Y9s+gKxHBULTKyxSZbKvV5zgztALAvsH0R8j2PxDWBH6vFdxMf6FnjDbryEj+uC7HFulBGM99yDt/kdG0WElh/F3z6amri9/g5c77xamZoY8+FE7t3m7MSY+y6/VeIc4D+md9fvdBkcc+sbEX5nRlG5yFjDLW4nF3Ebhj23kMEg6xvFS4LPzQpGZMz49Zp8X1hGMMDQWGZfVzVDKWNsemdjrtPQNbuxGXpLFo3v4e6KZ3GbCy0evD27FiqDUv1lW2WBU2AGLT/aE1jBL9TyaY6rEsPrL8CCKVkB96ojGATzzR3mPwz4kf1RPHhVnUunQFxhIMnltrJ1ntCEsXRpXPam3DcuP+7daekJsNWS13MWx0ry3RIrGAmfTdhGCEtabodxSOzONrfMviIyB0TmYG3QANaPIbfRPLS2d0DEN8Yari2AnM4LRjrQg7g30mAbMd3Gd8SxkIi4zcbL7cO+jRgnD1u3ENv3scM8FQ+4mkEyBc8OrsUOs+TOPBd4xK1j9EMAACAASURBVM12B6I4zv67JdulrvmXiczB7rytYeoVlUuv9ZhdgTdE5iC2/ssu+3FsPU3lDnan2nsDaYkb8cW25ru7bFxEhiBlD+7OtyPuCJmjEj5bQ/PIwnpkN54F132ru6Cj9oZm99reQSJ0ywIG4v2j2cXt+AGxM9/WML2by5OZNZcBXcscEIeC2CeX2waDJDscbFDEo0EztxQggq4GD06FOMHIJ3wOo9HSO7W6zSedd0u25rkdAD744QzGF9uGfpECkY9yha4VMvYQMMQVOCAyJFUyvsT6kGXoFyL3dqnTsRQny6BUIefPYlZh4CxVjJ3zMhoIfM4cEDvft5knIocVSMdnCa06z2okGJllph9jvkGZb75gHn1g/njJ9KOMB2MiBPNHigndYf7PCBOKMKk/ZXrBKB68qs6lU+CuMJBCwdieYmvZUyC5GD4iGHzhmy+Lcx7yC+psxG0ZC2VBdva8ZJe3YIdxrGAUfEXxGVysVuWoxHwze6rBJfT3S7amYT+3F7k/bC4uy5DxlytTPYjRfDOUjbiNYCnKblzmOm1LcfAsV7QR5aFEMErtC/KWo6j49y225XRyua35e2lzA3Y2Iyvc9sg/gnCnMiIgl9uH3RNj4Gc+8lr+YGTMOLTJxt4y/5ajkwSRFL64r2JzweHuXHMPuz8ovA98W2wTuuaD4ofj5U1zDzhY4gWDtZPc3fSNtBgvdfnfsQN0pW2Ic3JC2AX+MlxKgFPwUPkjChkLCm68xpeML0XliM2h5v4+R5ePg7QEJeX+VK2l4sAleuTeLjS3LyXfL9maF4TCY8RtHF4XVg9Vc74eOtJOMJZSzDgKpOIHgvk9yPQv8PLwnz+Z358wzQvM7x+YAr3QnWDkXt68zK3fhbUJl3cygV4j+qhowVJ6U56DuJzFZZlkoLe5va3B9QjUBz62w/ioYPBbE27yFy6HM9xRueC8QF8i8LXRHYm4uaUot3YmyILaC59KxOwjSEipfblgsGcSRYWmgm2EsELnPCltKWXh13Pm9qWkXEdl18WCQWxPOdsGR8ambrnM3HlDSSos3mGA2tq2x9xms/HFpaLBylHUzjRiW04XwCIgWbc7jALBKBpftpw4bzNdbh4LEawGl6AkMKSOFnynEQyOkzJm5qjYbNMxb4sIY1qHsWviknaC8QPBjI8wDCsYDMP8mWL+Z4SZfctuKV4ytmX53oK7Vjx4dUS4sqArDiQd6DHa7gglforam28BC9VsxP1Zw+CasI4+2A2s7Wby2x75TYpaR4UqE0tKKT/mY/OdvWD1KgkGGXSZPNxrQq9uc1lPSIuypZOwfgy5DXxJhFjr405ZuMkPfHAFuXSQJ8WCDJCrxyv8GUk+Nnuty59O+x1SIf6QpHLZR4OX+Gcza/1sLS4229TlZ4tI/J1S+7JpyQeI3+S1EGQoKif/SHJFIZ4eEiDcpJW1jH/fZgFvIsljl64FZHgZC00YeTQE6IQCmoyHkTHLHe7VJkkFM4+Hm2/xlQpOMA5frgX4V2/5UlVZwQhNNIDdYRVzjWLGitGVjC/YZnV1LiYyQZfZDQ7JyqBUxYgUoqc4cIke/JDJufp2wVa48lPY+wVoVhnB2A+CetSNbuZf3Ck3FAwhHeTT4PXZhgbw9mdDQ0PnzRBXhX+/6Wk3Ga8g5qaGy1fapiLsCSqx63NZGhrYV0UbGiyupT3ZGr84P3KTk99hUIeRm+Yrlh5nV+edm33sMllIi2RoosHYgFhAauPTQchtaLjW1unstTS0TOFs18JqMYPftpmRTmdvc1OXh/OK7SgTuW27YmpoQhquIH0BVurerg1eQyzO3s6mlsH7sUOKii93Xb6CmK+1udEu7vAmfr/r8pW2nq+7hm4Nc+8dFdsvFQyK2JpuabD09nQinbciGfCxzWzu6nG2mDtv8qLFulQCCHjx1/wX8KDl72vsEYIsC8jEQ0CGT3mHkTFzc797xDU0Nca/0QROVkzmpl4/X85i5bCZPewRMCzKBfwO483KoMV02YyYr5iap9kjYlmAwiPsW1LVrW+oyJvtxstmpOd+Ilc0vm8XbO1LLKpE0IW4QwRIrEUoXSTBoKgMfruzqaXH2WW+1h8QmVB/MQq8EnKOph5qJBil2wcFdxSztiKRawjreQ9EypiacktCWJAf6U6FOqqi2a1vLfwe7mydHj6u69/DuEhDlqOo8z5Vaz4cUDA0UKPzzsKtKUTLX3MrTaD47eN+nbDmE+D0DhC7Ie73K0vjVXMng29uyTaOp/dHTafnnbGnRkm3gZ8asaIHoWBAwdAAgSJWwY91joBu86ZuA9eKkGcSjLP/+4NahVFbO5CFtcUf9q4WAd0yVreBq2XIce1PLxjHWdThfchCHQ76uQ5Zt4zVbeBa0RUKhgYFGchCregI7VQHAd0yVreBa8UrKBhQMDRAQCs6QjvVQUC3eVO3gWvFKygYGqRLyEKt6AjtVAcB3TJWt4FrxSsoGFAwNEBAKzpCO9VBQLd5U7eBa8UrKBgapEvIQq3oCO1UBwHdMla3gWvFq/KCcfb3ZaEFiABEACIAEbhgCJQXjLJ34c3jEPg1/dtxX8H7EIE6REC3jNVt4BUl4ScVtX7xjEMWXrwxvdgR6Zaxug28onyGgqEOXshCdXjB1rVGQLeM1W3gFWUcFAx18EIWqsMLtq41ArplrG4DryjjoGCogxeyUB1esHWtEdAtY3UbeEUZp0gwKn36X9EItTUOWagtntBapRHQLWN1G3hFGaVUMBT8T5JO2eR8jev58rai1IHGzwUCumWsbgOvKC2hYKiDVzELozNXRzdIyTjxYGBmB3yMTiPIVfFnIPAWn2xz+pNCyzw+2YYGklR0Ghl4QAh3aXpnBpmOgo/JIHrdZDQYTddR/56sA6kpvIIISAgoZixN7MVkhJMslLk6ImKK25Z5vCq3lAdeFXcuSCdQMNQNpGIW4pjBYOzwp454+6llO/YcXOPjBu5C7Jh8jjW2+diWJD6O2JdTXDPugm/2HDOM4zSd8rdZZ/bYe2kcF2VGtAUvIAKFCChmbMrXguGFzx77KelrBWys6z+KA6/rKOrNOSgY6kZEMQtxzIBinsbGcZzbBZwgGDTN6wT5HEM6/EAuWF0pJxg4ZhwIwn2FukHTdWtljCViT70Og8P7NIwnKfqI3H/oxTzYzIMYeURTscDkcpSn8c8z3uDz8F2Hodsbfoqn8vWLrbLAafKFb+YJN+domoz6l8CEJeNBrwfDpgOxLBvgAe6fxjCPN5yu33ir4xkUDHU4K2QhTeOYAcOPUv4OBHsO5ppcMBx3w+Gn4AdMTu4PiWMIgiDOoFAUwMcN5QSDTt13GC9ZnbOBqO65q27k9NpaIWOpbBA1oMEsSVJ0dAqxL+1TR3TqR7R1KkrTZHjYOvqMpJN+R7c/RVHkQ9QwFCSzJCVsoOsQXYWB0+QG+vlklA1k/57V8YCgo5NIh2+foul0EG2ZjB7t+647/Gmazu/HEnpfrJ1CMAhmvJ8ZxpjefzJ/MExuj/kHCu6spJj/pJj/xpgcw/zQz2z/yWyNMFsMwxDM+DI4EP8XyoxjzHiw6HBc6bjWByUVe8sKBg3m2ujndn/yo4IRHv0cQT63+4Qq03GCAWAgYuHl0dZLRseqsDKqD3CgF3WIgGrG0jhmBFsNdk3jdbSxW14yPNoyMNDt4A/b+AJpHYYruaQ4cDp6qxF9QtFH0cnP0Y08jXuM4pLO2233p/d91xsH7uEpYXUn9aG/q1MJxjArABFWD1ZQZvsD8/se8//9EyjBYZDp72d+SIHrIsGY/Svz6C3znyK9YJSPaz2MjmJvBcGgaXBE8flkcOnYMwx2Bdfo/JGgXoiHGXRqqbV1SdID8ken0VNYNd6bQTr8woakHrCBPtQjAuoZC6qpYKvB/ZBsmjxK+dpMphaML7BeLMGgEz5rdyD1BEXAdgqcMqIPhfC5XdRRCl+edFobHfelKVmPg115n04lGNyOgdODH1Dm3x+Y3z8wv/8JpCAXYbr+q0Aw/vOW+YYVGIZh/jfC9I8wvxdohmJCVx4MBT0o9lYSDK4eZTQajz30fjba+BVXiyLx8UY7pxMJn/VzLMyVUMnYTFsj9oKi89Hgw33OTfJntPEW+96UArdhE90ioJ6xRKDb6o3zgFGsXqSWHY7lFPkzinBnchdMMGgQsvW6I8Cuv4gHDutdfpbRXPxc5Y0IOHS/RDuzYGSCzN9QxoMxP8lKUlP/BUpSmQDTOwIKVkAwPjD3MNDsb2whSyYZigldF1NesbcFgkHTRPArSTCMjfLXajfQS9LRBShhfcoXpohnk62XjI1XG42XrOiP7NLmaD+AWk2fIghiMn0xwx9E1gUw0Ik6RUAxY1P+DqMJQZyrKfbVbcTa53RcbUVX96mkz86/70duoOyZXNpvv2RCrjoDQgW1DoNXHDjr+7NR49AGX3M6SgVRK3Ld6fwSaUUD+2TM22F13sDQDit3HlmHwVbNpVMIhizZa3GpblyrBswxHZ0vb48JAt7WEQK6ZayqwKO3rJPsr0npiBmnChUKhjrYVLFQnWnYGiJQAQR0y1gVgRNB9Cu/UISqwBhcIJNQMNQNpgoWqjMMW0MEKoKAbhmr28ArQiPBqFLBqOi/Pyg4cw7+hiw8B4MEXZQhoFvG6jZw2eBrf6lIMLTv9txahCw8t0OnU8d1y1jdBl5RokPBUAcvZKE6vGDrWiOgW8bqNvCKMg4Khjp4IQvV4QVb1xoB3TJWt4FXlHFQMNTBC1moDi/YutYI6Jaxug28ooyDgqEOXshCdXjB1rVGQLeM1W3gFWUcFAx18EIWqsMLtq41ArplrG4DryjjPqno+7LQOEQAIgARgAicRwTKCs8nOYqCP8oR+DX9m/LGsCVEoOYI6Jaxug1cK8pBwdBAGiELtaIjtFMdBHTLWN0GrhWvoGBAwdAAAa3oCO1UBwHd5k3dBq4Vr6BgaJAuIQu1oiO0Ux0EdMtY3QauFa+gYEDB0AABregI7VQHAd3mTd0GrhWvTi8Y1Tzi1yraCtmBLKwQsNBshRDQLWN1G7hWRDqTYGjxv0r6uI36H+P691ArukA7FwMB3TJWt4FrxVsoGBoUZBSzcHuqCTFzP53D/ldEjqKSq/19q2lpON+v9P195e2rOVvnwl5e8I14NHTNFUhTW1PIFC7cBK8+b0813d7iL4otSzYVvCSdebMbz8otf+S6XHtia7rNfK13aGJtj+sxNGZwR1S5ARtXBwHFjKWSr3aTCvgD3M6nd3ZlTFb4VHWbKQ+8OgNx7nqBgvGRzKhkRBWzMOI2jIW4GfJmwXbJFcxS8cU222JC6uXdks22FKfI0ESDeH/rVoPte9Am5Da4Q3KHRYPiBZUTLEs2FczJ9aE23zu55Y9cl2n/8ublr9cy8r6gYMjRqKdrxYxNzDcLjP2o/28Xmut+faA48I/wX9XkukiNKyMY+0Fm/5ha0+8vGQ/G/JQSvv6T+SnI/CF8Kvd3/Y+xYg9laZ1K+GxGD36cYFA5YnPoM1eQoHKv5yzX5rjdhiLBECyLNM28WZudGHNPzK1zkvB6zR2Icd/uBcYCr8l4ZGWoCRm6v7m+m869XvO9TO+s3nZPjM3+wi4YT27P5ZFsInSny+CYW9/YZH/YZakoGPlEaJE1uMFJI7G3NueeGJta3c2Iu6iP5iPYQDsElDE2vbMx12nomt3YDL0lc/mCUTvcXfEsbnPrg3jw9uxaaJ0nQETVVlVkaXUulAVOZSILU4+FZRyx7fs+kqGozGt2Hk2t7BywcvI+4puSTSvtRqc6UJyul8oIxtYIs1Uu9/P3XjLjL6Wv/+9LPQrGwdrgpf7AARAM88iKkGc31+8Pm8EOAzAyGehtcK/4ehB3hORGV5FgCJZ5Qry8aW6f23pHZN5tus3sNkLM48KW5ZDYnW1umX1FZLJULjRmNA8H3rDtP7PMvwF3xMoS50BBe26e5MnMmsuArmUOiMzB2iC3keIfTAd6EPdGOpcndqbbegLpw8cuy0QkkyeTu7EkFIxaJBqFefMQDKUrcEBkSGrrFmL7PnaYp+IBV/Ot7RxFrA9Zhn4hcm+XOh1LcVIiwGEdj6nCwHPEo8HPbm6xgezNWzpX0zkwjxb2SCr3bm2w+eZWPjZ/rQtsyrOxnTegtqyTH60Eg2D+8VemH2Xa+5lDhtkaYXox5kY3s0Iwf0SY4QiQh1f/ZP7nA6sTMsH4CWPau5kMe/sHlPnvfua/v2Aecc14TVE6xrUbM8UeRtwGYwN7htHQ0DYVATw7QTByYK9guDy0KdZ5ThSMYsu8xkwYh37h2Zxcbmv+PlEqAGxHQklKJg/x71tsy+mPtBdhlx4UNlLcnfdLtqZhP7fzuD9sdkcOH7uMzWOBuq93X+AUoIaxXEkq4jaCrQa7spnr5NY0xOZQc3+fo8v3liWYRID6zZ6KA6e2vm0YfEzm8tuez0DpODRh7LzDhb8562jzvYvNX2vom4/EyfoNthIE1k4whpdBgv/3P4FIbI0wQCNSDHdzHAV7iFsjwk5CJhgMw/wwIgjGCAMqVXtMf4DXCvYv5WNcCYCU2FTsoZBJxSTLCoZ4VgH64s8weBaG3Ab5tycKRvlas/yRw6DLOBH5iADIpj1/viK7I1hL+GyCwIixSM2EMLk775ZszXM7YOfB/rBH62B372prsIyFCH3NNyV0qkIb9YyNuLmtBjeIBLvlzSfmbabLzcIgSgSo3zFVHDg4C7Q4VuKPXWawnQLHh4NrAocPCLCLAoXWmz2Whs5loXglzoWLe6GdYIwLgvHTByAYoCRFMNzNV/9kVgL8PgNowPGCAbYae8w3QSgYXNY4u2AkV7ssd7gTC2J9iF00vZ4zO1bYV1+IwNfcKbpMAEJjhqFNtnci8LXJg4NDlJPai3NDyheFgsGt0ThhyJPsTOMTytatBnekfpNLFRJ3rbpQnDeFoaTSfodl9jU/WIfssjq+2NW5mMgEXWY3KPHLFyK1iuuj/SoOnMqxIVuudfnTIGrZPKJyJKeXLBrplc72JaUvkomT5dxeaCcYvV+A0+x/LIBtRJFgMCmm+f9hXrEqsB9kPN3M/9vN3HvJMB+YexjTbmaGMXBI/kM3uPgHyvz7TygYHPVLBcPYILw++/eVJCXOZ/GiJP/mEwFXi7mzt+caYpvmTikTfofpcntvn2PYM9TCvnYFXsoyNiCWW5HD0JjhM4vN0dtjaWhW0l6k/nGCQVEZ/LbNjHQ6e5ubujwRIhl0Wdpd7pFeS89SvI7r3R/NPue3geK8mfC1Gy+bkZ77idzbtcFriMXZ29nUMng/dvh2wdbODR8RdCHuEAE2x5dM5qZeP1ehEolRTxeKA2fn0S/DRvTRIec/mEcW87Xenk6k2bWyR+zOtlt6RsYG2y0g9nqKsaLOaCcY3GZCnunF69xLpp/df4h3yl6ItanCb9WNcS1Grv49VMEhKe+XaE8tsFXhOXRPMQIXirGKo85RlKrAt761gB22GvsXvrFWgvGB+Un24pM84+8HmekAk5PfOuZ6O8j8XuYrVWNckwGrfw9VwILfNk+Boi38ucAIXCjGquGqisDTa4M9S/yvoKrp4gLTJkdRWglGmUSv1S0VY1yjca1/Dy82iWF0ahHQLWN1G7hahhzX/kyCUbV/f/A47+vkPmRhnQwEdEMhArplrG4DV0iMjzY7vWB81LR+GkAW6mesL0akumWsbgPXirdQMDQo1kMWakVHaKc6COiWsboNXCteQcGAgqEBAlrREdqpDgK6zZu6DVwrXkHB0CBdQhZqRUdopzoI6Jaxug1cK15BwYCCoQECWtER2qkOArrNm7oNXCteQcHQIF1CFmpFR2inOgjolrG6DVwrXpUXjKq9Lws7gghABCACEIHzgkB5wSh7F948DoFf078d9xW8DxGoQwR0y1jdBl5REn5SUesXzzhk4cUb04sdkW4Zq9vAK8pnKBjq4IUsVIcXbF1rBHTLWN0GXlHGQcFQBy9koTq8YOtaI6Bbxuo28IoyDgqGOnghC9XhBVvXGgHdMla3gVeUcYoEQ5Nj/YqGUTXjkIVVgxp2pAkCumWsbgPXhDbHGVEqGGf8B8wvzOBdmECOI0SN75OxaOKULhB7MeKUj17kx3TLWN0GXlE2Q8FQB69iFkZnriII9/PlaGCPLNPNERETUhyVjKXyZZqouJUMotdNRoPRdB31l+1Oha2iptGZqzPRontn/ygLXzQWnWrFnlM0XQ49MjrzZaPRYDA2OiafAWmITiMzO+Kj9P7dVvRJ+f/ri9RIf1eKGUurUNxyY1dv0CoPvN48r2d/oGCoGx3FLMQxA4ZzthM++yV0o1QPkr7Wcb4JPm73p9V5Utg65W+zzuyx99I4niz88qyfZLGc1ZTseVn4/N0jHLvu3QcfZD0K6OHjRvQhq7vZGM4qIj5uwJ7LDBIBx1fBcsosa6O/S8WMTflaBMZ+FKXSsfvoI1VvoDjwqnt2njvUWjB+whjPQun/fvXCDJ7iQGQpj07524yTOzSdDns9GObxhg9omoiF7zoM3d7w03D4aQC7joyuhsMvUmCFnMb902wzVkL2f/RHD6J+DxbYo8B1OhaYxrDpQCwr5x2OGQcKkmUW9z9JEc+8mAebeRDj0mjqKfiIfRcmjthnj8j9h2yDZRzcET8+iJFcA74HeSzsrSzrg2eG3TmR+NLMhqB25I7f94Kkjwh8eYbvGpgi8Xs+nHM4i/vu4aQUPi5trV5gjVPcTkbeI4ce4e9AeEUU4i4WDIBzOWEW2uvzb2WMJWJPvQ6Dw/s0jCepIiZQscDkcpSn0M8z3uBzgbqysas/cJUFTpMvfDNPUrz7ZNS/hJM0TcaDYKqKs+ygYErWX6zV80hrwWAY5ocRJlN85KFw8KoX92l7UhyILOVlg+ilgWCW2Ljrj6ZJMuazfz4TO6LIh6hhKEhmSTIb87a0evdIkqRoIuhEsDBB09nYTIczSND4uAn5ajL4Ao+BayMyHNzPkqkno42FApG67zBesjpnA1Eud6f99ksOXzRFZmO+DiOo1RxseJejqSwZu2dvnI2Bks4UYr8L7qSi4SjBflzap47o1I9oK5+4OZhksYAbVHR5JpwgyfTG6OcDwSxN/ow23uIS/b7vuiNAEMGvEPThPpklY0t2xINTIJULW6i0397mT8nCpwRxIu7b0Z+5mpKsRx49mnyOIZdM9hv+cJzfRZQIBo2Pt/o03l2dlih185xCxlLZIGpAg1nAQUCMAiaQ4WHr6DOSTvod3f4UJVFXHLu6CVdyRGHgNLmBfj4ZZUm4f8/qeEDQ0Umkw7dP0XQ6iLZMRo8Aq0EBIL8fS+h9B3sKwSCYf/yV6UeZ9n7mkGH+eAmuPRgTIXiVgIIBSItjBmMje4bR2GifeSHjGRXztjiDWZp+jhn4kpSUT4n7duRGgN12hAM3EOw5jY8bRp/x00BKkUfhUWNJAYGIhZdHWy8ZHaspmsvL3HPPRo0evvYF8n3M2wpKNzhmHA0LyRo4bAQLTLZrr6PNLyy6CgtE0nyk6SMqOGSajNL0UXTyc3ZpvzPZOLRBHfjtLT7hca4XKUDJMSl83mhq2S6UmI5Bj0pFH8w4ESNyC6dogIzQXrCw1Fp0R+6vPq+V5k2pDFiOCWR4tGVgoNvh5/S4ZOzqEFvFgdPRW41gRSXQGPcYHXe5iRD2dtv96X3f9caBezi7/a/DQKvq0qkEY3gZaMO//8msEMzvQaZ/gUn9Ke0poGCAEZStkfkBJaOzTjs6ik1PolfZ5bY066R8mlq2t34XY7cdJJklqaOCtChLkaX2Bd7szSAdfkIuGFxHZHSmz47ewGamUAToQZEFHOMWmGDHw+51BHulsaR+HLX3oZjHi3XzKZtdmqU2hhCgH/Ku6X3vVbv/QApQ+lYKn++p/A5DckO4IoMDrFjK0OC/gjsMASPpb8V5U+RDOSYcpXxtJlMLBuo1tHytI3VUb1eKA6fphM/aHUg9QRF2Y42PG9CH7Cxg5wLYRR2l8OVJp7XRcV9YCNVbtNXy51SCMS4Ixk8fgE78mWL+Z4SZfctrBhQMMHji9BNG8gVmHA6DD0exmeMFg96ZbEQ3+P0IBeoz8rQouy60n48GH7KnxbRQIEpLy/zYLOJ4QOAeI79T2ZthBYMIdFu9cdY9MCVkH2ma7VnwvCgWaQNBBgeENT4RcFy3WrsD4O0lbqXGxZD02a/79mlqAzWBUxyapvneyyWdF5j1LhdFYXTgsdTGA5w/WYl7uY5kaHCuEv4OduvGfYL/ZRFQnDdFzMswIbXscCynyJ9RZJyVjBKxr0OwFQdO0zQI2QqqqSAO4oFD4KEwE7iNOBFwdPh1/ur2qQSj9wtQg/rHAvMHw+wHwfWNbuZfBMN8YO5hTLuZGcaYfWnLwTCMmsGrQ+5JLikORJx+wrN5HENaBzyj6I0ZjCvog2MGE3LVGUjS0VnE1IggwxskTUZn7QjicPa1Il9O4lllgnG0H0Ctpk8RBDGZvpgBB5Rpv/1Ta2ub09nRaB0Mpo5o6gWGtAxgN9DRaQycItA0nQwOWBvtfc7WL9BAgqLBi7mItc/puNqKroISrvBHKhAhV5GBB//2dyCOGxiKTk6iJrEEFB5mT0rYZ8idGcfVVmefA7k+EGSLGNSLSeRTq7PP4bg7OcD1Lguf7yi/gbb4it+S4r47IvFZu+nTRuRqownhbeLjBmOj8O7yYIDIBp2cYgl+w79pmlbM2JS/w2hCEOdqqpgJSZ+9w58CSZPcQBHsOQnYJVC3bkFWHDgbwbNR49AGz/mjVBC1Itedzi+RVjSwT8a8HVbnDQztsILY9f3nVILB7TAKFOEjH9QNXh0PybkJpKAuVHlAj6KTVv7k8CydRW9Z+Y2Ieiv79+DvYZRB7dwwtozvZ7qlKvCzEO9MXp63h08hGB+Yn15+RB9KvlY1ePWM4bkJ5CAwuBhB5gAAH+hJREFUMMjtsKsBJ/EQdS7zNbEz9Ufyv2NxCiOpZ7jeC8zlUDs3jC3n/FnuqQicCKJf+bWg71n8PR/PnkIwStRAwQ0Vg1ffuF2YQOobZuidZgjolrG6DVwz6pQzpFQwzv7vD5br/fzdgyw8f2Omb491y1jdBl5RvisSjIp6cL6MQxaer/GC3uqWsboNvKKch4KhDl7IQnV4wda1RkC3jNVt4BVlHBQMdfBCFqrDC7auNQK6ZaxuA68o46BgqIMXslAdXrB1rRHQLWN1G3hFGQcFQx28kIXq8IKta42Abhmr28AryjgoGOrghSxUhxdsXWsEdMtY3QZeUcZ9cvb3ZaEFiABEACIAEbhgCJQVnk9yFAV/lCPwa/o35Y1hS4hAzRHQLWN1G7hWlIOCoYE0QhZqRUdopzoI6Jaxug1cK15BwYCCoQECWtER2qkOArrNm7oNXCteQcHQIF1CFmpFR2inOgjolrG6DVwrXkHBgIKhAQJa0RHaqQ4Cus2bug1cK16dXjA0Of3XKoza2oEsrC3+sHe1COiWsboNXC1Djmt/JsFQ8E+Yn9TkwgzehQnkOJZcpPvxV7uZvBabqnx651X6nCKjW8bqNnCtiAoFQ4PcoZyF8YDLcsVoMJosrqUdQoOuNeHB1p0W88TmofgudWjM4I5IliNjxs9u74jfVvIi+Wo3WWB/d8oxt5enkqv9Ztda4VfU3vdd5qltyc+CB4/BNr3W074Up6jc27XBayajwXj5msv3iuCN5Ldn/4K4N0jR5kn95mOzza5g9piOlDhTuzbKGVsyIsfHm0/v7Na7gioPXOQAvJAjAAXj+AmgeD4rZeG7Jdu12zvs8jYeisQ1WecqdlI+6gXX2UeDn/X22Lr8aQGKIsGo3lI6Md88FpJHhN/sWwU5KL7YdtmEuENSKs+l13ouGY1yYZM/eMx1fLFtMEjmqITPZpl6xcb7LhJ6ywd++NjV0NNrc6yIynRyv8nVrp6AIDbH9FgAdd20UcpYqmRETgjh7UKzyuGoPjiKAxfmwgnx6vIrKBgaMEMpCyNjxq/XMoU8y7xem50Yc0+t7BywnuSJndXb7omx2V8iweVIhiJC8wsh7quDyPx8BDyeJ/bW5twTY1OrXHWFCC0/2nu3Cezc3eR1KJ8ILbJ21mLsI8LHjUTRLE2udpnvxJKrXZb5GP9VkWCI/RKxwN0x98Rt39rm+sZukirtF9zZebUyNTHmw4mc4FKSk8Z3Ed/UmHtibv0dG+nrNR+eYIO97Qdr/PTOxlynoWt2YzP0lhMGMjg0zC3h44tttm9v9jSD3QbrJBlyW9yLczYuQ3EdTcytvxcsv0wLMMrXvGlfe28AgBlxG/sDxTu8tN+BzL5O+x2W+TdcL0CoTux3yeZ6JO3MCke2COe6+qiMsYUjUsi6w90Vz+I2R+Z48PbsWmj9TpfBMbe+EYnX8a5LWeBUJrIw9ViYKcS273sw74qn6vtCPp+f0T8LFaFg8KnhLCAqZGEun/A5jEZL79TqNp/WX940ty/skVTu3dpg882tPLV1C7Hd2U5myeTj4cu2pThYC7f5uAz7bskG7rBtvo8d5ql4wNV8a5tdLxs757fjB8TOfFvD9G6OSgd6kMG1WOaA2NvY3MmDj+6NdC5P7Ey39QTkORSstUF+PFjruQIcADgUCQbfLxH4ug20BFE0eCLcOr2o34TP1tC3ups52J1vb2h2r+0dJEK3LLbFBNgQmMfW01TuYHeqvTeQBr0YzcOBN0Tm3aOhz/oDB9ThwdqgwRU4IDIk60Z6pUdYsYLEvZjYu9PCO/96zuJYSb5bYgUjHbyztPWOyOwu2LjSmWR50/2ZlP2BTlyb22Mndny5y3jJ0jO9ssVhS1E5sP9b2KOoTKD38rd8pevEflnhaV4ABa7z9qOQsfIRAcwsYB2xPmQZ+oXIvV3qdCzFSTKz5jKga5kD4rBOts7lBkVh4Dni0eBn/HTYm7d0rqZzxVM1Nn+tC0zMbGznzbncZZ6OtNoJxr9QZhxjxoPgmPvwCTOMMd/8lfkXwWSWmX6M+QZlvvmCefRBfgiudPDKDfzpoq3QU6oCSe5u+kZajJe6/O+o0ISx887m+gb4mXW0+d5F3EahLM6n6VLBiLiNYBnOPjXXWSQqbxea25eS75ds8kT2fsnWNOznHrk/bBayMEDjzQLIvABhMogaBx+zS/vygpH2tfOr8pC7wfOSYoVKEDOuX5m8hdwGd0iSn+Rym3lkhYvUP4KAr2S9rA8Z3RE2/xqkktTefJsH53Mxl7hz2YjbMhbKAv0DDvCCIeRrcne2md1AyCzHv2+xLYsCGXGzisvTIL27vjjcfMnYeR+sJfm8QFG57KPBS/wofKxfNRWbeqKxYsZG3PyIlLKOyhGbQ839fY4uH1fTk8FeoYl2drOKA6e2vm0A0yG/7fkMkKFkqsbmrzX0zUfi3OKmngb37CidYEE7wZj9K/PoLfMfQRFyKSZ0h2kPAMFYSjHjKPPHS+YHQvga/K188E4IoB6+OkUgO9OIbTkdchsG14jMAf9zmBfnJ5sNi8SAl5CIm1uGc08R3EpfSNxcG76lkEnfLdma53aEXjKyisHWtyZjA2JuYn/MJiPKFliKZr5gLRMaa25qsTS39ExztYhSMZPuFAlGfLGt+e6uLNICwRAay8LPb3vawXqfG18+cVNUMtDb3N7W4HoEiiG8YBBb070217B76uZgE4uDzH/xQdaOtMOQaPPqtrl9KZnf9lwxNnA4NCHmK7x2io+X6/fi7zDAnkwUjGLWgb3mvM10uXksxBX3ZLBL8AojWCd3VExVdi0Vf+wyg008VTJVQfihxZs9lobOZaF4VWfBVgJz7QSDYZj/jTD9I8zvDLM5wvwrxfz+hLEtA8H4gWDGRxhG74Jx+HItwBfHiaCrwYNT4OTgjnByQJI5KjZ/zTL7ms2Sr26bgWCQQZeJX2jzd0CRnW9DUYdggSOlaZBDbUtxblnETeM8xa+S+I+kVDGQLaUBt0DSZI++i2a+IBihCYv7lwRI+vyqqqRfmSeCBgjCgN/kszxF5UCkwn12jgmNxfRE5YTjbo70YuLO5WPznb1+sUbnjuQiY8ahTdb/3SlRMLg7FBH4WkAPdJT2tbNbh+x2YI2HPRN0NXy7ffjYxYslN+fxm5fZjddJ/VJU7v2Sraf4UIpzuM7/qzhviiNSyjoqvtjVuZjIBF1mN3u0VkSbusyeigMHbPE7LJZr/MsgJVOVynGVt/RKZ/uS+JZEnY/72d3TSjA+MPcwxoMxf/sn8wfDbGPM3zBmuJ/phYIhLPNB/Wdl0GK6bEbMV0zN3CI9nwi4LOZrvT2dSLNrZY+kMqEx85UGc5Olb8TFCgZ1GLlpvmLpcXZ13rnZx1VUwCuhiMXZ29nUMng/dihL07xgUFQGv93cAJ4yd94MHYCPNjPS6extburyRPiSa3K1SyzWc0zam7eAo++imc8LBrEz3d8zMuaeGBtsb7B8GynXryQhggaIwkBsTbeZzV09zhbOJXkvQuOEr9142Yz03H8jHndzjkmJW56GuB1GNuI2t/RNDA+O3HZz5z2hMcNnFpujt8fSwOMsPLU338LWGWJ+l+XyFcRsNl3+y+0tIu13yHWF4pR7/g176L1Ysn4USmGZQC+obgvGz9GF4rwpjkiCfRFZxrq3C7b2JfYojgi6EHeIANy7ZDI39fqFt87qEBDFgbPT9pdhaRlRNFWJ3dl2S8/I2GC7BcR+DjlwOp+1Egx5qUnptbrBq+MhqUggwrr+dOOq/VPvl2ziK17EWl9FV1XkbvCXMyTiIsGTMye90il7a/ZsKMXmdfB7GGeDSLZako9C7a5VTdWtby3iKdoFw+HU4UDB0IDTqliodKjer/T9XfqFAKVPVXAqElvTXZZriLnJYnEMB+t4FZnDb5/wC33xSIR/zfeMWOUT66GSzccZbVbr8YowtlrOn2UuqAg8vTbYsySeop2l04v0LBSMehWM8zD9LtJM0FUsKvLmxeKhbgPXit5nEoyz//uDWoVRWzuQhbXFH/auFgHdMla3gatlyHHtTy8Yx1nU4X3IQh0O+rkOWbeM1W3gWtEVCgYsSWmAgFZ0hHaqg4Bu86ZuA9eKV1AwNEiXkIVa0RHaqQ4CumWsbgPXildQMKBgaICAVnSEdqqDgG7zpm4D14pXUDA0SJeQhVrREdqpDgK6ZaxuA9eKV1AwoGBogIBWdIR2qoOAbvOmbgPXilflBePs78tCCxABiABEACJwwRAoLxhl78KbxyHwa/q3476C9yECdYiAbhmr28ArSsJPKmr94hmHLLx4Y3qxI9ItY3UbeEX5DAVDHbyQherwgq1rjYBuGavbwCvKOCgY6uCFLFSHF2xdawR0y1jdBl5RxkHBUAcvZKE6vGDrWiOgW8bqNvCKMg4Khjp4IQvV4QVb1xoB3TJWt4FXlHFQMNTBC1moDi/YutYI6Jaxug28ooxTJhjZMIagGyTvyf6SvfXu/slukYlYKn9yE+HbtN/e5k8Jn2iaxscN2HPZ57KXzzHDOF72G/7m0b6vo9Ub5z8p8fkka8J3ylmY+hG1fmo0GE1W1B8jafqIiMUIwczH/i6KrgSics+n/G12f7rcN/CejhFQzlhiTzFBVZG5RuArD7xGDp7LbpUJBk3TyQ3fUzGrk9HlQIw6KeDwsOLkVZINtREMmqbJqH9VdPPjPp8Uj/CdUham/fbrM7Ej8FjqOZ46oumkr/VkhRO6AH9DwZCjAa/PgIBSxtIpXwt24hJM5oQqMsueq+al4sCr6dS570uxYHwsUjIR9HowbDoQy1KpF4HRq8joajjMLln4rzzesLD+JeNcYz9+QNOiYBylNqa9YQLsMEZ/jAWmOWtcx+T+Qy/mwbDvwiD5SimVxO9vxPYCMx7Mv0PS6TDw4bswwbX5mM+n+F4pC19gxoGgsCWjaSIWvuswdHvDT3Gw8Toi8OUZzIPNPIiRnKtHfIAzyzhwXhQMMuqfCsTe+e1tPvwpQMArynaxEWGHEQ/6d/bD32HY9EbqiIw9mME8M4E9yZdTRA0fOb8IKGMsEXvqdRgc3qdhPEnRIhtZflKxwORylCNQ6ucZb/B5AZnrFRplgdPkC9/ME2EpTEb9SzhJ00KCCsSybHgHuH8aw2QZrF6DrrhfGglGfgO9juFZmiJi+wc0Rca8La3ePZLM03R0EunwRtMkmQ5jCLvtkO5EwzuEIBgkPt6KPQO0xMcNjUPB/SyZejLayKbd6BRivxtNZcnUUwzpYOtXfEpN+dsaBx7EyGzM19HYOh7cz6bwKat9WWCA1gAqZCF9lPJ3G41W58yDKFC4I4p8iBqGgmSWpI6I4FcI+nCfzJKxJTviwSmalgKMhqOEIBjAiMOXYDXVaPdGUyDMtsaZPZqmS40IgvEcM7ZM4mmAXuvnAzPRFJkIOC9heMVEVGuMoT0tEVDIWCobRA1oMEuSFMvGpX3qiE79iLZORWmaDA9bR5+RdNLv6PanKDmZtXRVW1sKA6fJDfTzySg7O/bvWR0PCDZl+fYpmk4H0ZbJ6NG+77oDFHvz+7GE3hde2gnGpVbsYUxY2gvJi6Zxj3H0Gc8E4r69dSklvwO+SPvtV0dnhqyO+3yWl0pSR+FRI4bTOGYcDfP5jvB3tPqSQkqlZR2JJx/i8lxbArLWlLKQbUzEwv4brcZLjkBadJimD/z2Fp8gaFxo8gDZJ59jhu7JmW4r9pwlqLgJo+nUUqv9PlHOiACFGL70lPBVBQCBJuscAcWMxTEDV5LCMSPYaoTBj9fBnS+S4dGWgYFuhz8p8FN5fbVGACkOnI7eakSfUPRRdPJzdCMPUpbjLhd+2Ntt96f3fdcbB+7hqROL8DWKstrdaiQYNE1n94PfofZGLsdJGUrK/jRN/YwaPbj8DgiXFQzflF3cFsgacCQWqUzTNLWBGrEXYv4t15GYMSsApnIWip3HZhGQ4kWvpDxO0/S+96rdfyAPkH0OCIbXh7aWEYxlFqgyRgQoynQkfCX6BC90g4BixookxDFuq5ElySwJdhw0TR+lfG0mUwsG6jVSQbiuQVQcOE0nfNbuQOoJioDtFKhwoA/Z2FkEKFAhSOHLk05ro7iorevIK+mcdoLB7QB2Jhs9OC1b+BMPHFb+lSoyPAyUXHaHpo+EM4yjlL8D4fJjiWAQgW4r/74TGR5lVwFC/pVSofSUmDErAJxCFlLRYDDBdU9uoI2TO6LC0fxChpt4SZ/9um+flgUI2Ck0JnFQxEsKELH2UpxgcKuhAiMCFGL4kqgIX1UAEGiyzhFQyFiaFgVDxkaapli9SC07HMsp8mcUGWclQ+RYHQevOHBQ4A10W63XHQH2NcaCBMXFzyU3IuDo8Ct+07GOoTmDaxoJxsEGet2Oekad153sppXCPY3GRsQ6hVNHqSDainzpdF5H7LPs0dlRKjhobexwOr9oRVf3KTGvCflRSv0iiZNB9AvE0ee0IvaZHTZN8pSVUqH0VCXZrJSFiQBqNZkQBPnU1MpFnfbbL5mQq85AkiZ3ZhxXW519DuT6QJDb4yeDA9ZGe5+z9Qs0kKAEOaTppN+OYPj/Sm8e84JBlxoRoBDDF4GV6fcZqAIfPZcIKGUsnfJ3GE0I4lxN0ckgeh2x9jkdV9kZmvTZO/zsyybkBsqu6mRkrltQFAfORvBs1Di0wdecQMqyItedzi+RVjSwT8a8HVbnDQztEErEdRtz5R3TSDAq72id9KCOhXXi9P/fztW/tJGt4f3T8lOgKMJAYUIgF4nsEglNkJvcrpVeU9mgMGm0FrIWVJaQbgxuKjYQKpa4loFwI1G8WV0laVzdbAJDZLMJd7jQH87lzHeSUWfak9HrOSLb2Zl33ve8z3nO+5yPaUkzMEYAW8aaSvzfL/8GtwHIz00IEMG4CaHu56ZY2P0q+T+CwC0ggC1jTSTObc38I33DX0W+ha67iyGJYJjrFRMsNOeYWBMEBoIAtozFNvGB0Eh2SgRDRsLYn4SFxnAiVncFAWwZi23iA2UeEQxz8BIWmsOLWN82AtgyFtvEB8o4Ihjm4CUsNIcXsb5tBLBlLLaJD5RxRDDMwUtYaA4vYn3bCGDLWGwTHyjjiGCYg5ew0BxexPq2EcCWsdgmPlDGEcEwBy9hoTm8iPVtI4AtY7FNfKCM++q32h/klyBAECAIEAQIAloEdIXnqzbPk1/jCPxW+8O4MbEkCNw6AtgyFtvEUVGOCAYCaSQsREVH4scaBLBlLLaJo+IVEQwiGAgQQEVH4scaBLCtm9gmjopXRDAQlEvCQlR0JH6sQQBbxmKbOCpeEcEggoEAAVR0JH6sQQDbuolt4qh49fmCoT06t/gaVfKo/BAWokKS+LEGAWwZi23iqHj1RYIBbuPnDnb5HWwSKn4QP/cSAWwZi23iqGhMBAPBhowxFtbSTx20s+s3ttcVnWVsDNt1p7+bjdj0v3XNnfppqXx5Q1Dt6zr2nWrmqYt2TqUvTPjR+lSvLzYmFYh8s+lDDj662Jh8unHe96l3YWWMju42lftcMeaj7DabnfIvfKi195Z60Kb1nKihFT/KhbYxTgcdK4rGvXF5rvDKTz2w2R5Qvhe75/+6Im6nuPy1g9lpXRdRCT3gC2OMhb15fljqR14/hU7toFTTfzTgdIwHNZ64cZ9YWRLB+OIax/PmWMhGbJ5UWW8IGREDIzamGJwLjyfPTICgY5+P2MO7poJeaXyW8ijgnCY89tDWJd/W3lRwu9yefhgMePzpmtR4lrFPZwWBaZRYUWmgcTXpuVmG9dtjLG6bjdhD2XqHb3e4A7ZUl1rYG7f5PkQFgp4JHeXTj65kOoALw4ytxt0R1mADKgk3k7c+F1MRDSduYkSYasD/uzFSwfiku0X1F3i3r/sA3nw3DxYS4M8rn/c/uINdbq5JGsEo76wy0Qjzw+55BxIUikG2lI5FmNjGQYNv8xwbT7Dwgm838vF4vi7aCKuQnnePMqnCRTEZjaQP1Tls/TS7HI0w0dWcKAnHWSZzIlL2KBPJHLfK+Y2w0xF+s5sr1drH2eR+7WBziYlGlj8IU8Xr7cU6clllV/y2idXcTr58ybHr2+XKdiy6BCNe5JOxCBNdkhYKPHx6cLgRi0aSe1z7bBe2Tc5dGkhdNTrP2IKZhr5gnG/66ZWT802/Ky5mVEt6HbHD/nHeW7ilQJ0auwYzjW2WYK3neR0Auxojee6Ly5+vj9OvSpJbtbb2xK2lJxzLx7X0hCt+2t9Iq+8YY2ztYGfVZ/Mv7+yylVa7wx1lIV1FxJqljYW1oqiO5a2l5SybU2lgdTp94F/ZAGOJC0NvfftIpmhZYEi7jzPG494bS3SCUV8HP3H99R0ADjxf17sv3/tpDtTlawN/Gu7yK0mDvPPMNUkRjIvt5bViucEdxMcpoeKwjI2ayR41uPJOhBpNHMHZsTz9l4uXtMLQeXeYDixm8vkDecbd3l+kvauFM65+tsvQgh82YpPngKKfJldado8tH3L1Sx7OlOnZzKlg/1Coa9fbi8Wx06pnQ7aZbL3BNTvVpIdyzyVy+VK5kg3QIeitUYp7HUy+JUz2qcnNknCHcjPZo0aVfenyrFXVHjlLeZyz6Z3d3E42OReczgiP5NxVM4iM0MJGNjCyWBDGc52N0A+GPXOp3LGwzpBqd0/hFllRywQc09mTeoM7eD1OR/NNqMR9AJ6lPO7VgwZXF36bMIpO3DaXZ2j7kHc2uXMiao/Qzu64ZykP7FC+ngkOvZC2tjTpWMdVMahBxjYb2WlbKNPg6i2+8NLheX3S7PDlTMj9stjmuVzYFf7AtSsp30Sq3NLSwOp0jCNpMHGho+2+uHZ46nDGeNx7Y4lIMD5ugdlvgHcGLMyDjwA0fwaz8+DZI/CWg4Lx7BswNQO8U6AJQGEOFECXiiiC8es6eD4Pvn0Eiv+FBrE5MDsnvaUREsNdbh1rzTVJEQx5NtosrboDWe3qoc1X4+7x5NnVgqH3bvhDV8ps1K7cOV8fd7+utvsEQBgYsiZpnpZfj3nWazfYy23QmFWTnrF4BTZDiijaSHtWajrqxpomKBxUqmDspl8FXYEUnNz1C8ZpwiXt7bS2ZuzT7+VFVata2FwK0Hb6BdQAYZR2F27x5kXK407Iu4J5xj6b68DlnQKXNLzPUp6R8TBcokWYqLDUuypup1Xe34gFHHZ6kZUOhLriHsVdvk1h0Xa5Pf1A2GdT0LuNC8OMzTM2cUsqz9jhUiMHf1d94rYhtxt2T01O+JNCj2to0MXDO1UrDSeucrVdSbi9qXM9ztyp1KxpDCLBAAD0rDDavwN2BXgzsPTPCiuMX74HG9x1ggGdVMDbObCwL8jMCvgEwMctqECaH8Ndbh1rzTVJEQyuGHs8Pj0Xib0M0cIIVMuotLbQsFYumpLNde9KiWu88c2tkD2a1w5p+akmhKZ2l9fG4cRfc0fHXql0qpnqTfIg2hyv0t7UuWbBJHuDyxpl0QMZL6cpsj8XFo4fum+2eb7wYthOyZ8P0MP2mW1ZHoTcueykXdl57yrc0qDqcniy7BxPXgj7gT1fHHSZQc83xOW5zBM7kxfx18TtFBdG7JRymD+iUTgFQ2svDDNWIxjiUkNcb3GCQneqcc/wkDvCckLKPV1pbUYGy6XhxFUmS5zsIoPEGYNB75PZYARjdw68/R38+TPwrKuLiV++B+/+kgTjUwU8k/eplBXGj1OgwIFfE+C5IBhXbGQZ7nJx3FrxX3NNkgVDXQEcLimCIU1yuezkyGKBb22FhhfEL6k0NgzL677b84UV3N9fEff3uVyYgtPw41VamphzmSfiUbBmYLARm3R2zWWeCHGvt1cqglopNN72FqnQtrTH/XpcOGlQnxoSjE4pNkrBY4muscq3eybpsBz707Xq1mZe2hE6XpXXH1cceneKCw9DW2KZqyTEzSK1SUpehuLy5fcb0jlT52R5VDmEVwWj+T7UJWl7i0O3ffRtmLGKYMDTl+VjaTQ1W/CivOb3rVXrWyGagadrvdqvwHiXLgwnrnJVop8eZ+6TEhjMBZ1gfDoC3r9LW1LFefDtPJidAkFBMP75CN7/LgH+A0A9A4Jz4LsZQTD+Aj/OAy8N968+ArAxBS9mH2EiGM18hHZPMXOhcCwifhrEMo5AyO97HHRRY7E9uBHfzC/SI67AY79vZXFSswrRe7fvW6BONRMao33BwKjD80o8n6ymJ4aHvMHJidmF8JggMC02Stkph+tlvslGbA9dnolgwEW5jdgrhUBXMISPTemvgwGfw/U0KxwbqoNQrc7qu0IxOkt57MPi57AU5ZpeEz460tyknY5ozN9zDHAUd7l+2GdfjQ+NULSTGqKnMuImCWyhWri1Q6K+t+RzjgUe++lRyVhtkpJXt2Ccb+rFjZ/U80uekWHK6aBGHJPioUtX3Fp6QlZ9yfNJfPSWj75N1E2vfYh2BN5U25Xs9KjD9Tjoc45NvzlpVhIer7BhyHNbIQfDcrCwPhimncG0Cr4V0zVtt954bSLxvuPDfs7cGO7+GaATDM2u0UAvDXe5dWS9g036HKb21G6lbpKLe4fAPWGs+X7BNvHPKQh68BLBQKAr94SFe0vK301DRS/i524icE8Yq1fRrgcc28Svh8X4UyIYRDAQIGCccMTyLiCAbd3ENnFUrPsiwbD43xxUwqFKHpUfwkJUSBI/1iCALWOxTRwVrz5fMFC14B74ISy8B52IVQrYMhbbxFHRmwgGgg0ZwkJUdCR+rEEAW8ZimzgqXhHBIIKBAAFUdCR+rEEA27qJbeKoeEUEA0G5JCxERUfixxoEsGUstomj4hURDCIYCBBARUfixxoEsK2b2CaOildEMBCUS8JCVHQkfqxBAFvGYps4Kl7pC4byASu5IAgQBAgCBAGCgIiArmD8D3UO0qwUnsheAAAAAElFTkSuQmCC)\n",
        "\n"
      ],
      "metadata": {
        "id": "Zb4HglqNHiIC"
      }
    },
    {
      "cell_type": "markdown",
      "source": [
        "**Aligned FASTA**"
      ],
      "metadata": {
        "id": "HbRJwdn1IzZ-"
      }
    },
    {
      "cell_type": "code",
      "source": [
        "#https://github.com/biopython/biopython/blob/master/Tests/Clustalw/probcons.fa\n",
        "from Bio import Align\n",
        "alignment = Align.read(\"probcons.fa\", \"fasta\")\n",
        "alignment"
      ],
      "metadata": {
        "colab": {
          "base_uri": "https://localhost:8080/"
        },
        "id": "k1SI7Vq-HWif",
        "outputId": "d2aff376-8fc6-4dc9-fbd7-7847e4ccbe65"
      },
      "execution_count": 63,
      "outputs": [
        {
          "output_type": "execute_result",
          "data": {
            "text/plain": [
              "<Alignment object (5 rows x 101 columns) at 0x7c3061adf370>"
            ]
          },
          "metadata": {},
          "execution_count": 63
        }
      ]
    },
    {
      "cell_type": "code",
      "source": [
        "print(alignment)"
      ],
      "metadata": {
        "colab": {
          "base_uri": "https://localhost:8080/"
        },
        "id": "Hj76aME6HWn0",
        "outputId": "25557580-4eca-422d-8129-0628a57f14c6"
      },
      "execution_count": 64,
      "outputs": [
        {
          "output_type": "stream",
          "name": "stdout",
          "text": [
            "plas_horv         0 D-VLLGANGGVLVFEPNDFSVKAGETITFKNNAGYPHNVVFDEDAVPSG-VD-VSKISQE\n",
            "plas_chlr         0 --VKLGADSGALEFVPKTLTIKSGETVNFVNNAGFPHNIVFDEDAIPSG-VN-ADAISRD\n",
            "plas_anav         0 --VKLGSDKGLLVFEPAKLTIKPGDTVEFLNNKVPPHNVVFDAALNPAKSADLAKSLSHK\n",
            "plas_proh         0 VQIKMGTDKYAPLYEPKALSISAGDTVEFVMNKVGPHNVIFDK--VPAG-ES-APALSNT\n",
            "azup_achc         0 VHMLNKGKDGAMVFEPASLKVAPGDTVTFIPTDK-GHNVETIKGMIPDG-AE-A------\n",
            "\n",
            "plas_horv        57 EYLTAPGETFSVTLTV---PGTYGFYCEPHAGAGMVGKVTV 95\n",
            "plas_chlr        56 DYLNAPGETYSVKLTA---AGEYGYYCEPHQGAGMVGKIIV 94\n",
            "plas_anav        58 QLLMSPGQSTSTTFPADAPAGEYTFYCEPHRGAGMVGKITV 99\n",
            "plas_proh        56 KLRIAPGSFYSVTLGT---PGTYSFYCTPHRGAGMVGTITV 94\n",
            "azup_achc        51 -FKSKINENYKVTFTA---PGVYGVKCTPHYGMGMVGVVEV 88\n",
            "\n"
          ]
        }
      ]
    },
    {
      "cell_type": "code",
      "source": [
        "print(format(alignment, \"fasta\"))"
      ],
      "metadata": {
        "colab": {
          "base_uri": "https://localhost:8080/"
        },
        "id": "ywhNVND8HWrl",
        "outputId": "0d584e42-5f23-4d0b-cac0-b8cb192a5086"
      },
      "execution_count": 65,
      "outputs": [
        {
          "output_type": "stream",
          "name": "stdout",
          "text": [
            ">plas_horvu\n",
            "D-VLLGANGGVLVFEPNDFSVKAGETITFKNNAGYPHNVVFDEDAVPSG-VD-VSKISQEEYLTAPGETFSVTLTV---PGTYGFYCEPHAGAGMVGKVTV\n",
            ">plas_chlre\n",
            "--VKLGADSGALEFVPKTLTIKSGETVNFVNNAGFPHNIVFDEDAIPSG-VN-ADAISRDDYLNAPGETYSVKLTA---AGEYGYYCEPHQGAGMVGKIIV\n",
            ">plas_anava\n",
            "--VKLGSDKGLLVFEPAKLTIKPGDTVEFLNNKVPPHNVVFDAALNPAKSADLAKSLSHKQLLMSPGQSTSTTFPADAPAGEYTFYCEPHRGAGMVGKITV\n",
            ">plas_proho\n",
            "VQIKMGTDKYAPLYEPKALSISAGDTVEFVMNKVGPHNVIFDK--VPAG-ES-APALSNTKLRIAPGSFYSVTLGT---PGTYSFYCTPHRGAGMVGTITV\n",
            ">azup_achcy\n",
            "VHMLNKGKDGAMVFEPASLKVAPGDTVTFIPTDK-GHNVETIKGMIPDG-AE-A-------FKSKINENYKVTFTA---PGVYGVKCTPHYGMGMVGVVEV\n",
            "\n"
          ]
        }
      ]
    },
    {
      "cell_type": "code",
      "source": [
        "print(format(alignment, \"clustal\"))"
      ],
      "metadata": {
        "colab": {
          "base_uri": "https://localhost:8080/"
        },
        "id": "0LAImtRvHWur",
        "outputId": "fb75d5f8-b3d4-424b-8015-c0d5254cc5bd"
      },
      "execution_count": 66,
      "outputs": [
        {
          "output_type": "stream",
          "name": "stdout",
          "text": [
            "plas_horvu                          D-VLLGANGGVLVFEPNDFSVKAGETITFKNNAGYPHNVVFDEDAVPSG-\n",
            "plas_chlre                          --VKLGADSGALEFVPKTLTIKSGETVNFVNNAGFPHNIVFDEDAIPSG-\n",
            "plas_anava                          --VKLGSDKGLLVFEPAKLTIKPGDTVEFLNNKVPPHNVVFDAALNPAKS\n",
            "plas_proho                          VQIKMGTDKYAPLYEPKALSISAGDTVEFVMNKVGPHNVIFDK--VPAG-\n",
            "azup_achcy                          VHMLNKGKDGAMVFEPASLKVAPGDTVTFIPTDK-GHNVETIKGMIPDG-\n",
            "\n",
            "plas_horvu                          VD-VSKISQEEYLTAPGETFSVTLTV---PGTYGFYCEPHAGAGMVGKVT\n",
            "plas_chlre                          VN-ADAISRDDYLNAPGETYSVKLTA---AGEYGYYCEPHQGAGMVGKII\n",
            "plas_anava                          ADLAKSLSHKQLLMSPGQSTSTTFPADAPAGEYTFYCEPHRGAGMVGKIT\n",
            "plas_proho                          ES-APALSNTKLRIAPGSFYSVTLGT---PGTYSFYCTPHRGAGMVGTIT\n",
            "azup_achcy                          AE-A-------FKSKINENYKVTFTA---PGVYGVKCTPHYGMGMVGVVE\n",
            "\n",
            "plas_horvu                          V\n",
            "plas_chlre                          V\n",
            "plas_anava                          V\n",
            "plas_proho                          V\n",
            "azup_achcy                          V\n",
            "\n",
            "\n",
            "\n"
          ]
        }
      ]
    },
    {
      "cell_type": "code",
      "source": [
        "alignment.sequences"
      ],
      "metadata": {
        "colab": {
          "base_uri": "https://localhost:8080/"
        },
        "id": "xrPi5Ay6JC9Q",
        "outputId": "1e8693a0-7135-430a-e2bb-741c748b9952"
      },
      "execution_count": 67,
      "outputs": [
        {
          "output_type": "execute_result",
          "data": {
            "text/plain": [
              "[SeqRecord(seq=Seq('DVLLGANGGVLVFEPNDFSVKAGETITFKNNAGYPHNVVFDEDAVPSGVDVSKI...VTV'), id='plas_horvu', name='<unknown name>', description='', dbxrefs=[]),\n",
              " SeqRecord(seq=Seq('VKLGADSGALEFVPKTLTIKSGETVNFVNNAGFPHNIVFDEDAIPSGVNADAIS...IIV'), id='plas_chlre', name='<unknown name>', description='', dbxrefs=[]),\n",
              " SeqRecord(seq=Seq('VKLGSDKGLLVFEPAKLTIKPGDTVEFLNNKVPPHNVVFDAALNPAKSADLAKS...ITV'), id='plas_anava', name='<unknown name>', description='', dbxrefs=[]),\n",
              " SeqRecord(seq=Seq('VQIKMGTDKYAPLYEPKALSISAGDTVEFVMNKVGPHNVIFDKVPAGESAPALS...ITV'), id='plas_proho', name='<unknown name>', description='', dbxrefs=[]),\n",
              " SeqRecord(seq=Seq('VHMLNKGKDGAMVFEPASLKVAPGDTVTFIPTDKGHNVETIKGMIPDGAEAFKS...VEV'), id='azup_achcy', name='<unknown name>', description='', dbxrefs=[])]"
            ]
          },
          "metadata": {},
          "execution_count": 67
        }
      ]
    },
    {
      "cell_type": "code",
      "source": [
        "print(alignment.coordinates)"
      ],
      "metadata": {
        "colab": {
          "base_uri": "https://localhost:8080/"
        },
        "id": "48E-jVOoJDB5",
        "outputId": "6e303c3a-f13f-44d0-ace2-ef06618604b4"
      },
      "execution_count": 68,
      "outputs": [
        {
          "output_type": "stream",
          "name": "stdout",
          "text": [
            "[[ 0  1  1 33 34 42 44 48 48 50 50 51 58 73 73 95]\n",
            " [ 0  0  0 32 33 41 43 47 47 49 49 50 57 72 72 94]\n",
            " [ 0  0  0 32 33 41 43 47 48 50 51 52 59 74 77 99]\n",
            " [ 0  1  2 34 35 43 43 47 47 49 49 50 57 72 72 94]\n",
            " [ 0  1  2 34 34 42 44 48 48 50 50 51 51 66 66 88]]\n"
          ]
        }
      ]
    },
    {
      "cell_type": "code",
      "source": [
        "from io import StringIO\n",
        "stream = StringIO()\n",
        "Align.write(alignment, stream, \"FASTA\")"
      ],
      "metadata": {
        "colab": {
          "base_uri": "https://localhost:8080/"
        },
        "id": "KHzH8rjZJDFX",
        "outputId": "4e6940f2-4c69-4681-e4d1-2953b6629f5f"
      },
      "execution_count": 69,
      "outputs": [
        {
          "output_type": "execute_result",
          "data": {
            "text/plain": [
              "1"
            ]
          },
          "metadata": {},
          "execution_count": 69
        }
      ]
    },
    {
      "cell_type": "code",
      "source": [
        "print(stream.getvalue())"
      ],
      "metadata": {
        "colab": {
          "base_uri": "https://localhost:8080/"
        },
        "id": "joz17JvYJO_C",
        "outputId": "2c4b0f0b-5043-4033-97d0-144ae1cb93bf"
      },
      "execution_count": 70,
      "outputs": [
        {
          "output_type": "stream",
          "name": "stdout",
          "text": [
            ">plas_horvu\n",
            "D-VLLGANGGVLVFEPNDFSVKAGETITFKNNAGYPHNVVFDEDAVPSG-VD-VSKISQEEYLTAPGETFSVTLTV---PGTYGFYCEPHAGAGMVGKVTV\n",
            ">plas_chlre\n",
            "--VKLGADSGALEFVPKTLTIKSGETVNFVNNAGFPHNIVFDEDAIPSG-VN-ADAISRDDYLNAPGETYSVKLTA---AGEYGYYCEPHQGAGMVGKIIV\n",
            ">plas_anava\n",
            "--VKLGSDKGLLVFEPAKLTIKPGDTVEFLNNKVPPHNVVFDAALNPAKSADLAKSLSHKQLLMSPGQSTSTTFPADAPAGEYTFYCEPHRGAGMVGKITV\n",
            ">plas_proho\n",
            "VQIKMGTDKYAPLYEPKALSISAGDTVEFVMNKVGPHNVIFDK--VPAG-ES-APALSNTKLRIAPGSFYSVTLGT---PGTYSFYCTPHRGAGMVGTITV\n",
            ">azup_achcy\n",
            "VHMLNKGKDGAMVFEPASLKVAPGDTVTFIPTDK-GHNVETIKGMIPDG-AE-A-------FKSKINENYKVTFTA---PGVYGVKCTPHYGMGMVGVVEV\n",
            "\n"
          ]
        }
      ]
    }
  ]
}