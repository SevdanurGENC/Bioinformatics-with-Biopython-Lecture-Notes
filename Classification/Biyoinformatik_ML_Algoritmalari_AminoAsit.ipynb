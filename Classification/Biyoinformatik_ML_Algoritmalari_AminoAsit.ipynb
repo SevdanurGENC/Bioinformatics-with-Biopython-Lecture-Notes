{
  "nbformat": 4,
  "nbformat_minor": 0,
  "metadata": {
    "colab": {
      "provenance": []
    },
    "kernelspec": {
      "name": "python3",
      "display_name": "Python 3"
    },
    "language_info": {
      "name": "python"
    }
  },
  "cells": [
    {
      "cell_type": "markdown",
      "source": [
        "Aminoasit Dizilimlerinin Veri Kümesi Oluşturulması:\n",
        "Her dizilim belirli bir uzunlukta olacak ve rastgele 20 aminoasit (A, R, N, D, C, vb.) kullanılarak oluşturulacak.\n",
        "\n",
        "Aminoasit Dizilimleri: generate_amino_acid_sequence fonksiyonu rastgele uzunlukta aminoasit dizilimleri üretir. Dizilimler, biyoinformatikte sıklıkla kullanılan 20 aminoasitten oluşur.\n",
        "\n",
        "Sınıflandırma Etiketleri: 0 hastalıksız durumu temsil ederken, 1 ise hastalık riskini temsil eder.\n",
        "\n",
        "Örnek Veri Çıkışı:\n",
        "\n",
        "Amino_Acid_Sequence  Class\n",
        "0          GLKNQDHWYFVVEIYPWAPSECLRVGDN       0\n",
        "1          IYDRLSTWDVQKSFHYPMGEQSTLIW     1\n",
        "2          CWNDRSKYVFPEKLSNHWIVNAY         0\n",
        "3          TSYGFVMELPQDRHTWRAQNDQGCVTMVHYDRF      1\n",
        "4          HRTSWNCDPEQHFGVILFPLM          0\n",
        "\n",
        "\n"
      ],
      "metadata": {
        "id": "00ly-h1mCTYB"
      }
    },
    {
      "cell_type": "code",
      "execution_count": null,
      "metadata": {
        "colab": {
          "base_uri": "https://localhost:8080/"
        },
        "id": "THv5--UB5flh",
        "outputId": "76164e98-996c-4e54-cff9-c69a5e171043"
      },
      "outputs": [
        {
          "output_type": "stream",
          "name": "stdout",
          "text": [
            "                                 Amino_Acid_Sequence  Class\n",
            "0  LSQMQKMGMDWQWTDTNENTMFLAIPMGPMFCVTPYLGHYNSLIDM...      1\n",
            "1  HTCGQLFLNFCSIWAHFMGAVDNELRYTPAQCGNYNGGQTQTWIHL...      1\n",
            "2  LPFSCSAQLDKMNWPIDMWFRHSKCLDENPMNLLCHEAYNNADLLG...      1\n",
            "3  GCEDQWADKMILYTYYNHFGQDNEMGPLETWEGHLARYIVDDRATE...      1\n",
            "4  NCYCEPFRGSNRCSLITSASKQGPRWDDNHEEELPYSCQADKADKT...      0\n"
          ]
        }
      ],
      "source": [
        "import random\n",
        "import pandas as pd\n",
        "\n",
        "# Aminoasitlerin tek harfli kodları\n",
        "aminoacids = list(\"ARNDCEQGHILKMFPSTWYV\")\n",
        "\n",
        "# Rastgele aminoasit dizilimi oluşturan fonksiyon\n",
        "def generate_amino_acid_sequence(length):\n",
        "    return ''.join(random.choices(aminoacids, k=length))\n",
        "\n",
        "# Veri kümesini oluşturma\n",
        "def create_amino_acid_dataset(num_sequences, sequence_length):\n",
        "    data = []\n",
        "    for _ in range(num_sequences):\n",
        "        sequence = generate_amino_acid_sequence(sequence_length)\n",
        "        label = random.choice([0, 1])  # 0: Hastalıksız, 1: Hastalık Riski\n",
        "        data.append([sequence, label])\n",
        "\n",
        "    df = pd.DataFrame(data, columns=['Amino_Acid_Sequence', 'Class'])\n",
        "    return df\n",
        "\n",
        "# 100 örnekten oluşan veri kümesini oluşturma (örneğin dizilim uzunluğu 50)\n",
        "amino_acid_df = create_amino_acid_dataset(num_sequences=100, sequence_length=50)\n",
        "\n",
        "# Veri kümesini CSV dosyası olarak kaydetme\n",
        "amino_acid_df.to_csv('amino_acid_dataset.csv', index=False)\n",
        "\n",
        "# Veri kümesine göz atalım\n",
        "print(amino_acid_df.head())\n"
      ]
    },
    {
      "cell_type": "code",
      "source": [
        "import random\n",
        "import pandas as pd\n",
        "\n",
        "# Aminoasitlerin tek harfli kodları\n",
        "aminoacids = list(\"ARNDCEQGHILKMFPSTWYV\")\n",
        "\n",
        "# Rastgele aminoasit dizilimi oluşturan fonksiyon (değişken uzunlukta)\n",
        "def generate_amino_acid_sequence(min_length, max_length):\n",
        "    length = random.randint(min_length, max_length)  # Dizilim uzunluğunu rastgele seç\n",
        "    return ''.join(random.choices(aminoacids, k=length))\n",
        "\n",
        "# Veri kümesini oluşturma\n",
        "def create_amino_acid_dataset(num_sequences, min_length, max_length):\n",
        "    data = []\n",
        "    for _ in range(num_sequences):\n",
        "        sequence = generate_amino_acid_sequence(min_length, max_length)\n",
        "        label = random.choice([0, 1])  # 0: Hastalıksız, 1: Hastalık Riski\n",
        "        data.append([sequence, label])\n",
        "\n",
        "    df = pd.DataFrame(data, columns=['Amino_Acid_Sequence', 'Class'])\n",
        "    return df\n",
        "\n",
        "# 100 örnekten oluşan veri kümesini oluşturma (örneğin dizilim uzunluğu 30 ile 100 arasında)\n",
        "amino_acid_df = create_amino_acid_dataset(num_sequences=100, min_length=30, max_length=100)\n",
        "\n",
        "# Veri kümesini CSV dosyası olarak kaydetme\n",
        "amino_acid_df.to_csv('variable_length_amino_acid_dataset.csv', index=False)\n",
        "\n",
        "# Veri kümesine göz atalım\n",
        "print(amino_acid_df.head())\n"
      ],
      "metadata": {
        "colab": {
          "base_uri": "https://localhost:8080/"
        },
        "id": "Jz7lNhmc5sLq",
        "outputId": "ab31bae6-0847-4ab5-f476-e47b22a1ee9c"
      },
      "execution_count": null,
      "outputs": [
        {
          "output_type": "stream",
          "name": "stdout",
          "text": [
            "                                 Amino_Acid_Sequence  Class\n",
            "0              HPRLGMGFGRGEVHWRNDAGWDYMCDASLCDYAHAVN      1\n",
            "1  QFKLNMIWMGCRMHFFRGDRRKRNFSYIANVYTTGFLGFLKWCIYP...      1\n",
            "2  ASSVEGYEIGEWRNAHEVLPGFMQENHDVGGLATHEPSRDIMWKPH...      0\n",
            "3  KMVVYNRLIPYLSQAMIQTSQRCFEIWKGFNELYCMQISEHQWGLE...      1\n",
            "4  SIYLELEDIWPTYMIPVVMIWHRERHGFHQKWRGWIWCFKDDKENR...      0\n"
          ]
        }
      ]
    },
    {
      "cell_type": "code",
      "source": [
        "import random\n",
        "import pandas as pd\n",
        "from sklearn.feature_extraction.text import CountVectorizer\n",
        "from sklearn.model_selection import train_test_split\n",
        "from sklearn.linear_model import LogisticRegression\n",
        "from sklearn.metrics import accuracy_score, classification_report\n",
        "\n",
        "# Aminoasitlerin tek harfli kodları\n",
        "aminoacids = list(\"ARNDCEQGHILKMFPSTWYV\")\n",
        "\n",
        "# Rastgele aminoasit dizilimi oluşturan fonksiyon (değişken uzunlukta)\n",
        "def generate_amino_acid_sequence(min_length, max_length):\n",
        "    length = random.randint(min_length, max_length)  # Dizilim uzunluğunu rastgele seç\n",
        "    return ''.join(random.choices(aminoacids, k=length))\n",
        "\n",
        "# Veri kümesini oluşturma\n",
        "def create_amino_acid_dataset(num_sequences, min_length, max_length):\n",
        "    data = []\n",
        "    for _ in range(num_sequences):\n",
        "        sequence = generate_amino_acid_sequence(min_length, max_length)\n",
        "        label = random.choice([0, 1])  # 0: Hastalıksız, 1: Hastalık Riski\n",
        "        data.append([sequence, label])\n",
        "\n",
        "    df = pd.DataFrame(data, columns=['Amino_Acid_Sequence', 'Class'])\n",
        "    return df\n",
        "\n",
        "# 100 örnekten oluşan veri kümesini oluşturma\n",
        "amino_acid_df = create_amino_acid_dataset(num_sequences=100, min_length=30, max_length=100)\n",
        "\n",
        "# Veri kümesini CSV dosyası olarak kaydetme\n",
        "amino_acid_df.to_csv('variable_length_amino_acid_dataset.csv', index=False)\n",
        "\n",
        "# Veri Kümesini Yükleme\n",
        "df = pd.read_csv('variable_length_amino_acid_dataset.csv')\n",
        "\n",
        "# Veri kümesini kontrol et\n",
        "print(\"Veri Kümesi:\")\n",
        "print(df.head())\n",
        "\n",
        "# Boş dizilimleri kaldır\n",
        "df = df[df['Amino_Acid_Sequence'].str.strip() != '']\n",
        "\n",
        "# Amino asit dizilimlerini sayısallaştırma\n",
        "vectorizer = CountVectorizer(analyzer='char', ngram_range=(1, 1))\n",
        "\n",
        "try:\n",
        "    X = vectorizer.fit_transform(df['Amino_Acid_Sequence'])  # Amino asit dizilimlerini sayısallaştır\n",
        "    y = df['Class']  # Sınıf etiketleri\n",
        "\n",
        "    # 2. Veriyi Eğitim ve Test Setlerine Ayırma\n",
        "    X_train, X_test, y_train, y_test = train_test_split(X, y, test_size=0.2, random_state=42)\n",
        "\n",
        "    # 3. Model Seçenekleri\n",
        "    model = LogisticRegression(max_iter=1000)\n",
        "\n",
        "    # 4. Modeli Eğitme\n",
        "    model.fit(X_train, y_train)\n",
        "\n",
        "    # 5. Model Performansını Değerlendirme\n",
        "    y_pred = model.predict(X_test)\n",
        "\n",
        "    # Sonuçların değerlendirilmesi\n",
        "    accuracy = accuracy_score(y_test, y_pred)\n",
        "    print(f\"Model Accuracy: {accuracy * 100:.2f}%\")\n",
        "    print(\"\\nClassification Report:\")\n",
        "    print(classification_report(y_test, y_pred))\n",
        "\n",
        "except ValueError as e:\n",
        "    print(f\"Hata: {e}\")\n"
      ],
      "metadata": {
        "colab": {
          "base_uri": "https://localhost:8080/"
        },
        "id": "CjzXvRA57uAP",
        "outputId": "5037e8d7-c53b-46e7-98fa-06e6062e3d01"
      },
      "execution_count": null,
      "outputs": [
        {
          "output_type": "stream",
          "name": "stdout",
          "text": [
            "Veri Kümesi:\n",
            "                                 Amino_Acid_Sequence  Class\n",
            "0              EWKTRVYVMVKFRPDRDGHFMWDCDYIKRRDCMYVGF      0\n",
            "1  YPFGNIISMVVPACEHLLFSFEAGITRRCQGLAGDNMYIFFNTEEA...      0\n",
            "2  EHKMHSKKRISGCKFYKTNFWGFSAQHWDFISDRPEDTDQIHNWDY...      1\n",
            "3  PAHEKWKWRMRGWRVMPMHYTPEMYPRVWDYEICGVEPFYEICPGI...      0\n",
            "4                   TAQENHWMFMLCWRSHQEFMGGQGPRMAQTYS      1\n",
            "Model Accuracy: 45.00%\n",
            "\n",
            "Classification Report:\n",
            "              precision    recall  f1-score   support\n",
            "\n",
            "           0       0.50      0.36      0.42        11\n",
            "           1       0.42      0.56      0.48         9\n",
            "\n",
            "    accuracy                           0.45        20\n",
            "   macro avg       0.46      0.46      0.45        20\n",
            "weighted avg       0.46      0.45      0.45        20\n",
            "\n"
          ]
        }
      ]
    },
    {
      "cell_type": "code",
      "source": [],
      "metadata": {
        "id": "ute_3vjK7uCt"
      },
      "execution_count": null,
      "outputs": []
    },
    {
      "cell_type": "code",
      "source": [],
      "metadata": {
        "id": "9u9u40197uFs"
      },
      "execution_count": null,
      "outputs": []
    },
    {
      "cell_type": "code",
      "source": [],
      "metadata": {
        "id": "Bs_KQ-v57uIe"
      },
      "execution_count": null,
      "outputs": []
    },
    {
      "cell_type": "code",
      "source": [],
      "metadata": {
        "id": "O3hW2TC47uQI"
      },
      "execution_count": null,
      "outputs": []
    },
    {
      "cell_type": "code",
      "source": [],
      "metadata": {
        "id": "9iKXLOne7uTD"
      },
      "execution_count": null,
      "outputs": []
    }
  ]
}